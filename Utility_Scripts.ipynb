{
 "cells": [
  {
   "cell_type": "markdown",
   "metadata": {},
   "source": [
    "Welcome to chapter two of Methods in Medical Informatics! In this section, we will be exploring utility scripts. Utility scripts are small programs that perform a specific task, very efficiently. We will be exploring seven different utility scripts. Lets begin!\n",
    "\n",
    "> Disclaimer: The content below is adapted from the book \"Methods in Medical Informatics - Fundamental of Healthcare Programming in Perl, Python, and Ruby\" by Jules J. Berman. All content is for testing, education, and teaching purposes only. No content will be openly released to the internet. "
   ]
  },
  {
   "cell_type": "markdown",
   "metadata": {
    "heading_collapsed": true
   },
   "source": [
    "# Random Numbers"
   ]
  },
  {
   "cell_type": "markdown",
   "metadata": {
    "hidden": true
   },
   "source": [
    "Random numbers are used extensively in Monte Carlo simulations of biological events. The simulations are also used in statistics (ie. calculating normal distributions), and can even provide simple computational approaches to formal mathematical problems. The script below will generate 10 random numbers between 0 and 1. Afterward, we will explore both the script and the script output in more detail.*\n",
    "\n",
    "**Description adapted from page 21 of \"Methods in Medical Informatics\".*"
   ]
  },
  {
   "cell_type": "code",
   "execution_count": null,
   "metadata": {
    "ExecuteTime": {
     "end_time": "2020-10-14T22:10:40.947833Z",
     "start_time": "2020-10-14T22:10:40.941284Z"
    },
    "hidden": true
   },
   "outputs": [],
   "source": [
    "import random\n",
    "for iterations in range(10):\n",
    "    print(random.uniform(0,1))\n",
    "#exit()"
   ]
  },
  {
   "cell_type": "markdown",
   "metadata": {
    "heading_collapsed": true,
    "hidden": true
   },
   "source": [
    "## Script Algorithm: Random Numbers"
   ]
  },
  {
   "cell_type": "markdown",
   "metadata": {
    "hidden": true
   },
   "source": [
    "Create an iterator that repeats 10 times. Generate and print a random number between zero and one.*"
   ]
  },
  {
   "cell_type": "code",
   "execution_count": null,
   "metadata": {
    "ExecuteTime": {
     "end_time": "2020-10-14T22:21:43.891369Z",
     "start_time": "2020-10-14T22:21:43.881344Z"
    },
    "hidden": true
   },
   "outputs": [],
   "source": [
    "import random\n",
    "# Create an iterator that repeats 10 times\n",
    "for iterations in range(10):\n",
    "    # Generate and print a random number between zero and one\n",
    "    print(random.uniform(0,1))"
   ]
  },
  {
   "cell_type": "markdown",
   "metadata": {
    "hidden": true
   },
   "source": [
    "**This section is adapted from section 2.1.1, \"Script Algorithm\", of page 21 from \"Methods in Medical Informatics\".*"
   ]
  },
  {
   "cell_type": "markdown",
   "metadata": {
    "heading_collapsed": true,
    "hidden": true
   },
   "source": [
    "## Analysis: Random Numbers"
   ]
  },
  {
   "cell_type": "markdown",
   "metadata": {
    "hidden": true
   },
   "source": [
    "Here is a sample output, listing 10 random numbers in the range 0 to 1:\n",
    "\n",
    "<ul>\n",
    "<li>0.9067868398909231</li>\n",
    "<li>0.5852017507830499</li>\n",
    "<li>0.4349374084781388</li>\n",
    "<li>0.8124019458322805</li>\n",
    "<li>0.07051266006231838</li>\n",
    "<li>0.22051335356334767</li>\n",
    "<li>0.12961389035176352</li>\n",
    "<li>0.2825144163889062</li>\n",
    "<li>0.14088841517263262</li>\n",
    "<li>0.21106545862352621</li>\n",
    "</ul>\n",
    "\n",
    "Had we chosen, we could have rendered an integer output by multiplying each random number by 10 and rounding up or down to the closest integer.*"
   ]
  },
  {
   "cell_type": "markdown",
   "metadata": {
    "hidden": true
   },
   "source": [
    "**This section is adapted from section 2.1.2, \"Analysis\", of page 22 in \"Methods in Medical Informatics\".*"
   ]
  },
  {
   "cell_type": "markdown",
   "metadata": {
    "heading_collapsed": true
   },
   "source": [
    "# Converting Non-ASCII to Base64 ASCII"
   ]
  },
  {
   "cell_type": "markdown",
   "metadata": {
    "hidden": true
   },
   "source": [
    "Almost every computer user has made the mistake of trying to view a non-ASCII file (such as a binary image, or a word-processed file stored in a proprietary format) in a plain-text viewer. Python contain standard modules that will convert any file into BASE64. We will be using the BASE64 modules when we start working with image data conveyed in XML files. The script below will convert the binary file in Base64 ASCII. It will then output the original binary string and the decoded ASCII string. Afterward, we will explore both the script and the script output in more detail.*\n",
    "\n",
    "> This script will utilize the file sample.bin. This is a binary file which contains which contain a single example string. Additional information [here](https://datamine.unc.edu/data-files/)\n",
    "\n"
   ]
  },
  {
   "cell_type": "markdown",
   "metadata": {
    "hidden": true
   },
   "source": [
    "**Description adapted from page 22 of \"Methods in Medical Informatics\".*"
   ]
  },
  {
   "cell_type": "code",
   "execution_count": null,
   "metadata": {
    "ExecuteTime": {
     "end_time": "2020-10-14T22:11:53.221448Z",
     "start_time": "2020-10-14T22:11:53.209444Z"
    },
    "hidden": true
   },
   "outputs": [],
   "source": [
    "import base64\n",
    "sample_file = open('sample.bin', 'rb')\n",
    "string = sample_file.read()\n",
    "sample_file.close()\n",
    "print(base64.encodebytes(string))\n",
    "print(base64.decodebytes(base64.encodebytes(string)))\n",
    "#exit()"
   ]
  },
  {
   "cell_type": "markdown",
   "metadata": {
    "heading_collapsed": true,
    "hidden": true
   },
   "source": [
    "## Script Algorithm: Converting Non-ASCII to Base64 ASCII"
   ]
  },
  {
   "cell_type": "markdown",
   "metadata": {
    "hidden": true
   },
   "source": [
    "Call base64 external module into your script"
   ]
  },
  {
   "cell_type": "code",
   "execution_count": null,
   "metadata": {
    "ExecuteTime": {
     "end_time": "2020-10-08T02:35:08.504968Z",
     "start_time": "2020-10-08T02:35:08.500937Z"
    },
    "hidden": true
   },
   "outputs": [],
   "source": [
    "import base64"
   ]
  },
  {
   "cell_type": "markdown",
   "metadata": {
    "hidden": true
   },
   "source": [
    "Read a sample file into a string variable"
   ]
  },
  {
   "cell_type": "code",
   "execution_count": null,
   "metadata": {
    "ExecuteTime": {
     "end_time": "2020-10-08T02:35:09.865154Z",
     "start_time": "2020-10-08T02:35:09.852188Z"
    },
    "hidden": true
   },
   "outputs": [],
   "source": [
    "sample_file = open('sample.bin', 'rb')\n",
    "string = sample_file.read()"
   ]
  },
  {
   "cell_type": "markdown",
   "metadata": {
    "hidden": true
   },
   "source": [
    "Pass the string variable to the base64 encoding method provided by the module. Print the base64e64 encoded string. "
   ]
  },
  {
   "cell_type": "code",
   "execution_count": null,
   "metadata": {
    "ExecuteTime": {
     "end_time": "2020-10-08T02:35:11.179370Z",
     "start_time": "2020-10-08T02:35:11.169398Z"
    },
    "hidden": true
   },
   "outputs": [],
   "source": [
    "print(base64.encodebytes(string))"
   ]
  },
  {
   "cell_type": "markdown",
   "metadata": {
    "hidden": true
   },
   "source": [
    "Pass the base 64 encoded string to the decode method provided by the module. Print the decoded string. "
   ]
  },
  {
   "cell_type": "code",
   "execution_count": null,
   "metadata": {
    "ExecuteTime": {
     "end_time": "2020-10-08T02:35:12.711627Z",
     "start_time": "2020-10-08T02:35:12.701639Z"
    },
    "hidden": true
   },
   "outputs": [],
   "source": [
    "print(base64.decodebytes(base64.encodebytes(string)))"
   ]
  },
  {
   "cell_type": "markdown",
   "metadata": {
    "hidden": true
   },
   "source": [
    "**This section is adapted from section 2.2.1, \"Script Algorithm\", of page 23 from \"Methods in Medical Informatics\".*"
   ]
  },
  {
   "cell_type": "markdown",
   "metadata": {
    "heading_collapsed": true,
    "hidden": true
   },
   "source": [
    "## Analysis: Converting Non-ACII to Base64 ASCII"
   ]
  },
  {
   "cell_type": "markdown",
   "metadata": {
    "hidden": true
   },
   "source": [
    "Here is an example of a string encoded into Base64:\n",
    "\n",
    "> b'SGVsbG8uLi4udGhpcyBpcyB0aGUgdGV4dA==\\n'<br/>\n",
    "b'Hello....this is the text'\n",
    "\n",
    "When we use Base64, we produce output file sthat are larger than the original (binary) files.*"
   ]
  },
  {
   "cell_type": "markdown",
   "metadata": {
    "hidden": true
   },
   "source": [
    "**This section is adapted from section 2.2.2, \"Analysis\", of page 24 in \"Methods in Medical Informatics\".*"
   ]
  },
  {
   "cell_type": "markdown",
   "metadata": {
    "heading_collapsed": true
   },
   "source": [
    "# Creating a Universally Unique Identifier"
   ]
  },
  {
   "cell_type": "markdown",
   "metadata": {
    "hidden": true
   },
   "source": [
    "The universally unique identifier (UUID) is an algorithm for creating unique string of uniform format composed of name and time information, and distributed with a central registration process. A typical UUID may look like this: \n",
    "4c108407-0570-4afb-9463-2831bcc6e4a4. The script below will generate a UUID number. Afterward, we will explore both the script and the script output in more detail.*"
   ]
  },
  {
   "cell_type": "markdown",
   "metadata": {
    "hidden": true
   },
   "source": [
    "**Description adapted from page 24 of \"Methods in Medical Informatics\".*"
   ]
  },
  {
   "cell_type": "code",
   "execution_count": null,
   "metadata": {
    "ExecuteTime": {
     "end_time": "2020-10-14T22:12:45.091130Z",
     "start_time": "2020-10-14T22:12:45.074432Z"
    },
    "hidden": true
   },
   "outputs": [],
   "source": [
    "import uuid\n",
    "print(uuid.uuid4())\n",
    "#exit()"
   ]
  },
  {
   "cell_type": "markdown",
   "metadata": {
    "heading_collapsed": true,
    "hidden": true
   },
   "source": [
    "## Script Algorithm: Creating a Universally Unique Identifier"
   ]
  },
  {
   "cell_type": "markdown",
   "metadata": {
    "hidden": true
   },
   "source": [
    "Call external module that creates UUID strings.*"
   ]
  },
  {
   "cell_type": "code",
   "execution_count": null,
   "metadata": {
    "hidden": true
   },
   "outputs": [],
   "source": [
    "import uuid"
   ]
  },
  {
   "cell_type": "markdown",
   "metadata": {
    "hidden": true
   },
   "source": [
    "Create a new UUID object. Print the UUID string. n"
   ]
  },
  {
   "cell_type": "code",
   "execution_count": null,
   "metadata": {
    "hidden": true
   },
   "outputs": [],
   "source": [
    "print(uuid.uuid4())"
   ]
  },
  {
   "cell_type": "markdown",
   "metadata": {
    "hidden": true
   },
   "source": [
    "**This section is adapted from section 2.3.1, \"Script Algorithm\", of pages 24-25 from \"Methods in Medical Informatics\".*"
   ]
  },
  {
   "cell_type": "markdown",
   "metadata": {
    "heading_collapsed": true,
    "hidden": true
   },
   "source": [
    "## Analysis: Creating a Universally Unique Identifier"
   ]
  },
  {
   "cell_type": "markdown",
   "metadata": {
    "hidden": true
   },
   "source": [
    "The algorithms for creating UUIDs, and all of the standard version sof the algorithm, are described in a publicly available Request for Comments file: [https://www.ietf.org/rfc/rfc4122.txt](https://www.ietf.org/rfc/rfc4122.txt)*."
   ]
  },
  {
   "cell_type": "markdown",
   "metadata": {
    "hidden": true
   },
   "source": [
    "**This section is adapted from section 2.3.2, \"Analysis\", of page 25 in \"Methods in Medical Informatics\".*"
   ]
  },
  {
   "cell_type": "markdown",
   "metadata": {
    "heading_collapsed": true
   },
   "source": [
    "# Splitting Text into Sentences"
   ]
  },
  {
   "cell_type": "markdown",
   "metadata": {
    "hidden": true
   },
   "source": [
    "Many text parsing algorithms proceed sentence by sentence, not line by line. This is important in machine translation and natural language exercises that  use grammar rule to extract concepts whose parts are scattered through the sentence. It is not uncommon for an information specialist to begin a script by extracting the individual sentences from a narrative text. The script below will split the following string into sentences:\n",
    "\n",
    "> 'I am here. You are here. We are all here.'\n",
    "\n",
    "Afterward, we will explore both the script and the script output in more detail.*\n",
    "\n",
    "**Description adapted from page 25 of \"Methods in Medical Informatics\".*"
   ]
  },
  {
   "cell_type": "code",
   "execution_count": null,
   "metadata": {
    "ExecuteTime": {
     "end_time": "2020-10-14T22:13:09.021096Z",
     "start_time": "2020-10-14T22:13:09.014072Z"
    },
    "hidden": true
   },
   "outputs": [],
   "source": [
    "import re\n",
    "all_text = 'I am here. You are here. We are all here.'\n",
    "sentence_list = re.split(r'[\\.\\!\\?] +(?=[A-Z])', all_text)\n",
    "print('\\n'.join(sentence_list))"
   ]
  },
  {
   "cell_type": "markdown",
   "metadata": {
    "heading_collapsed": true,
    "hidden": true
   },
   "source": [
    "## Script Algorithm: Splitting Text into Sentences"
   ]
  },
  {
   "cell_type": "markdown",
   "metadata": {
    "hidden": true
   },
   "source": [
    "Start with a variable containing text*"
   ]
  },
  {
   "cell_type": "code",
   "execution_count": null,
   "metadata": {
    "hidden": true
   },
   "outputs": [],
   "source": [
    "import re\n",
    "all_text = 'I am here. You are here. We are all here.'"
   ]
  },
  {
   "cell_type": "markdown",
   "metadata": {
    "hidden": true
   },
   "source": [
    "Split the text wherever there is an occurrence of a period (or other sentence delimiter, such as a question mark or quotation mark), followed by one or more spaces, followed by an uppercase letter"
   ]
  },
  {
   "cell_type": "code",
   "execution_count": null,
   "metadata": {
    "hidden": true
   },
   "outputs": [],
   "source": [
    "sentence_list = re.split(r'[\\.\\!\\?] +(?=[A-Z])', all_text)"
   ]
  },
  {
   "cell_type": "markdown",
   "metadata": {
    "hidden": true
   },
   "source": [
    "Place the resulting sentences into an array"
   ]
  },
  {
   "cell_type": "code",
   "execution_count": null,
   "metadata": {
    "hidden": true
   },
   "outputs": [],
   "source": [
    "print('\\n'.join(sentence_list))"
   ]
  },
  {
   "cell_type": "markdown",
   "metadata": {
    "hidden": true
   },
   "source": [
    "**This section is adapted from section 2.4.1, \"Script Algorithm\", of page 26 from \"Methods in Medical Informatics\".*"
   ]
  },
  {
   "cell_type": "markdown",
   "metadata": {
    "heading_collapsed": true,
    "hidden": true
   },
   "source": [
    "## Analysis: Splitting Text into Sentences"
   ]
  },
  {
   "cell_type": "markdown",
   "metadata": {
    "hidden": true
   },
   "source": [
    "The input is:\n",
    "\n",
    "> 'I am here. You are here. We are all here.'\n",
    "\n",
    "The output is:\n",
    "\n",
    "> I am here <br/> You are here <br/> We are all here.\n",
    "\n",
    "Notice that only the last sentence is terminated by a period. this is because the last sentence does not match the regex pattern. The period of the last sentence is not followed by one or more spaces and an uppercase letter. The last sentence is included in the output only because it was split from the prior match. There are many ways by which we could have corrected for this particular limitation, but sometimes a programmer need sot decide when the performance of a less-than-perfect script is sufficient for his/her intended purposes.*\n",
    "\n",
    "**This section is adapted from section 2.6.2, \"Analysis\", of pages 26-27 in \"Methods in Medical Informatics\".*"
   ]
  },
  {
   "cell_type": "markdown",
   "metadata": {
    "heading_collapsed": true
   },
   "source": [
    "# One-Way Hash on a Name"
   ]
  },
  {
   "cell_type": "markdown",
   "metadata": {
    "hidden": true
   },
   "source": [
    "A one-way hash is an algorithm that transforms a string into another string in such a way that the original string cannot be calculated by operations on the hash value. Thus, this operation is referred to as a \"one-way\" hash. Examples of public domain one-way hash algorithms are MD5 and Secure Hash Algorithm (SHA). These differ from encryption protocols that produce an output that can be decrypted by a second computation on the encrypted string. \n",
    "\n",
    "In theory, one-way hashes can be used to anonymize patient records while still permitting researches to accrue data over time to a specific patient's record. Names of patients and other identifiers are replaced by their one-way hash values. If a patient returns to the hospital and has an additional procedure performed, the record identifier, when hashed, will produce the same hash vale held by the original dataset record. The investigator simply adds the data to the \"Anonymous\" data set record containing the same one-way hash value. Since no identifier in the anonymized data set record can be used to link back to the patient, confidentiality is preserved. \n",
    "\n",
    "The script below will create a hash value for an inputted name. Afterward, we will explore both the script and the script output in more detail.*\n",
    "\n",
    "**Description adapted from pages 27-28 of \"Methods in Medical Informatics\".*"
   ]
  },
  {
   "cell_type": "code",
   "execution_count": null,
   "metadata": {
    "ExecuteTime": {
     "end_time": "2020-10-14T22:14:15.690362Z",
     "start_time": "2020-10-14T22:14:12.497091Z"
    },
    "hidden": true
   },
   "outputs": [],
   "source": [
    "import sys\n",
    "import string\n",
    "import hashlib\n",
    "line = input('What is your full name?\\n')\n",
    "line = line.encode('utf-8')\n",
    "md5_object = hashlib.md5()\n",
    "md5_object.update(line)\n",
    "print(md5_object.hexdigest())\n",
    "#exit()"
   ]
  },
  {
   "cell_type": "markdown",
   "metadata": {
    "heading_collapsed": true,
    "hidden": true
   },
   "source": [
    "## Script Algorithm: One-Way Hash on a Name"
   ]
  },
  {
   "cell_type": "markdown",
   "metadata": {
    "hidden": true
   },
   "source": [
    "Call an external MD5 module from your script*"
   ]
  },
  {
   "cell_type": "code",
   "execution_count": null,
   "metadata": {
    "hidden": true
   },
   "outputs": [],
   "source": [
    "import sys\n",
    "import string\n",
    "import hashlib"
   ]
  },
  {
   "cell_type": "markdown",
   "metadata": {
    "hidden": true
   },
   "source": [
    "Prompt the user to enter a name"
   ]
  },
  {
   "cell_type": "code",
   "execution_count": null,
   "metadata": {
    "hidden": true
   },
   "outputs": [],
   "source": [
    "line = input('What is your full name?\\n')\n",
    "line = line.encode('utf-8')"
   ]
  },
  {
   "cell_type": "markdown",
   "metadata": {
    "hidden": true
   },
   "source": [
    "Pass the entered phrase to the MD5 method module"
   ]
  },
  {
   "cell_type": "code",
   "execution_count": null,
   "metadata": {
    "hidden": true
   },
   "outputs": [],
   "source": [
    "md5_object = hashlib.md5()\n",
    "md5_object.update(line)"
   ]
  },
  {
   "cell_type": "markdown",
   "metadata": {
    "hidden": true
   },
   "source": [
    "Print the returned one-way hash value"
   ]
  },
  {
   "cell_type": "code",
   "execution_count": null,
   "metadata": {
    "ExecuteTime": {
     "end_time": "2020-10-08T02:49:59.908532Z",
     "start_time": "2020-10-08T02:49:59.838755Z"
    },
    "hidden": true
   },
   "outputs": [],
   "source": [
    "print(md5_object.hexdigest())\n",
    "#exit()"
   ]
  },
  {
   "cell_type": "markdown",
   "metadata": {
    "hidden": true
   },
   "source": [
    "**This section is adapted from section 2.5.1, \"Script Algorithm\", of page 28 from \"Methods in Medical Informatics\".*"
   ]
  },
  {
   "cell_type": "markdown",
   "metadata": {
    "heading_collapsed": true,
    "hidden": true
   },
   "source": [
    "## Analysis: One-Way Hash on a Name"
   ]
  },
  {
   "cell_type": "markdown",
   "metadata": {
    "hidden": true
   },
   "source": [
    "There are several available one-way hash algorithms. MD5 is available as a standard module for many different programming languages, but the SHA algorithm is also available. Notice the output is case sensitive. THe output for \"Joe Smith\" is completely different from the hash values of \"joe smith\". Those who wish to substitute a hash value for a name must be careful to sue a consistent format for each name.*\n",
    "\n",
    "**This section is adapted from section 2.5.2, \"Analysis\", of page 22 in \"Methods in Medical Informatics\".*"
   ]
  },
  {
   "cell_type": "markdown",
   "metadata": {
    "heading_collapsed": true
   },
   "source": [
    "# One-Way Hash on a File"
   ]
  },
  {
   "cell_type": "markdown",
   "metadata": {
    "hidden": true
   },
   "source": [
    "All values produced by the one-way hash algorithm are fixed-length. The one-way hash value for a 10 megabyte file will have the same length as a one-way hash value for a patient's name. A change of a single character in a file will result in a completely different one-way has value for the file. \n",
    "\n",
    "By sending a one-way hash value for a file, along with the file itself, you can, with a high degree of confidence, authenticate your file. When others receive your file, along with its MD5 hash that you created, they can recompute the MD5 hash on the file and compare the output with the MD5 hash that you sent. If the two hash numbers are identical, then you can be fairly certain that the file was not altered form the original file (for which the original MD5 value was computed). \n",
    "\n",
    "> This script will utilize the file [us.gif](http://datamine.unc.edu/jupyter/view/Methods-in-Medical-Informatics-master/US.GIF). This is an image file which contains an image of the United States . Additional information [here](https://datamine.unc.edu/data-files/)\n",
    "\n",
    "The script below will create a hash value for a specified file. Afterward, we will explore both the script and the script output in more detail.*\n",
    "\n",
    "**Description adapted from page 30 of \"Methods in Medical Informatics\".*"
   ]
  },
  {
   "cell_type": "code",
   "execution_count": null,
   "metadata": {
    "ExecuteTime": {
     "end_time": "2020-10-15T01:50:54.746587Z",
     "start_time": "2020-10-15T01:50:54.726639Z"
    },
    "hidden": true
   },
   "outputs": [],
   "source": [
    "import hashlib\n",
    "import string\n",
    "md5_object = hashlib.md5()\n",
    "sample_file = open('US.GIF', 'rb')\n",
    "string = sample_file.read()\n",
    "sample_file.close()\n",
    "md5_object.update(string)\n",
    "md5_string = md5_object.digest()\n",
    "print(''.join([ '%02X' % x for x in md5_string]).strip())\n",
    "#exit()"
   ]
  },
  {
   "cell_type": "markdown",
   "metadata": {
    "heading_collapsed": true,
    "hidden": true
   },
   "source": [
    "## Script Algorithm: One-Way Hash on a File"
   ]
  },
  {
   "cell_type": "markdown",
   "metadata": {
    "hidden": true
   },
   "source": [
    "Import an external standard module that computes the MD5 one-way hash.*"
   ]
  },
  {
   "cell_type": "code",
   "execution_count": null,
   "metadata": {
    "ExecuteTime": {
     "end_time": "2020-10-15T01:03:06.349436Z",
     "start_time": "2020-10-15T01:03:06.339466Z"
    },
    "hidden": true
   },
   "outputs": [],
   "source": [
    "import hashlib\n",
    "import string"
   ]
  },
  {
   "cell_type": "markdown",
   "metadata": {
    "hidden": true
   },
   "source": [
    "Read the contents of the file into a string. In this case, we use the file, \"us.gif\"."
   ]
  },
  {
   "cell_type": "code",
   "execution_count": null,
   "metadata": {
    "ExecuteTime": {
     "end_time": "2020-10-15T01:03:07.724993Z",
     "start_time": "2020-10-15T01:03:07.705042Z"
    },
    "hidden": true
   },
   "outputs": [],
   "source": [
    "sample_file = open('us.gif', 'rb')\n",
    "string = sample_file.read()\n",
    "sample_file.close()"
   ]
  },
  {
   "cell_type": "markdown",
   "metadata": {
    "hidden": true
   },
   "source": [
    "Call the module function to create MD5 digest value on the contents of the file. "
   ]
  },
  {
   "cell_type": "code",
   "execution_count": null,
   "metadata": {
    "ExecuteTime": {
     "end_time": "2020-10-15T01:03:09.233991Z",
     "start_time": "2020-10-15T01:03:09.084730Z"
    },
    "hidden": true
   },
   "outputs": [],
   "source": [
    "md5_object.update(string)\n",
    "md5_string = md5_object.digest()"
   ]
  },
  {
   "cell_type": "markdown",
   "metadata": {
    "hidden": true
   },
   "source": [
    "Print out the digest value in hex format"
   ]
  },
  {
   "cell_type": "code",
   "execution_count": null,
   "metadata": {
    "hidden": true
   },
   "outputs": [],
   "source": [
    "print(''.join([ '%02X' % x for x in md5_string]).strip())\n",
    "#exit()"
   ]
  },
  {
   "cell_type": "markdown",
   "metadata": {
    "hidden": true
   },
   "source": [
    "**This section is adapted from section 2.6.1, \"Script Algorithm\", of page 30 from \"Methods in Medical Informatics\".*"
   ]
  },
  {
   "cell_type": "markdown",
   "metadata": {
    "heading_collapsed": true,
    "hidden": true
   },
   "source": [
    "## Analysis"
   ]
  },
  {
   "cell_type": "markdown",
   "metadata": {
    "hidden": true
   },
   "source": [
    "The script output is:\n",
    "\n",
    "> 39842F5ED1516D7C541155FD2B093B36\n",
    "\n",
    "The alphanumeric sequence is the MD5 message digest of the us.gif image file. Changing a single byte in the original file, and repeating the MD5 digest operation will yield an entirely different digest value.*\n",
    "\n",
    "**This section is adapted from section 2.6.2, \"Analysis\", of page 31 in \"Methods in Medical Informatics\".*"
   ]
  },
  {
   "cell_type": "markdown",
   "metadata": {
    "heading_collapsed": true
   },
   "source": [
    "# Prime Number Generator"
   ]
  },
  {
   "cell_type": "markdown",
   "metadata": {
    "hidden": true
   },
   "source": [
    "A prime number, by definition, cannot be the product of two integers. If a number is prime, then there will be no smaller number that will divide into the number without producing a remainder. To determine if a number is prime, we can test each smaller\n",
    "number, to see if it divides into the number without leaving a remainder. If not, then the number is a prime.\n",
    "\n",
    "We can use a little trick to shorten the process, by stopping the iterations when we have examined every smaller number in ascending order up to the square root of the number. If there were an integer larger than the square root of the number that could be multiplied by another integer to give the number, then the other integer would need to be smaller than the square root of the number (otherwise, the two integers would produce a product larger than the number). But we have already tested all of\n",
    "the numbers smaller than the square root of the number, and they all yielded a nonzero remainder. So we do not need to test the integers greater than the square root of the number.\n",
    "\n",
    "Here is how you can generate a very long list of prime numbers with just a few lines of code. Afterward, we will explore both the script and the script output in more detail.\n",
    "\n",
    "**Description adapted from pages 31-32 of \"Methods in Medical Informatics\".*"
   ]
  },
  {
   "cell_type": "code",
   "execution_count": null,
   "metadata": {
    "ExecuteTime": {
     "end_time": "2020-10-15T01:13:26.049627Z",
     "start_time": "2020-10-15T01:13:25.918275Z"
    },
    "hidden": true
   },
   "outputs": [],
   "source": [
    "import math\n",
    "print('2\\n3')\n",
    "state = 1\n",
    "for i in range(4, 10000):\n",
    "    upper = math.sqrt(i)\n",
    "    upper = int(upper)\n",
    "    for thing in range(2, upper):\n",
    "        state = 1\n",
    "        if (i % thing == 0):\n",
    "            state = 0\n",
    "            break\n",
    "    if (state == 1):\n",
    "        print(i,)\n",
    "#exit()"
   ]
  },
  {
   "cell_type": "markdown",
   "metadata": {
    "heading_collapsed": true,
    "hidden": true
   },
   "source": [
    "## Script Algorithm: A Prime Number Generator"
   ]
  },
  {
   "cell_type": "markdown",
   "metadata": {
    "hidden": true
   },
   "source": [
    "Create a loop for all of the integers up to an arbitrary maximum (1000 in this case). If the integer is prime, then there will be no smaller integer that will divide in to the number with a remainder of 0.*"
   ]
  },
  {
   "cell_type": "code",
   "execution_count": null,
   "metadata": {
    "ExecuteTime": {
     "end_time": "2020-10-15T01:13:20.038433Z",
     "start_time": "2020-10-15T01:13:19.951661Z"
    },
    "hidden": true
   },
   "outputs": [],
   "source": [
    "# Create loop up to a maximum\n",
    "for i in range(4, 10000):\n",
    "    upper = math.sqrt(i)\n",
    "    upper = int(upper)\n",
    "    # loop through to examine for any integer that can divide into the larger number with no remainder\n",
    "    for thing in range(2, upper):\n",
    "        state = 1\n",
    "        if (i % thing == 0):\n",
    "            state = 0\n",
    "            break\n",
    "    if (state == 1):\n",
    "        print(i,)"
   ]
  },
  {
   "cell_type": "markdown",
   "metadata": {
    "hidden": true
   },
   "source": [
    "**This section is adapted from section 2.7.1, \"Script Algorithm\", of page 32 from \"Methods in Medical Informatics\".*"
   ]
  },
  {
   "cell_type": "markdown",
   "metadata": {
    "heading_collapsed": true,
    "hidden": true
   },
   "source": [
    "## Analysis: A Prime Number Generator"
   ]
  },
  {
   "cell_type": "markdown",
   "metadata": {
    "hidden": true
   },
   "source": [
    "Every biomedical scientist who uses medical records and other confidential data can benefit by understanding the role of prime numbers. Almost every cryptographic method relies on methods that produce large prime numbers, which, when multiplied together, produce a number that cannot be factored by a quick computation. Here is the partial output of our method for producing prime numbers:*\n",
    "\n",
    "<ul>\n",
    "<li>9887</li>\n",
    "<li>9901</li>\n",
    "<li>9907</li>\n",
    "<li>9923</li>\n",
    "<li>9929</li>\n",
    "<li>9931</li>\n",
    "<li>9941</li>\n",
    "<li>9949</li>\n",
    "<li>9967</li>\n",
    "<li>9973</li>\n",
    "</ul>\n",
    "\n",
    "**This section is adapted from section 2.7.2, \"Analysis\", of page 34 in \"Methods in Medical Informatics\".*"
   ]
  }
 ],
 "metadata": {
  "kernelspec": {
   "display_name": "Python 3",
   "language": "python",
   "name": "python3"
  },
  "language_info": {
   "codemirror_mode": {
    "name": "ipython",
    "version": 3
   },
   "file_extension": ".py",
   "mimetype": "text/x-python",
   "name": "python",
   "nbconvert_exporter": "python",
   "pygments_lexer": "ipython3",
   "version": "3.7.4"
  },
  "toc": {
   "base_numbering": 1,
   "nav_menu": {},
   "number_sections": true,
   "sideBar": true,
   "skip_h1_title": false,
   "title_cell": "Table of Contents",
   "title_sidebar": "Contents",
   "toc_cell": false,
   "toc_position": {},
   "toc_section_display": true,
   "toc_window_display": false
  }
 },
 "nbformat": 4,
 "nbformat_minor": 4
}
