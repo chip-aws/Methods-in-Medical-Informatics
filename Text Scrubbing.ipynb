{
 "cells": [
  {
   "cell_type": "markdown",
   "metadata": {},
   "source": [
    "# Text Scrubber for Deidentifying Confidential text"
   ]
  },
  {
   "cell_type": "code",
   "execution_count": 7,
   "metadata": {
    "ExecuteTime": {
     "end_time": "2020-11-14T21:11:17.006164Z",
     "start_time": "2020-11-14T21:11:16.837567Z"
    }
   },
   "outputs": [
    {
     "name": "stdout",
     "output_type": "stream",
     "text": [
      "What would you like to scrub?\n"
     ]
    },
    {
     "ename": "TypeError",
     "evalue": "'lastword' is an invalid keyword argument for print()",
     "output_type": "error",
     "traceback": [
      "\u001b[1;31m---------------------------------------------------------------------------\u001b[0m",
      "\u001b[1;31mTypeError\u001b[0m                                 Traceback (most recent call last)",
      "\u001b[1;32m<ipython-input-7-91e8424da39b>\u001b[0m in \u001b[0;36m<module>\u001b[1;34m\u001b[0m\n\u001b[0;32m     19\u001b[0m     \u001b[1;32melse\u001b[0m\u001b[1;33m:\u001b[0m\u001b[1;33m\u001b[0m\u001b[1;33m\u001b[0m\u001b[0m\n\u001b[0;32m     20\u001b[0m         print(lastword,\n\u001b[1;32m---> 21\u001b[1;33m         lastword = \" *\")\n\u001b[0m\u001b[0;32m     22\u001b[0m     \u001b[1;32mif\u001b[0m \u001b[1;33m(\u001b[0m\u001b[0mi\u001b[0m \u001b[1;33m==\u001b[0m \u001b[0mlen\u001b[0m\u001b[1;33m(\u001b[0m\u001b[0mlinearray\u001b[0m\u001b[1;33m)\u001b[0m \u001b[1;33m+\u001b[0m \u001b[1;36m1\u001b[0m\u001b[1;33m)\u001b[0m\u001b[1;33m:\u001b[0m\u001b[1;33m\u001b[0m\u001b[1;33m\u001b[0m\u001b[0m\n\u001b[0;32m     23\u001b[0m         \u001b[0mprint\u001b[0m\u001b[1;33m(\u001b[0m\u001b[0mlastword\u001b[0m\u001b[1;33m)\u001b[0m\u001b[1;33m\u001b[0m\u001b[1;33m\u001b[0m\u001b[0m\n",
      "\u001b[1;31mTypeError\u001b[0m: 'lastword' is an invalid keyword argument for print()"
     ]
    }
   ],
   "source": [
    "import sys, re, string\n",
    "doub_file = open(\"./K11946_Files/DOUBLETS.TXT\", \"r\")\n",
    "doub_hash = {}\n",
    "for line in doub_file:\n",
    "    line.rstrip(line)\n",
    "    doub_hash[line] = \" \"\n",
    "doub_file.close()\n",
    "print(\"What would you like to scrub?\")\n",
    "line = sys.stdin.readline()\n",
    "line = line.lower()\n",
    "line = line.rstrip()\n",
    "linearray = re.split(r' +', line)\n",
    "lastword = \"*\"\n",
    "for i in range(0, len(linearray)):\n",
    "    doublet = \" \".join(linearray[i:i+2])\n",
    "    if doublet in doub_hash:\n",
    "        print(\" \" + linearray[i],\n",
    "        lastword = \" \" + linearray[i+1])\n",
    "    else:\n",
    "        print(lastword,\n",
    "        lastword = \" *\")\n",
    "    if (i == len(linearray) + 1):\n",
    "        print(lastword)"
   ]
  }
 ],
 "metadata": {
  "kernelspec": {
   "display_name": "Python 3",
   "language": "python",
   "name": "python3"
  },
  "language_info": {
   "codemirror_mode": {
    "name": "ipython",
    "version": 3
   },
   "file_extension": ".py",
   "mimetype": "text/x-python",
   "name": "python",
   "nbconvert_exporter": "python",
   "pygments_lexer": "ipython3",
   "version": "3.7.4"
  },
  "toc": {
   "base_numbering": 1,
   "nav_menu": {},
   "number_sections": true,
   "sideBar": true,
   "skip_h1_title": false,
   "title_cell": "Table of Contents",
   "title_sidebar": "Contents",
   "toc_cell": false,
   "toc_position": {},
   "toc_section_display": true,
   "toc_window_display": false
  }
 },
 "nbformat": 4,
 "nbformat_minor": 4
}
