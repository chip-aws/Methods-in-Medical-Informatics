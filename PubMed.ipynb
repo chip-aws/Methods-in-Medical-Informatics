{
 "cells": [
  {
   "cell_type": "markdown",
   "metadata": {},
   "source": [
    "# Building a Large Text Corpus of Biomedical Information"
   ]
  },
  {
   "cell_type": "code",
   "execution_count": null,
   "metadata": {},
   "outputs": [],
   "source": [
    "import string, re\n",
    "in_text = open(“c:\\\\big\\\\cancer_gene_pubmed.txt”, “r”)\n",
    "out_text = open(“cancer_gene_titles.txt”, “w”)\n",
    "clump = “”\n",
    "for line in in_text:\n",
    "    record_match = re.match(r’PMID- ‘, line)\n",
    "    if record_match:\n",
    "        title_match = re.search(r’\\nTI -(.+)\\n[A-Z]{2} -’, clump)\n",
    "        if title_match:\n",
    "            title = title_match.group(1)\n",
    "            title = string.lower(title)\n",
    "            title = re.sub(r’\\’s’, “”, title)\n",
    "            title = re.sub(r’\\W’, “ “, title)\n",
    "            title = re.sub(r’omas’, “oma”, title)\n",
    "            title = re.sub(r’tumour’, “tumor”, title)\n",
    "            title = re.sub(r’\\n’, “ “, title)\n",
    "            title = string.rstrip(title)\n",
    "            title = string.lstrip(title)\n",
    "            title = re.sub(r’ +’, “ “, title)\n",
    "            text_match = re.search(r’[a-z]+’, title)\n",
    "            if not text_match:\n",
    "                clump = “”\n",
    "                continue\n",
    "            print>>out_text, title\n",
    "        clump = “”\n",
    "    else:\n",
    "        clump = clump + line"
   ]
  },
  {
   "cell_type": "markdown",
   "metadata": {},
   "source": [
    "# Creating a List of Doublets from a PubMed Corpus"
   ]
  },
  {
   "cell_type": "code",
   "execution_count": null,
   "metadata": {},
   "outputs": [],
   "source": [
    "import re\n",
    "import string\n",
    "intext = open(“c:\\\\big\\\\cancer_gene_titles.txt”, “r”)\n",
    "outtext = open(“doubs.txt”, “w”)\n",
    "doubhash = {}\n",
    "doublet = “”\n",
    "doub_match = re.compile(r’^[a-z]+ [a-z]+$’)\n",
    "for line in intext:\n",
    "    line = line.strip()\n",
    "    line_array = re.split(r’\\s+’,line)\n",
    "    line_array.append(“”)\n",
    "    for i in range(len(line_array)-1):\n",
    "        doublet = line_array[i] + “ “ + line_array[i+1]\n",
    "        if doub_match.search(doublet):\n",
    "            doubhash[doublet]=””\n",
    "for k,v in doubhash.iteritems():\n",
    "    print>>outtext, k"
   ]
  },
  {
   "cell_type": "markdown",
   "metadata": {},
   "source": [
    "# Downloading Gene Synonyms from PubMed"
   ]
  },
  {
   "cell_type": "markdown",
   "metadata": {},
   "source": [
    "# Downloading Protein Synonyms from PubMed"
   ]
  }
 ],
 "metadata": {
  "kernelspec": {
   "display_name": "Python 3",
   "language": "python",
   "name": "python3"
  },
  "language_info": {
   "codemirror_mode": {
    "name": "ipython",
    "version": 3
   },
   "file_extension": ".py",
   "mimetype": "text/x-python",
   "name": "python",
   "nbconvert_exporter": "python",
   "pygments_lexer": "ipython3",
   "version": "3.7.4"
  },
  "toc": {
   "base_numbering": 1,
   "nav_menu": {},
   "number_sections": true,
   "sideBar": true,
   "skip_h1_title": false,
   "title_cell": "Table of Contents",
   "title_sidebar": "Contents",
   "toc_cell": false,
   "toc_position": {},
   "toc_section_display": true,
   "toc_window_display": false
  }
 },
 "nbformat": 4,
 "nbformat_minor": 4
}
