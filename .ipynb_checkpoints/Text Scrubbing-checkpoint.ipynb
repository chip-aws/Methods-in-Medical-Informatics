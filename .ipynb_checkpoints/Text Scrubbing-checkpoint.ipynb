{
 "cells": [
  {
   "cell_type": "markdown",
   "metadata": {},
   "source": [
    "# Text Scrubber for Deidentifying Confidential text"
   ]
  },
  {
   "cell_type": "code",
   "execution_count": null,
   "metadata": {},
   "outputs": [],
   "source": [
    "import sys, re, string\n",
    "doub_file = open(“c:\\\\ftp\\\\doublets.txt”, “r”)\n",
    "doub_hash = {}\n",
    "for line in doub_file:\n",
    "    line = string.rstrip(line)\n",
    "    doub_hash[line] = “ “\n",
    "doub_file.close()\n",
    "print “What would you like to scrub?”\n",
    "line = sys.stdin.readline()\n",
    "line = string.lower(line)\n",
    "line = string.rstrip(line)\n",
    "linearray = re.split(r’ +’, line)\n",
    "lastword = “*”\n",
    "for i in range(0, len(linearray)):\n",
    "    doublet = “ “.join(linearray[i:i+2])\n",
    "    if doub_hash.has_key(doublet):\n",
    "        print “ “ + linearray[i],\n",
    "        lastword = “ “ + linearray[i+1]\n",
    "    else:\n",
    "        print lastword,\n",
    "        lastword = “ *”\n",
    "    if (i == len(linearray) + 1):\n",
    "        print lastword"
   ]
  }
 ],
 "metadata": {
  "kernelspec": {
   "display_name": "Python 3",
   "language": "python",
   "name": "python3"
  },
  "language_info": {
   "codemirror_mode": {
    "name": "ipython",
    "version": 3
   },
   "file_extension": ".py",
   "mimetype": "text/x-python",
   "name": "python",
   "nbconvert_exporter": "python",
   "pygments_lexer": "ipython3",
   "version": "3.7.4"
  },
  "toc": {
   "base_numbering": 1,
   "nav_menu": {},
   "number_sections": true,
   "sideBar": true,
   "skip_h1_title": false,
   "title_cell": "Table of Contents",
   "title_sidebar": "Contents",
   "toc_cell": false,
   "toc_position": {},
   "toc_section_display": true,
   "toc_window_display": false
  }
 },
 "nbformat": 4,
 "nbformat_minor": 4
}
