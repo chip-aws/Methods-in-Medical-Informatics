{
 "cells": [
  {
   "cell_type": "markdown",
   "metadata": {},
   "source": [
    "Welcome to chapter five of Methods in Medical Informatics! In this section, we will be exploring Medical Subject Headings or MeSH. MeSH is a medical terminology hosted by the National Library of Medicine. Terminologies are important for properly organizing and indexing collection of documents. MeSH is important for organizing and indexing medical documents. Lets begin!\n",
    "\n",
    "> Disclaimer: The content below is adapted from the book \"Methods in Medical Informatics - Fundamental of Healthcare Programming in Perl, Python, and Ruby\" by Jules J. Berman. All content is for testing, education, and teaching purposes only. No content will be openly released to the internet. "
   ]
  },
  {
   "cell_type": "markdown",
   "metadata": {
    "heading_collapsed": true
   },
   "source": [
    "# Determining the Hierarchical Lineage for MeSH Terms"
   ]
  },
  {
   "cell_type": "markdown",
   "metadata": {
    "hidden": true
   },
   "source": [
    "It is possible to write a script that parses through every MeSH entry, finds all of the MeSH numbers for the entry, determines the parent terms for the MeSH numbers, determines all of the alternate MeSH numbers for the parent terms, then find all of the grandparent terms for all of the parent terms, etc., until all of the hierarchical terms for the term are found*\n",
    "\n",
    "> This script will utilize the file [d2020.bin](https://datamine.unc.edu/data-files/). This is a binary file which contains tens of thousands of MeSH terms. Additional information [here](https://datamine.unc.edu/data-files/)\n",
    "\n",
    "**Adapted from page 83 of \"Methods in Medical Informatics\".*"
   ]
  },
  {
   "cell_type": "code",
   "execution_count": null,
   "metadata": {
    "ExecuteTime": {
     "start_time": "2020-12-09T22:18:17.014Z"
    },
    "hidden": true
   },
   "outputs": [
    {
     "name": "stdout",
     "output_type": "stream",
     "text": [
      "Intercellular Signaling Peptides and Proteins\n",
      "D12.776.467.860 Nerve Growth Factors\n",
      "D12.776.467.860.381 Glial Cell Line-Derived Neurotrophic Factors\n",
      "D12.776.467.860.381.500 Glial Cell Line-Derived Neurotrophic Factor\n",
      "D12.776.631 Nerve Tissue Proteins\n",
      "D12.776.631.600 Nerve Growth Factors\n",
      "D12.776.631.600.381 Glial Cell Line-Derived Neurotrophic Factors\n",
      "D12.776.631.600.381.500 Glial Cell Line-Derived Neurotrophic Factor\n",
      "D23 Biological Factors\n",
      "D23.529 Intercellular Signaling Peptides and Proteins\n",
      "D23.529.850 Nerve Growth Factors\n",
      "D23.529.850.381 Glial Cell Line-Derived Neurotrophic Factors\n",
      "D23.529.850.381.500 Glial Cell Line-Derived Neurotrophic Factor\n",
      "\n",
      "TERM LINEAGE FOR  NEURTURIN\n",
      "D12 Amino Acids, Peptides, and Proteins\n",
      "D12.644 Peptides\n",
      "D12.644.276 Intercellular Signaling Peptides and Proteins\n",
      "D12.644.276.860 Nerve Growth Factors\n",
      "D12.644.276.860.381 Glial Cell Line-Derived Neurotrophic Factors\n",
      "D12.644.276.860.381.750 Neurturin\n",
      "D12.776 Proteins\n",
      "D12.776.467 Intercellular Signaling Peptides and Proteins\n",
      "D12.776.467.860 Nerve Growth Factors\n",
      "D12.776.467.860.381 Glial Cell Line-Derived Neurotrophic Factors\n",
      "D12.776.467.860.381.750 Neurturin\n",
      "D12.776.631 Nerve Tissue Proteins\n",
      "D12.776.631.600 Nerve Growth Factors\n",
      "D12.776.631.600.381 Glial Cell Line-Derived Neurotrophic Factors\n",
      "D12.776.631.600.381.750 Neurturin\n",
      "D23 Biological Factors\n",
      "D23.529 Intercellular Signaling Peptides and Proteins\n",
      "D23.529.850 Nerve Growth Factors\n",
      "D23.529.850.381 Glial Cell Line-Derived Neurotrophic Factors\n",
      "D23.529.850.381.750 Neurturin\n",
      "\n",
      "TERM LINEAGE FOR  SERINE C-PALMITOYLTRANSFERASE\n",
      "D08 Enzymes and Coenzymes\n",
      "D08.811 Enzymes\n",
      "D08.811.913 Transferases\n",
      "D08.811.913.050 Acyltransferases\n",
      "D08.811.913.050.668 Serine C-Palmitoyltransferase\n",
      "\n",
      "TERM LINEAGE FOR  1-ACYLGLYCEROL-3-PHOSPHATE O-ACYLTRANSFERASE\n",
      "D08 Enzymes and Coenzymes\n",
      "D08.811 Enzymes\n",
      "D08.811.913 Transferases\n",
      "D08.811.913.050 Acyltransferases\n",
      "D08.811.913.050.173 1-Acylglycerol-3-Phosphate O-Acyltransferase\n",
      "\n",
      "TERM LINEAGE FOR  RECEPTORS, SCAVENGER\n",
      "D12 Amino Acids, Peptides, and Proteins\n",
      "D12.776 Proteins\n",
      "D12.776.543 Membrane Proteins\n",
      "D12.776.543.750 Receptors, Cell Surface\n",
      "D12.776.543.750.705 Receptors, Immunologic\n",
      "D12.776.543.750.705.940 Receptors, Scavenger\n",
      "D12.776.543.750.710 Receptors, Lipoprotein\n",
      "D12.776.543.750.710.450 Receptors, LDL\n",
      "D12.776.543.750.710.450.750 Receptors, Scavenger\n",
      "\n",
      "TERM LINEAGE FOR  SCAVENGER RECEPTORS, CLASS A\n",
      "D12 Amino Acids, Peptides, and Proteins\n",
      "D12.776 Proteins\n",
      "D12.776.543 Membrane Proteins\n",
      "D12.776.543.750 Receptors, Cell Surface\n",
      "D12.776.543.750.705 Receptors, Immunologic\n",
      "D12.776.543.750.705.940 Receptors, Scavenger\n",
      "D12.776.543.750.705.940.500 Scavenger Receptors, Class A\n",
      "D12.776.543.750.710 Receptors, Lipoprotein\n",
      "D12.776.543.750.710.450 Receptors, LDL\n",
      "D12.776.543.750.710.450.750 Receptors, Scavenger\n",
      "D12.776.543.750.710.450.750.500 Scavenger Receptors, Class A\n",
      "\n",
      "TERM LINEAGE FOR  SCAVENGER RECEPTORS, CLASS B\n",
      "D12 Amino Acids, Peptides, and Proteins\n",
      "D12.776 Proteins\n",
      "D12.776.543 Membrane Proteins\n",
      "D12.776.543.750 Receptors, Cell Surface\n",
      "D12.776.543.750.705 Receptors, Immunologic\n",
      "D12.776.543.750.705.940 Receptors, Scavenger\n",
      "D12.776.543.750.705.940.625 Scavenger Receptors, Class B\n",
      "D12.776.543.750.710 Receptors, Lipoprotein\n",
      "D12.776.543.750.710.450 Receptors, LDL\n",
      "D12.776.543.750.710.450.750 Receptors, Scavenger\n",
      "D12.776.543.750.710.450.750.625 Scavenger Receptors, Class B\n",
      "\n",
      "TERM LINEAGE FOR  SCAVENGER RECEPTORS, CLASS C\n",
      "D12 Amino Acids, Peptides, and Proteins\n",
      "D12.776 Proteins\n",
      "D12.776.543 Membrane Proteins\n",
      "D12.776.543.750 Receptors, Cell Surface\n",
      "D12.776.543.750.705 Receptors, Immunologic\n",
      "D12.776.543.750.705.940 Receptors, Scavenger\n",
      "D12.776.543.750.705.940.687 Scavenger Receptors, Class C\n",
      "D12.776.543.750.710 Receptors, Lipoprotein\n",
      "D12.776.543.750.710.450 Receptors, LDL\n",
      "D12.776.543.750.710.450.750 Receptors, Scavenger\n",
      "D12.776.543.750.710.450.750.687 Scavenger Receptors, Class C\n",
      "\n",
      "TERM LINEAGE FOR  SCAVENGER RECEPTORS, CLASS D\n",
      "D12 Amino Acids, Peptides, and Proteins\n",
      "D12.776 Proteins\n",
      "D12.776.543 Membrane Proteins\n",
      "D12.776.543.750 Receptors, Cell Surface\n",
      "D12.776.543.750.705 Receptors, Immunologic\n",
      "D12.776.543.750.705.940 Receptors, Scavenger\n",
      "D12.776.543.750.705.940.718 Scavenger Receptors, Class D\n",
      "D12.776.543.750.710 Receptors, Lipoprotein\n",
      "D12.776.543.750.710.450 Receptors, LDL\n",
      "D12.776.543.750.710.450.750 Receptors, Scavenger\n",
      "D12.776.543.750.710.450.750.718 Scavenger Receptors, Class D\n",
      "\n",
      "TERM LINEAGE FOR  SCAVENGER RECEPTORS, CLASS E\n",
      "D12 Amino Acids, Peptides, and Proteins\n",
      "D12.776 Proteins\n",
      "D12.776.503 Lectins\n",
      "D12.776.503.280 Lectins, C-Type\n",
      "D12.776.503.280.718 Scavenger Receptors, Class E\n",
      "D12.776.543 Membrane Proteins\n",
      "D12.776.543.750 Receptors, Cell Surface\n",
      "D12.776.543.750.705 Receptors, Immunologic\n",
      "D12.776.543.750.705.940 Receptors, Scavenger\n",
      "D12.776.543.750.705.940.734 Scavenger Receptors, Class E\n",
      "D12.776.543.750.710 Receptors, Lipoprotein\n",
      "D12.776.543.750.710.450 Receptors, LDL\n",
      "D12.776.543.750.710.450.625 Receptors, Oxidized LDL\n",
      "D12.776.543.750.710.450.625.500 Scavenger Receptors, Class E\n",
      "D12.776.543.750.710.450.750 Receptors, Scavenger\n",
      "D12.776.543.750.710.450.750.734 Scavenger Receptors, Class E\n",
      "\n",
      "TERM LINEAGE FOR  SCAVENGER RECEPTORS, CLASS F\n",
      "D12 Amino Acids, Peptides, and Proteins\n",
      "D12.776 Proteins\n",
      "D12.776.543 Membrane Proteins\n",
      "D12.776.543.750 Receptors, Cell Surface\n",
      "D12.776.543.750.705 Receptors, Immunologic\n",
      "D12.776.543.750.705.940 Receptors, Scavenger\n",
      "D12.776.543.750.705.940.742 Scavenger Receptors, Class F\n",
      "D12.776.543.750.710 Receptors, Lipoprotein\n",
      "D12.776.543.750.710.450 Receptors, LDL\n",
      "D12.776.543.750.710.450.750 Receptors, Scavenger\n",
      "D12.776.543.750.710.450.750.742 Scavenger Receptors, Class F\n",
      "\n",
      "TERM LINEAGE FOR  RECEPTORS, OXIDIZED LDL\n",
      "D12 Amino Acids, Peptides, and Proteins\n",
      "D12.776 Proteins\n",
      "D12.776.543 Membrane Proteins\n",
      "D12.776.543.750 Receptors, Cell Surface\n",
      "D12.776.543.750.710 Receptors, Lipoprotein\n",
      "D12.776.543.750.710.450 Receptors, LDL\n",
      "D12.776.543.750.710.450.625 Receptors, Oxidized LDL\n",
      "\n",
      "TERM LINEAGE FOR  RAD51 RECOMBINASE\n",
      "D08 Enzymes and Coenzymes\n",
      "D08.811 Enzymes\n",
      "D08.811.739 Recombinases\n",
      "D08.811.739.650 Rec A Recombinases\n",
      "D08.811.739.650.500 Rad51 Recombinase\n",
      "D12 Amino Acids, Peptides, and Proteins\n",
      "D12.776 Proteins\n",
      "D12.776.260 DNA-Binding Proteins\n",
      "D12.776.260.695 Rad51 Recombinase\n",
      "D12.776.313 Fanconi Anemia Complementation Group Proteins\n",
      "D12.776.313.968 Rad51 Recombinase\n",
      "\n",
      "TERM LINEAGE FOR  SELENIUM-BINDING PROTEINS\n",
      "D12 Amino Acids, Peptides, and Proteins\n",
      "D12.776 Proteins\n",
      "D12.776.863 Selenium-Binding Proteins\n",
      "\n",
      "TERM LINEAGE FOR  SELENOPROTEINS\n",
      "D12 Amino Acids, Peptides, and Proteins\n",
      "D12.776 Proteins\n",
      "D12.776.864 Selenoproteins\n",
      "\n",
      "TERM LINEAGE FOR  RETINOL O-FATTY-ACYLTRANSFERASE\n",
      "D08 Enzymes and Coenzymes\n",
      "D08.811 Enzymes\n",
      "D08.811.913 Transferases\n",
      "D08.811.913.050 Acyltransferases\n",
      "D08.811.913.050.646 Retinol O-Fatty-Acyltransferase\n",
      "\n",
      "TERM LINEAGE FOR  N-ACYLSPHINGOSINE GALACTOSYLTRANSFERASE\n",
      "D08 Enzymes and Coenzymes\n",
      "D08.811 Enzymes\n",
      "D08.811.913 Transferases\n",
      "D08.811.913.400 Glycosyltransferases\n",
      "D08.811.913.400.450 Hexosyltransferases\n",
      "D08.811.913.400.450.400 Galactosyltransferases\n",
      "D08.811.913.400.450.400.460 N-Acylsphingosine Galactosyltransferase\n",
      "\n",
      "TERM LINEAGE FOR  GANGLIOSIDE GALACTOSYLTRANSFERASE\n",
      "D08 Enzymes and Coenzymes\n",
      "D08.811 Enzymes\n",
      "D08.811.913 Transferases\n",
      "D08.811.913.400 Glycosyltransferases\n",
      "D08.811.913.400.450 Hexosyltransferases\n",
      "D08.811.913.400.450.400 Galactosyltransferases\n",
      "D08.811.913.400.450.400.475 Ganglioside Galactosyltransferase\n",
      "\n",
      "TERM LINEAGE FOR  SELENOPROTEIN P\n",
      "D12 Amino Acids, Peptides, and Proteins\n",
      "D12.776 Proteins\n",
      "D12.776.864 Selenoproteins\n",
      "D12.776.864.124 Selenoprotein P\n",
      "\n",
      "TERM LINEAGE FOR  METHIONINE SULFOXIDE REDUCTASES\n",
      "D08 Enzymes and Coenzymes\n",
      "D08.811 Enzymes\n",
      "D08.811.682 Oxidoreductases\n",
      "D08.811.682.730 Methionine Sulfoxide Reductases\n",
      "D12 Amino Acids, Peptides, and Proteins\n",
      "D12.776 Proteins\n",
      "D12.776.864 Selenoproteins\n",
      "D12.776.864.100 Methionine Sulfoxide Reductases\n",
      "\n",
      "TERM LINEAGE FOR  SELENOPROTEIN W\n",
      "D12 Amino Acids, Peptides, and Proteins\n",
      "D12.776 Proteins\n",
      "D12.776.864 Selenoproteins\n",
      "D12.776.864.500 Selenoprotein W\n",
      "\n",
      "TERM LINEAGE FOR  CLUSTERIN\n",
      "D12 Amino Acids, Peptides, and Proteins\n",
      "D12.776 Proteins\n",
      "D12.776.395 Glycoproteins\n",
      "D12.776.395.207 Clusterin\n",
      "D12.776.580 Molecular Chaperones\n",
      "D12.776.580.215 Clusterin\n",
      "\n",
      "TERM LINEAGE FOR  WNT PROTEINS\n",
      "D12 Amino Acids, Peptides, and Proteins\n",
      "D12.776 Proteins\n",
      "D12.776.467 Intercellular Signaling Peptides and Proteins\n",
      "D12.776.467.984 Wnt Proteins\n",
      "D23 Biological Factors\n",
      "D23.529 Intercellular Signaling Peptides and Proteins\n",
      "D23.529.984 Wnt Proteins\n",
      "\n",
      "TERM LINEAGE FOR  WNT2 PROTEIN\n",
      "D12 Amino Acids, Peptides, and Proteins\n",
      "D12.776 Proteins\n",
      "D12.776.467 Intercellular Signaling Peptides and Proteins\n",
      "D12.776.467.984 Wnt Proteins\n",
      "D12.776.467.984.200 Wnt2 Protein\n",
      "D12.776.624 Neoplasm Proteins\n",
      "D12.776.624.664 Oncogene Proteins\n",
      "D12.776.624.664.700 Proto-Oncogene Proteins\n",
      "D12.776.624.664.700.978 Wnt2 Protein\n",
      "D23 Biological Factors\n",
      "D23.529 Intercellular Signaling Peptides and Proteins\n",
      "D23.529.984 Wnt Proteins\n",
      "D23.529.984.200 Wnt2 Protein\n",
      "\n",
      "TERM LINEAGE FOR  WNT1 PROTEIN\n",
      "D12 Amino Acids, Peptides, and Proteins\n",
      "D12.776 Proteins\n",
      "D12.776.467 Intercellular Signaling Peptides and Proteins\n",
      "D12.776.467.984 Wnt Proteins\n",
      "D12.776.467.984.100 Wnt1 Protein\n",
      "D12.776.624 Neoplasm Proteins\n",
      "D12.776.624.664 Oncogene Proteins\n",
      "D12.776.624.664.700 Proto-Oncogene Proteins\n",
      "D12.776.624.664.700.967 Wnt1 Protein\n",
      "D23 Biological Factors\n",
      "D23.529 Intercellular Signaling Peptides and Proteins\n",
      "D23.529.984 Wnt Proteins\n",
      "D23.529.984.100 Wnt1 Protein\n",
      "\n",
      "TERM LINEAGE FOR  FRIZZLED RECEPTORS\n",
      "D12 Amino Acids, Peptides, and Proteins\n",
      "D12.776 Proteins\n",
      "D12.776.543 Membrane Proteins\n",
      "D12.776.543.750 Receptors, Cell Surface\n",
      "D12.776.543.750.695 Receptors, G-Protein-Coupled\n",
      "D12.776.543.750.695.017 Frizzled Receptors\n",
      "D12.776.543.750.850 Receptors, Wnt\n",
      "D12.776.543.750.850.500 Frizzled Receptors\n",
      "\n",
      "TERM LINEAGE FOR  BETA CATENIN\n",
      "D12 Amino Acids, Peptides, and Proteins\n",
      "D12.776 Proteins\n",
      "D12.776.091 Armadillo Domain Proteins\n",
      "D12.776.091.249 beta Catenin\n",
      "D12.776.220 Cytoskeletal Proteins\n",
      "D12.776.220.145 Catenins\n",
      "D12.776.220.145.500 beta Catenin\n",
      "D12.776.930 Transcription Factors\n",
      "D12.776.930.130 beta Catenin\n",
      "\n",
      "TERM LINEAGE FOR  CATENINS\n",
      "D12 Amino Acids, Peptides, and Proteins\n",
      "D12.776 Proteins\n",
      "D12.776.220 Cytoskeletal Proteins\n",
      "D12.776.220.145 Catenins\n",
      "\n",
      "TERM LINEAGE FOR  ALPHA CATENIN\n",
      "D12 Amino Acids, Peptides, and Proteins\n",
      "D12.776 Proteins\n",
      "D12.776.220 Cytoskeletal Proteins\n",
      "D12.776.220.145 Catenins\n",
      "D12.776.220.145.249 alpha Catenin\n",
      "\n",
      "TERM LINEAGE FOR  PLAKINS\n",
      "D12 Amino Acids, Peptides, and Proteins\n",
      "D12.776 Proteins\n",
      "D12.776.220 Cytoskeletal Proteins\n",
      "D12.776.220.790 Plakins\n",
      "\n",
      "TERM LINEAGE FOR  DESMOPLAKINS\n",
      "D12 Amino Acids, Peptides, and Proteins\n",
      "D12.776 Proteins\n",
      "D12.776.220 Cytoskeletal Proteins\n",
      "D12.776.220.790 Plakins\n",
      "D12.776.220.790.500 Desmoplakins\n",
      "\n",
      "TERM LINEAGE FOR  DESMOSOMAL CADHERINS\n",
      "D12 Amino Acids, Peptides, and Proteins\n",
      "D12.776 Proteins\n",
      "D12.776.395 Glycoproteins\n",
      "D12.776.395.550 Membrane Glycoproteins\n",
      "D12.776.395.550.200 Cell Adhesion Molecules\n",
      "D12.776.395.550.200.200 Cadherins\n",
      "D12.776.395.550.200.200.500 Desmosomal Cadherins\n",
      "D12.776.543 Membrane Proteins\n",
      "D12.776.543.550 Membrane Glycoproteins\n",
      "D12.776.543.550.200 Cell Adhesion Molecules\n",
      "D12.776.543.550.200.200 Cadherins\n",
      "D12.776.543.550.200.200.500 Desmosomal Cadherins\n",
      "D23 Biological Factors\n",
      "D23.050 Antigens\n",
      "D23.050.301 Antigens, Surface\n",
      "D23.050.301.350 Cell Adhesion Molecules\n",
      "D23.050.301.350.200 Cadherins\n",
      "D23.050.301.350.200.500 Desmosomal Cadherins\n",
      "\n",
      "TERM LINEAGE FOR  DESMOGLEINS\n",
      "D12 Amino Acids, Peptides, and Proteins\n",
      "D12.776 Proteins\n",
      "D12.776.395 Glycoproteins\n",
      "D12.776.395.550 Membrane Glycoproteins\n",
      "D12.776.395.550.200 Cell Adhesion Molecules\n",
      "D12.776.395.550.200.200 Cadherins\n",
      "D12.776.395.550.200.200.500 Desmosomal Cadherins\n",
      "D12.776.395.550.200.200.500.500 Desmogleins\n",
      "D12.776.543 Membrane Proteins\n",
      "D12.776.543.550 Membrane Glycoproteins\n",
      "D12.776.543.550.200 Cell Adhesion Molecules\n",
      "D12.776.543.550.200.200 Cadherins\n",
      "D12.776.543.550.200.200.500 Desmosomal Cadherins\n",
      "D12.776.543.550.200.200.500.500 Desmogleins\n",
      "D23 Biological Factors\n",
      "D23.050 Antigens\n",
      "D23.050.301 Antigens, Surface\n",
      "D23.050.301.350 Cell Adhesion Molecules\n",
      "D23.050.301.350.200 Cadherins\n",
      "D23.050.301.350.200.500 Desmosomal Cadherins\n",
      "D23.050.301.350.200.500.500 Desmogleins\n",
      "\n",
      "TERM LINEAGE FOR  DESMOGLEIN 1\n",
      "D12 Amino Acids, Peptides, and Proteins\n",
      "D12.776 Proteins\n",
      "D12.776.395 Glycoproteins\n",
      "D12.776.395.550 Membrane Glycoproteins\n",
      "D12.776.395.550.200 Cell Adhesion Molecules\n",
      "D12.776.395.550.200.200 Cadherins\n",
      "D12.776.395.550.200.200.500 Desmosomal Cadherins\n",
      "D12.776.395.550.200.200.500.500 Desmogleins\n",
      "D12.776.395.550.200.200.500.500.500 Desmoglein 1\n",
      "D12.776.543 Membrane Proteins\n",
      "D12.776.543.550 Membrane Glycoproteins\n",
      "D12.776.543.550.200 Cell Adhesion Molecules\n",
      "D12.776.543.550.200.200 Cadherins\n",
      "D12.776.543.550.200.200.500 Desmosomal Cadherins\n",
      "D12.776.543.550.200.200.500.500 Desmogleins\n",
      "D12.776.543.550.200.200.500.500.500 Desmoglein 1\n",
      "D23 Biological Factors\n",
      "D23.050 Antigens\n",
      "D23.050.301 Antigens, Surface\n",
      "D23.050.301.350 Cell Adhesion Molecules\n",
      "D23.050.301.350.200 Cadherins\n",
      "D23.050.301.350.200.500 Desmosomal Cadherins\n",
      "D23.050.301.350.200.500.500 Desmogleins\n",
      "D23.050.301.350.200.500.500.500 Desmoglein 1\n",
      "D23.050.422 Autoantigens\n",
      "D23.050.422.124 Desmoglein 1\n",
      "\n",
      "TERM LINEAGE FOR  DESMOGLEIN 3\n",
      "D12 Amino Acids, Peptides, and Proteins\n",
      "D12.776 Proteins\n",
      "D12.776.395 Glycoproteins\n",
      "D12.776.395.550 Membrane Glycoproteins\n",
      "D12.776.395.550.200 Cell Adhesion Molecules\n",
      "D12.776.395.550.200.200 Cadherins\n",
      "D12.776.395.550.200.200.500 Desmosomal Cadherins\n",
      "D12.776.395.550.200.200.500.500 Desmogleins\n",
      "D12.776.395.550.200.200.500.500.750 Desmoglein 3\n",
      "D12.776.543 Membrane Proteins\n",
      "D12.776.543.550 Membrane Glycoproteins\n",
      "D12.776.543.550.200 Cell Adhesion Molecules\n",
      "D12.776.543.550.200.200 Cadherins\n",
      "D12.776.543.550.200.200.500 Desmosomal Cadherins\n",
      "D12.776.543.550.200.200.500.500 Desmogleins\n",
      "D12.776.543.550.200.200.500.500.750 Desmoglein 3\n",
      "D23 Biological Factors\n",
      "D23.050 Antigens\n",
      "D23.050.301 Antigens, Surface\n",
      "D23.050.301.350 Cell Adhesion Molecules\n",
      "D23.050.301.350.200 Cadherins\n",
      "D23.050.301.350.200.500 Desmosomal Cadherins\n",
      "D23.050.301.350.200.500.500 Desmogleins\n",
      "D23.050.301.350.200.500.500.750 Desmoglein 3\n",
      "D23.050.422 Autoantigens\n",
      "D23.050.422.249 Desmoglein 3\n",
      "\n",
      "TERM LINEAGE FOR  GAMMA CATENIN\n",
      "D12 Amino Acids, Peptides, and Proteins\n",
      "D12.776 Proteins\n",
      "D12.776.091 Armadillo Domain Proteins\n",
      "D12.776.091.500 gamma Catenin\n",
      "D12.776.220 Cytoskeletal Proteins\n",
      "D12.776.220.145 Catenins\n",
      "D12.776.220.145.750 gamma Catenin\n",
      "\n",
      "TERM LINEAGE FOR  ARMADILLO DOMAIN PROTEINS\n",
      "D12 Amino Acids, Peptides, and Proteins\n",
      "D12.776 Proteins\n",
      "D12.776.091 Armadillo Domain Proteins\n",
      "\n",
      "TERM LINEAGE FOR  DESMOCOLLINS\n",
      "D12 Amino Acids, Peptides, and Proteins\n",
      "D12.776 Proteins\n",
      "D12.776.395 Glycoproteins\n",
      "D12.776.395.550 Membrane Glycoproteins\n",
      "D12.776.395.550.200 Cell Adhesion Molecules\n",
      "D12.776.395.550.200.200 Cadherins\n",
      "D12.776.395.550.200.200.500 Desmosomal Cadherins\n",
      "D12.776.395.550.200.200.500.249 Desmocollins\n",
      "D12.776.543 Membrane Proteins\n",
      "D12.776.543.550 Membrane Glycoproteins\n",
      "D12.776.543.550.200 Cell Adhesion Molecules\n",
      "D12.776.543.550.200.200 Cadherins\n",
      "D12.776.543.550.200.200.500 Desmosomal Cadherins\n",
      "D12.776.543.550.200.200.500.249 Desmocollins\n",
      "D23 Biological Factors\n",
      "D23.050 Antigens\n",
      "D23.050.301 Antigens, Surface\n",
      "D23.050.301.350 Cell Adhesion Molecules\n",
      "D23.050.301.350.200 Cadherins\n",
      "D23.050.301.350.200.500 Desmosomal Cadherins\n",
      "D23.050.301.350.200.500.249 Desmocollins\n",
      "\n",
      "TERM LINEAGE FOR  KNOWLEDGE BASES\n",
      "L01 Information Science\n",
      "L01.224 Computing Methodologies\n",
      "L01.224.050 Algorithms\n",
      "L01.224.050.375 Artificial Intelligence\n",
      "L01.224.050.375.480 Knowledge Bases\n",
      "L01.313 Informatics\n",
      "L01.313.500 Medical Informatics\n",
      "L01.313.500.750 Medical Informatics Applications\n",
      "L01.313.500.750.300 Information Systems\n",
      "L01.313.500.750.300.550 Knowledge Bases\n",
      "\n",
      "TERM LINEAGE FOR  MURINAE\n",
      "B01 Eukaryota\n",
      "B01.050 Animals\n",
      "B01.050.150 Chordata\n",
      "B01.050.150.900 Vertebrates\n",
      "B01.050.150.900.649 Mammals\n",
      "B01.050.150.900.649.313 Eutheria\n",
      "B01.050.150.900.649.313.992 Rodentia\n",
      "B01.050.150.900.649.313.992.635 Muridae\n",
      "B01.050.150.900.649.313.992.635.505 Murinae\n",
      "\n",
      "TERM LINEAGE FOR  PLECTIN\n",
      "D12 Amino Acids, Peptides, and Proteins\n",
      "D12.776 Proteins\n",
      "D12.776.220 Cytoskeletal Proteins\n",
      "D12.776.220.790 Plakins\n",
      "D12.776.220.790.750 Plectin\n",
      "D12.776.744 Phosphoproteins\n",
      "D12.776.744.736 Plectin\n",
      "\n",
      "TERM LINEAGE FOR  PLAKOPHILINS\n",
      "D12 Amino Acids, Peptides, and Proteins\n",
      "D12.776 Proteins\n",
      "D12.776.091 Armadillo Domain Proteins\n",
      "D12.776.091.750 Plakophilins\n",
      "D12.776.220 Cytoskeletal Proteins\n",
      "D12.776.220.885 Plakophilins\n",
      "\n",
      "TERM LINEAGE FOR  RECEPTORS, PATTERN RECOGNITION\n",
      "D12 Amino Acids, Peptides, and Proteins\n",
      "D12.776 Proteins\n",
      "D12.776.543 Membrane Proteins\n",
      "D12.776.543.750 Receptors, Cell Surface\n",
      "D12.776.543.750.705 Receptors, Immunologic\n",
      "D12.776.543.750.705.910 Receptors, Pattern Recognition\n",
      "\n",
      "TERM LINEAGE FOR  TOLL-LIKE RECEPTORS\n",
      "D12 Amino Acids, Peptides, and Proteins\n",
      "D12.776 Proteins\n",
      "D12.776.543 Membrane Proteins\n",
      "D12.776.543.750 Receptors, Cell Surface\n",
      "D12.776.543.750.705 Receptors, Immunologic\n",
      "D12.776.543.750.705.910 Receptors, Pattern Recognition\n",
      "D12.776.543.750.705.910.500 Toll-Like Receptors\n",
      "\n",
      "TERM LINEAGE FOR  TOLL-LIKE RECEPTOR 1\n",
      "D12 Amino Acids, Peptides, and Proteins\n",
      "D12.776 Proteins\n",
      "D12.776.543 Membrane Proteins\n",
      "D12.776.543.750 Receptors, Cell Surface\n",
      "D12.776.543.750.705 Receptors, Immunologic\n",
      "D12.776.543.750.705.910 Receptors, Pattern Recognition\n",
      "D12.776.543.750.705.910.500 Toll-Like Receptors\n",
      "D12.776.543.750.705.910.500.100 Toll-Like Receptor 1\n",
      "\n",
      "TERM LINEAGE FOR  TOLL-LIKE RECEPTOR 2\n",
      "D12 Amino Acids, Peptides, and Proteins\n",
      "D12.776 Proteins\n",
      "D12.776.543 Membrane Proteins\n",
      "D12.776.543.750 Receptors, Cell Surface\n",
      "D12.776.543.750.705 Receptors, Immunologic\n",
      "D12.776.543.750.705.910 Receptors, Pattern Recognition\n",
      "D12.776.543.750.705.910.500 Toll-Like Receptors\n",
      "D12.776.543.750.705.910.500.200 Toll-Like Receptor 2\n",
      "\n",
      "TERM LINEAGE FOR  TOLL-LIKE RECEPTOR 3\n",
      "D12 Amino Acids, Peptides, and Proteins\n",
      "D12.776 Proteins\n",
      "D12.776.543 Membrane Proteins\n",
      "D12.776.543.750 Receptors, Cell Surface\n",
      "D12.776.543.750.705 Receptors, Immunologic\n",
      "D12.776.543.750.705.910 Receptors, Pattern Recognition\n",
      "D12.776.543.750.705.910.500 Toll-Like Receptors\n",
      "D12.776.543.750.705.910.500.300 Toll-Like Receptor 3\n",
      "\n",
      "TERM LINEAGE FOR  TOLL-LIKE RECEPTOR 4\n",
      "D12 Amino Acids, Peptides, and Proteins\n",
      "D12.776 Proteins\n",
      "D12.776.543 Membrane Proteins\n",
      "D12.776.543.750 Receptors, Cell Surface\n",
      "D12.776.543.750.705 Receptors, Immunologic\n",
      "D12.776.543.750.705.910 Receptors, Pattern Recognition\n",
      "D12.776.543.750.705.910.500 Toll-Like Receptors\n",
      "D12.776.543.750.705.910.500.400 Toll-Like Receptor 4\n",
      "\n",
      "TERM LINEAGE FOR  TOLL-LIKE RECEPTOR 5\n",
      "D12 Amino Acids, Peptides, and Proteins\n",
      "D12.776 Proteins\n",
      "D12.776.543 Membrane Proteins\n",
      "D12.776.543.750 Receptors, Cell Surface\n",
      "D12.776.543.750.705 Receptors, Immunologic\n",
      "D12.776.543.750.705.910 Receptors, Pattern Recognition\n",
      "D12.776.543.750.705.910.500 Toll-Like Receptors\n",
      "D12.776.543.750.705.910.500.500 Toll-Like Receptor 5\n",
      "\n",
      "TERM LINEAGE FOR  TOLL-LIKE RECEPTOR 7\n",
      "D12 Amino Acids, Peptides, and Proteins\n",
      "D12.776 Proteins\n",
      "D12.776.543 Membrane Proteins\n",
      "D12.776.543.750 Receptors, Cell Surface\n",
      "D12.776.543.750.705 Receptors, Immunologic\n",
      "D12.776.543.750.705.910 Receptors, Pattern Recognition\n",
      "D12.776.543.750.705.910.500 Toll-Like Receptors\n",
      "D12.776.543.750.705.910.500.700 Toll-Like Receptor 7\n",
      "\n",
      "TERM LINEAGE FOR  TOLL-LIKE RECEPTOR 8\n",
      "D12 Amino Acids, Peptides, and Proteins\n",
      "D12.776 Proteins\n",
      "D12.776.543 Membrane Proteins\n",
      "D12.776.543.750 Receptors, Cell Surface\n",
      "D12.776.543.750.705 Receptors, Immunologic\n",
      "D12.776.543.750.705.910 Receptors, Pattern Recognition\n",
      "D12.776.543.750.705.910.500 Toll-Like Receptors\n",
      "D12.776.543.750.705.910.500.800 Toll-Like Receptor 8\n",
      "\n",
      "TERM LINEAGE FOR  TOLL-LIKE RECEPTOR 10\n",
      "D12 Amino Acids, Peptides, and Proteins\n",
      "D12.776 Proteins\n",
      "D12.776.543 Membrane Proteins\n",
      "D12.776.543.750 Receptors, Cell Surface\n",
      "D12.776.543.750.705 Receptors, Immunologic\n",
      "D12.776.543.750.705.910 Receptors, Pattern Recognition\n",
      "D12.776.543.750.705.910.500 Toll-Like Receptors\n",
      "D12.776.543.750.705.910.500.910 Toll-Like Receptor 10\n",
      "\n",
      "TERM LINEAGE FOR  TOLL-LIKE RECEPTOR 6\n",
      "D12 Amino Acids, Peptides, and Proteins\n",
      "D12.776 Proteins\n",
      "D12.776.543 Membrane Proteins\n",
      "D12.776.543.750 Receptors, Cell Surface\n",
      "D12.776.543.750.705 Receptors, Immunologic\n",
      "D12.776.543.750.705.910 Receptors, Pattern Recognition\n",
      "D12.776.543.750.705.910.500 Toll-Like Receptors\n",
      "D12.776.543.750.705.910.500.600 Toll-Like Receptor 6\n",
      "\n",
      "TERM LINEAGE FOR  TOLL-LIKE RECEPTOR 9\n",
      "D12 Amino Acids, Peptides, and Proteins\n",
      "D12.776 Proteins\n",
      "D12.776.260 DNA-Binding Proteins\n",
      "D12.776.260.750 Toll-Like Receptor 9\n",
      "D12.776.543 Membrane Proteins\n",
      "D12.776.543.750 Receptors, Cell Surface\n",
      "D12.776.543.750.705 Receptors, Immunologic\n",
      "D12.776.543.750.705.910 Receptors, Pattern Recognition\n",
      "D12.776.543.750.705.910.500 Toll-Like Receptors\n",
      "D12.776.543.750.705.910.500.900 Toll-Like Receptor 9\n",
      "\n",
      "TERM LINEAGE FOR  LYMPHOCYTE ANTIGEN 96\n",
      "D12 Amino Acids, Peptides, and Proteins\n",
      "D12.776 Proteins\n",
      "D12.776.157 Carrier Proteins\n",
      "D12.776.157.478 Lymphocyte Antigen 96\n",
      "D23 Biological Factors\n",
      "D23.050 Antigens\n",
      "D23.050.301 Antigens, Surface\n",
      "D23.050.301.593 Lymphocyte Antigen 96\n",
      "\n",
      "TERM LINEAGE FOR  PITUITARY ADENYLATE CYCLASE-ACTIVATING POLYPEPTIDE\n",
      "D12 Amino Acids, Peptides, and Proteins\n",
      "D12.644 Peptides\n",
      "D12.644.276 Intercellular Signaling Peptides and Proteins\n",
      "D12.644.276.860 Nerve Growth Factors\n",
      "D12.644.276.860.887 Pituitary Adenylate Cyclase-Activating Polypeptide\n",
      "D12.644.400 Neuropeptides\n",
      "D12.644.400.625 Pituitary Adenylate Cyclase-Activating Polypeptide\n",
      "D12.776 Proteins\n",
      "D12.776.467 Intercellular Signaling Peptides and Proteins\n",
      "D12.776.467.860 Nerve Growth Factors\n",
      "D12.776.467.860.887 Pituitary Adenylate Cyclase-Activating Polypeptide\n",
      "D12.776.631 Nerve Tissue Proteins\n",
      "D12.776.631.600 Nerve Growth Factors\n",
      "D12.776.631.600.887 Pituitary Adenylate Cyclase-Activating Polypeptide\n",
      "D12.776.631.650 Neuropeptides\n",
      "D12.776.631.650.625 Pituitary Adenylate Cyclase-Activating Polypeptide\n",
      "D23 Biological Factors\n",
      "D23.529 Intercellular Signaling Peptides and Proteins\n",
      "D23.529.850 Nerve Growth Factors\n",
      "D23.529.850.887 Pituitary Adenylate Cyclase-Activating Polypeptide\n",
      "\n",
      "TERM LINEAGE FOR  PISIFORM BONE\n",
      "A02 Musculoskeletal System\n",
      "A02.835 Skeleton\n",
      "A02.835.232 Bone and Bones\n",
      "A02.835.232.087 Bones of Upper Extremity\n",
      "A02.835.232.087.319 Hand Bones\n",
      "A02.835.232.087.319.150 Carpal Bones\n",
      "A02.835.232.087.319.150.600 Pisiform Bone\n",
      "\n",
      "TERM LINEAGE FOR  TRIQUETRUM BONE\n",
      "A02 Musculoskeletal System\n",
      "A02.835 Skeleton\n",
      "A02.835.232 Bone and Bones\n",
      "A02.835.232.087 Bones of Upper Extremity\n",
      "A02.835.232.087.319 Hand Bones\n",
      "A02.835.232.087.319.150 Carpal Bones\n",
      "A02.835.232.087.319.150.831 Triquetrum Bone\n",
      "\n",
      "TERM LINEAGE FOR  TRAPEZIUM BONE\n",
      "A02 Musculoskeletal System\n",
      "A02.835 Skeleton\n",
      "A02.835.232 Bone and Bones\n",
      "A02.835.232.087 Bones of Upper Extremity\n",
      "A02.835.232.087.319 Hand Bones\n",
      "A02.835.232.087.319.150 Carpal Bones\n",
      "A02.835.232.087.319.150.800 Trapezium Bone\n",
      "\n",
      "TERM LINEAGE FOR  TRAPEZOID BONE\n",
      "A02 Musculoskeletal System\n",
      "A02.835 Skeleton\n",
      "A02.835.232 Bone and Bones\n",
      "A02.835.232.087 Bones of Upper Extremity\n",
      "A02.835.232.087.319 Hand Bones\n",
      "A02.835.232.087.319.150 Carpal Bones\n",
      "A02.835.232.087.319.150.805 Trapezoid Bone\n",
      "\n",
      "TERM LINEAGE FOR  CAPITATE BONE\n",
      "A02 Musculoskeletal System\n",
      "A02.835 Skeleton\n",
      "A02.835.232 Bone and Bones\n",
      "A02.835.232.087 Bones of Upper Extremity\n",
      "A02.835.232.087.319 Hand Bones\n",
      "A02.835.232.087.319.150 Carpal Bones\n",
      "A02.835.232.087.319.150.150 Capitate Bone\n",
      "\n",
      "TERM LINEAGE FOR  HAMATE BONE\n",
      "A02 Musculoskeletal System\n",
      "A02.835 Skeleton\n",
      "A02.835.232 Bone and Bones\n",
      "A02.835.232.087 Bones of Upper Extremity\n",
      "A02.835.232.087.319 Hand Bones\n",
      "A02.835.232.087.319.150 Carpal Bones\n",
      "A02.835.232.087.319.150.400 Hamate Bone\n",
      "\n",
      "TERM LINEAGE FOR  GERANYLTRANSTRANSFERASE\n",
      "D08 Enzymes and Coenzymes\n",
      "D08.811 Enzymes\n",
      "D08.811.913 Transferases\n",
      "D08.811.913.225 Alkyl and Aryl Transferases\n",
      "D08.811.913.225.450 Geranyltranstransferase\n",
      "\n",
      "TERM LINEAGE FOR  3-PHOSPHOSHIKIMATE 1-CARBOXYVINYLTRANSFERASE\n",
      "D08 Enzymes and Coenzymes\n",
      "D08.811 Enzymes\n",
      "D08.811.913 Transferases\n",
      "D08.811.913.225 Alkyl and Aryl Transferases\n",
      "D08.811.913.225.735 3-Phosphoshikimate 1-Carboxyvinyltransferase\n",
      "\n",
      "TERM LINEAGE FOR  FARNESYLTRANSTRANSFERASE\n",
      "D08 Enzymes and Coenzymes\n",
      "D08.811 Enzymes\n",
      "D08.811.913 Transferases\n",
      "D08.811.913.225 Alkyl and Aryl Transferases\n",
      "D08.811.913.225.437 Farnesyltranstransferase\n",
      "\n",
      "TERM LINEAGE FOR  GERANYLGERANYL-DIPHOSPHATE GERANYLGERANYLTRANSFERASE\n",
      "D08 Enzymes and Coenzymes\n",
      "D08.811 Enzymes\n",
      "D08.811.913 Transferases\n",
      "D08.811.913.225 Alkyl and Aryl Transferases\n",
      "D08.811.913.225.443 Geranylgeranyl-Diphosphate Geranylgeranyltransferase\n",
      "\n",
      "TERM LINEAGE FOR  RECEPTORS, PITUITARY ADENYLATE CYCLASE-ACTIVATING POLYPEPTIDE\n",
      "D12 Amino Acids, Peptides, and Proteins\n",
      "D12.776 Proteins\n",
      "D12.776.543 Membrane Proteins\n",
      "D12.776.543.750 Receptors, Cell Surface\n",
      "D12.776.543.750.695 Receptors, G-Protein-Coupled\n",
      "D12.776.543.750.695.665 Receptors, Pituitary Adenylate Cyclase-Activating Polypeptide\n",
      "\n",
      "TERM LINEAGE FOR  RECEPTORS, PITUITARY ADENYLATE CYCLASE-ACTIVATING POLYPEPTIDE, TYPE I\n",
      "D12 Amino Acids, Peptides, and Proteins\n",
      "D12.776 Proteins\n",
      "D12.776.543 Membrane Proteins\n",
      "D12.776.543.750 Receptors, Cell Surface\n",
      "D12.776.543.750.695 Receptors, G-Protein-Coupled\n",
      "D12.776.543.750.695.665 Receptors, Pituitary Adenylate Cyclase-Activating Polypeptide\n",
      "D12.776.543.750.695.665.500 Receptors, Pituitary Adenylate Cyclase-Activating Polypeptide, Type I\n",
      "\n",
      "TERM LINEAGE FOR  RECEPTORS, VASOACTIVE INTESTINAL POLYPEPTIDE, TYPE I\n",
      "D12 Amino Acids, Peptides, and Proteins\n",
      "D12.776 Proteins\n",
      "D12.776.543 Membrane Proteins\n",
      "D12.776.543.750 Receptors, Cell Surface\n",
      "D12.776.543.750.695 Receptors, G-Protein-Coupled\n",
      "D12.776.543.750.695.665 Receptors, Pituitary Adenylate Cyclase-Activating Polypeptide\n",
      "D12.776.543.750.695.665.760 Receptors, Vasoactive Intestinal Polypeptide, Type I\n",
      "D12.776.543.750.695.900 Receptors, Vasoactive Intestinal Peptide\n",
      "D12.776.543.750.695.900.520 Receptors, Vasoactive Intestinal Polypeptide, Type I\n",
      "\n",
      "TERM LINEAGE FOR  RECEPTORS, VASOACTIVE INTESTINAL PEPTIDE, TYPE II\n",
      "D12 Amino Acids, Peptides, and Proteins\n",
      "D12.776 Proteins\n",
      "D12.776.543 Membrane Proteins\n",
      "D12.776.543.750 Receptors, Cell Surface\n",
      "D12.776.543.750.695 Receptors, G-Protein-Coupled\n",
      "D12.776.543.750.695.665 Receptors, Pituitary Adenylate Cyclase-Activating Polypeptide\n",
      "D12.776.543.750.695.665.750 Receptors, Vasoactive Intestinal Peptide, Type II\n",
      "D12.776.543.750.695.900 Receptors, Vasoactive Intestinal Peptide\n",
      "D12.776.543.750.695.900.500 Receptors, Vasoactive Intestinal Peptide, Type II\n",
      "\n",
      "TERM LINEAGE FOR  CAVEOLIN 1\n",
      "D12 Amino Acids, Peptides, and Proteins\n",
      "D12.644 Peptides\n",
      "D12.644.360 Intracellular Signaling Peptides and Proteins\n",
      "D12.644.360.024 Adaptor Proteins, Signal Transducing\n",
      "D12.644.360.024.264 Caveolin 1\n",
      "D12.776 Proteins\n",
      "D12.776.157 Carrier Proteins\n",
      "D12.776.157.057 Adaptor Proteins, Signal Transducing\n",
      "D12.776.157.057.010 Caveolin 1\n",
      "D12.776.476 Intracellular Signaling Peptides and Proteins\n",
      "D12.776.476.024 Adaptor Proteins, Signal Transducing\n",
      "D12.776.476.024.280 Caveolin 1\n",
      "D12.776.543 Membrane Proteins\n",
      "D12.776.543.990 Vesicular Transport Proteins\n",
      "D12.776.543.990.100 Caveolins\n",
      "D12.776.543.990.100.500 Caveolin 1\n",
      "D12.776.744 Phosphoproteins\n",
      "D12.776.744.287 Caveolin 1\n",
      "\n",
      "TERM LINEAGE FOR  CAVEOLIN 2\n",
      "D12 Amino Acids, Peptides, and Proteins\n",
      "D12.644 Peptides\n",
      "D12.644.360 Intracellular Signaling Peptides and Proteins\n",
      "D12.644.360.024 Adaptor Proteins, Signal Transducing\n",
      "D12.644.360.024.272 Caveolin 2\n",
      "D12.776 Proteins\n",
      "D12.776.157 Carrier Proteins\n",
      "D12.776.157.057 Adaptor Proteins, Signal Transducing\n",
      "D12.776.157.057.012 Caveolin 2\n",
      "D12.776.476 Intracellular Signaling Peptides and Proteins\n",
      "D12.776.476.024 Adaptor Proteins, Signal Transducing\n",
      "D12.776.476.024.295 Caveolin 2\n",
      "D12.776.543 Membrane Proteins\n",
      "D12.776.543.990 Vesicular Transport Proteins\n",
      "D12.776.543.990.100 Caveolins\n",
      "D12.776.543.990.100.750 Caveolin 2\n",
      "D12.776.744 Phosphoproteins\n",
      "D12.776.744.356 Caveolin 2\n",
      "\n",
      "TERM LINEAGE FOR  CAVEOLIN 3\n",
      "D12 Amino Acids, Peptides, and Proteins\n",
      "D12.776 Proteins\n",
      "D12.776.210 Contractile Proteins\n",
      "D12.776.210.500 Muscle Proteins\n",
      "D12.776.210.500.235 Caveolin 3\n",
      "D12.776.543 Membrane Proteins\n",
      "D12.776.543.990 Vesicular Transport Proteins\n",
      "D12.776.543.990.100 Caveolins\n",
      "D12.776.543.990.100.875 Caveolin 3\n",
      "\n",
      "TERM LINEAGE FOR  RETINAL BIPOLAR CELLS\n",
      "A08 Nervous System\n",
      "A08.675 Neurons\n",
      "A08.675.358 Interneurons\n",
      "A08.675.358.700 Retinal Bipolar Cells\n",
      "A08.675.650 Neurons, Afferent\n",
      "A08.675.650.850 Retinal Neurons\n",
      "A08.675.650.850.750 Retinal Bipolar Cells\n",
      "A09 Sense Organs\n",
      "A09.371 Eye\n",
      "A09.371.729 Retina\n",
      "A09.371.729.831 Retinal Neurons\n",
      "A09.371.729.831.750 Retinal Bipolar Cells\n",
      "A11 Cells\n",
      "A11.671 Neurons\n",
      "A11.671.358 Interneurons\n",
      "A11.671.358.700 Retinal Bipolar Cells\n",
      "A11.671.650 Neurons, Afferent\n",
      "A11.671.650.850 Retinal Neurons\n",
      "A11.671.650.850.750 Retinal Bipolar Cells\n",
      "\n",
      "TERM LINEAGE FOR  GLUCOSE TRANSPORT PROTEINS, FACILITATIVE\n",
      "D12 Amino Acids, Peptides, and Proteins\n",
      "D12.776 Proteins\n",
      "D12.776.157 Carrier Proteins\n",
      "D12.776.157.530 Membrane Transport Proteins\n",
      "D12.776.157.530.500 Monosaccharide Transport Proteins\n",
      "D12.776.157.530.500.500 Glucose Transport Proteins, Facilitative\n",
      "D12.776.157.530.937 Solute Carrier Proteins\n",
      "D12.776.157.530.937.563 Glucose Transport Proteins, Facilitative\n",
      "D12.776.543 Membrane Proteins\n",
      "D12.776.543.585 Membrane Transport Proteins\n",
      "D12.776.543.585.500 Monosaccharide Transport Proteins\n",
      "D12.776.543.585.500.500 Glucose Transport Proteins, Facilitative\n",
      "D12.776.543.585.937 Solute Carrier Proteins\n",
      "D12.776.543.585.937.625 Glucose Transport Proteins, Facilitative\n",
      "\n",
      "TERM LINEAGE FOR  SODIUM-GLUCOSE TRANSPORT PROTEINS\n",
      "D12 Amino Acids, Peptides, and Proteins\n",
      "D12.776 Proteins\n",
      "D12.776.157 Carrier Proteins\n",
      "D12.776.157.530 Membrane Transport Proteins\n",
      "D12.776.157.530.450 Ion Pumps\n",
      "D12.776.157.530.450.625 Symporters\n",
      "D12.776.157.530.450.625.437 Sodium-Glucose Transport Proteins\n",
      "D12.776.157.530.500 Monosaccharide Transport Proteins\n",
      "D12.776.157.530.500.750 Sodium-Glucose Transport Proteins\n",
      "D12.776.543 Membrane Proteins\n",
      "D12.776.543.585 Membrane Transport Proteins\n",
      "D12.776.543.585.450 Ion Pumps\n",
      "D12.776.543.585.450.625 Symporters\n",
      "D12.776.543.585.450.625.562 Sodium-Glucose Transport Proteins\n",
      "D12.776.543.585.500 Monosaccharide Transport Proteins\n",
      "D12.776.543.585.500.750 Sodium-Glucose Transport Proteins\n",
      "\n",
      "TERM LINEAGE FOR  RETINAL HORIZONTAL CELLS\n",
      "A08 Nervous System\n",
      "A08.675 Neurons\n",
      "A08.675.650 Neurons, Afferent\n",
      "A08.675.650.850 Retinal Neurons\n",
      "A08.675.650.850.937 Retinal Horizontal Cells\n",
      "A09 Sense Organs\n",
      "A09.371 Eye\n",
      "A09.371.729 Retina\n",
      "A09.371.729.831 Retinal Neurons\n",
      "A09.371.729.831.937 Retinal Horizontal Cells\n",
      "A11 Cells\n",
      "A11.671 Neurons\n",
      "A11.671.650 Neurons, Afferent\n",
      "A11.671.650.850 Retinal Neurons\n",
      "A11.671.650.850.937 Retinal Horizontal Cells\n",
      "\n",
      "TERM LINEAGE FOR  ONCOGENE PROTEIN V-MAF\n",
      "D12 Amino Acids, Peptides, and Proteins\n",
      "D12.776 Proteins\n",
      "D12.776.260 DNA-Binding Proteins\n",
      "D12.776.260.108 Basic-Leucine Zipper Transcription Factors\n",
      "D12.776.260.108.500 Maf Transcription Factors\n",
      "D12.776.260.108.500.061 Maf Transcription Factors, Large\n",
      "D12.776.260.108.500.061.625 Oncogene Protein v-maf\n",
      "D12.776.624 Neoplasm Proteins\n",
      "D12.776.624.664 Oncogene Proteins\n",
      "D12.776.624.664.520 Oncogene Proteins, Viral\n",
      "D12.776.624.664.520.750 Retroviridae Proteins, Oncogenic\n",
      "D12.776.624.664.520.750.860 Oncogene Protein v-maf\n",
      "D12.776.930 Transcription Factors\n",
      "D12.776.930.127 Basic-Leucine Zipper Transcription Factors\n",
      "D12.776.930.127.500 Maf Transcription Factors\n",
      "D12.776.930.127.500.061 Maf Transcription Factors, Large\n",
      "D12.776.930.127.500.061.625 Oncogene Protein v-maf\n",
      "D12.776.964 Viral Proteins\n",
      "D12.776.964.700 Oncogene Proteins, Viral\n",
      "D12.776.964.700.750 Retroviridae Proteins, Oncogenic\n",
      "D12.776.964.700.750.817 Oncogene Protein v-maf\n",
      "D12.776.964.775 Retroviridae Proteins\n",
      "D12.776.964.775.750 Retroviridae Proteins, Oncogenic\n",
      "D12.776.964.775.750.817 Oncogene Protein v-maf\n",
      "\n",
      "TERM LINEAGE FOR  PROTO-ONCOGENE PROTEINS C-MAF\n",
      "D12 Amino Acids, Peptides, and Proteins\n",
      "D12.776 Proteins\n",
      "D12.776.260 DNA-Binding Proteins\n",
      "D12.776.260.108 Basic-Leucine Zipper Transcription Factors\n",
      "D12.776.260.108.500 Maf Transcription Factors\n",
      "D12.776.260.108.500.061 Maf Transcription Factors, Large\n",
      "D12.776.260.108.500.061.750 Proto-Oncogene Proteins c-maf\n",
      "D12.776.624 Neoplasm Proteins\n",
      "D12.776.624.664 Oncogene Proteins\n",
      "D12.776.624.664.700 Proto-Oncogene Proteins\n",
      "D12.776.624.664.700.184 Proto-Oncogene Proteins c-maf\n",
      "D12.776.930 Transcription Factors\n",
      "D12.776.930.127 Basic-Leucine Zipper Transcription Factors\n",
      "D12.776.930.127.500 Maf Transcription Factors\n",
      "D12.776.930.127.500.061 Maf Transcription Factors, Large\n",
      "D12.776.930.127.500.061.750 Proto-Oncogene Proteins c-maf\n",
      "\n",
      "TERM LINEAGE FOR  MAFB TRANSCRIPTION FACTOR\n",
      "D12 Amino Acids, Peptides, and Proteins\n",
      "D12.776 Proteins\n",
      "D12.776.260 DNA-Binding Proteins\n",
      "D12.776.260.108 Basic-Leucine Zipper Transcription Factors\n",
      "D12.776.260.108.500 Maf Transcription Factors\n",
      "D12.776.260.108.500.061 Maf Transcription Factors, Large\n",
      "D12.776.260.108.500.061.500 MafB Transcription Factor\n",
      "D12.776.930 Transcription Factors\n",
      "D12.776.930.127 Basic-Leucine Zipper Transcription Factors\n",
      "D12.776.930.127.500 Maf Transcription Factors\n",
      "D12.776.930.127.500.061 Maf Transcription Factors, Large\n",
      "D12.776.930.127.500.061.500 MafB Transcription Factor\n",
      "\n",
      "TERM LINEAGE FOR  MAFG TRANSCRIPTION FACTOR\n",
      "D12 Amino Acids, Peptides, and Proteins\n",
      "D12.776 Proteins\n",
      "D12.776.260 DNA-Binding Proteins\n",
      "D12.776.260.108 Basic-Leucine Zipper Transcription Factors\n",
      "D12.776.260.108.500 Maf Transcription Factors\n",
      "D12.776.260.108.500.500 Maf Transcription Factors, Small\n",
      "D12.776.260.108.500.500.500 MafG Transcription Factor\n",
      "D12.776.260.108.656 NF-E2 Transcription Factor\n",
      "D12.776.260.108.656.750 Maf Transcription Factors, Small\n",
      "D12.776.260.108.656.750.500 MafG Transcription Factor\n",
      "D12.776.260.235 Erythroid-Specific DNA-Binding Factors\n",
      "D12.776.260.235.750 NF-E2 Transcription Factor\n",
      "D12.776.260.235.750.750 Maf Transcription Factors, Small\n",
      "D12.776.260.235.750.750.500 MafG Transcription Factor\n",
      "D12.776.930 Transcription Factors\n",
      "D12.776.930.127 Basic-Leucine Zipper Transcription Factors\n",
      "D12.776.930.127.500 Maf Transcription Factors\n",
      "D12.776.930.127.500.500 Maf Transcription Factors, Small\n",
      "D12.776.930.127.500.500.500 MafG Transcription Factor\n",
      "D12.776.930.127.656 NF-E2 Transcription Factor\n",
      "D12.776.930.127.656.750 Maf Transcription Factors, Small\n",
      "D12.776.930.127.656.750.500 MafG Transcription Factor\n",
      "D12.776.930.216 Erythroid-Specific DNA-Binding Factors\n",
      "D12.776.930.216.750 NF-E2 Transcription Factor\n",
      "D12.776.930.216.750.750 Maf Transcription Factors, Small\n",
      "D12.776.930.216.750.750.500 MafG Transcription Factor\n",
      "\n",
      "TERM LINEAGE FOR  MAFF TRANSCRIPTION FACTOR\n",
      "D12 Amino Acids, Peptides, and Proteins\n",
      "D12.776 Proteins\n",
      "D12.776.260 DNA-Binding Proteins\n",
      "D12.776.260.108 Basic-Leucine Zipper Transcription Factors\n",
      "D12.776.260.108.500 Maf Transcription Factors\n",
      "D12.776.260.108.500.500 Maf Transcription Factors, Small\n",
      "D12.776.260.108.500.500.249 MafF Transcription Factor\n",
      "D12.776.260.108.656 NF-E2 Transcription Factor\n",
      "D12.776.260.108.656.750 Maf Transcription Factors, Small\n",
      "D12.776.260.108.656.750.249 MafF Transcription Factor\n",
      "D12.776.260.235 Erythroid-Specific DNA-Binding Factors\n",
      "D12.776.260.235.750 NF-E2 Transcription Factor\n",
      "D12.776.260.235.750.750 Maf Transcription Factors, Small\n",
      "D12.776.260.235.750.750.249 MafF Transcription Factor\n",
      "D12.776.930 Transcription Factors\n",
      "D12.776.930.127 Basic-Leucine Zipper Transcription Factors\n",
      "D12.776.930.127.500 Maf Transcription Factors\n",
      "D12.776.930.127.500.500 Maf Transcription Factors, Small\n",
      "D12.776.930.127.500.500.249 MafF Transcription Factor\n",
      "D12.776.930.127.656 NF-E2 Transcription Factor\n",
      "D12.776.930.127.656.750 Maf Transcription Factors, Small\n",
      "D12.776.930.127.656.750.249 MafF Transcription Factor\n",
      "D12.776.930.216 Erythroid-Specific DNA-Binding Factors\n",
      "D12.776.930.216.750 NF-E2 Transcription Factor\n",
      "D12.776.930.216.750.750 Maf Transcription Factors, Small\n",
      "D12.776.930.216.750.750.249 MafF Transcription Factor\n",
      "\n",
      "TERM LINEAGE FOR  GRANULOMATOSIS, OROFACIAL\n",
      "C07 Stomatognathic Diseases\n",
      "C07.465 Mouth Diseases\n",
      "C07.465.353 Granulomatosis, Orofacial\n",
      "C23 Pathological Conditions, Signs and Symptoms\n",
      "C23.550 Pathologic Processes\n",
      "C23.550.384 Granulomatosis, Orofacial\n",
      "\n",
      "TERM LINEAGE FOR  D-ALANINE TRANSAMINASE\n",
      "D08 Enzymes and Coenzymes\n",
      "D08.811 Enzymes\n",
      "D08.811.913 Transferases\n",
      "D08.811.913.477 Nitrogenous Group Transferases\n",
      "D08.811.913.477.700 Transaminases\n",
      "D08.811.913.477.700.347 D-Alanine Transaminase\n",
      "\n",
      "TERM LINEAGE FOR  NUCLEAR RESPIRATORY FACTORS\n",
      "D12 Amino Acids, Peptides, and Proteins\n",
      "D12.776 Proteins\n",
      "D12.776.260 DNA-Binding Proteins\n",
      "D12.776.260.615 Nuclear Respiratory Factors\n",
      "D12.776.930 Transcription Factors\n",
      "D12.776.930.618 Nuclear Respiratory Factors\n",
      "\n",
      "TERM LINEAGE FOR  NF-E2-RELATED FACTOR 1\n",
      "D12 Amino Acids, Peptides, and Proteins\n",
      "D12.776 "
     ]
    }
   ],
   "source": [
    "import re\n",
    "import string\n",
    "mesh = open(\"d2020.bin\", \"r\", encoding=\"utf8\")\n",
    "out = open(\"mesh.out\", \"w\")\n",
    "namehash = {}\n",
    "numberhash = {}\n",
    "for line in mesh:\n",
    "    namematch = re.search(r'MH = (.+)$', line)\n",
    "    if (namematch):\n",
    "        name = namematch.group(1)\n",
    "    numbermatch = re.search(r'MN = (.+)$',line)\n",
    "    if numbermatch:\n",
    "        number = numbermatch.group(1)\n",
    "        numberhash[str(number)] = name\n",
    "        if name in namehash:\n",
    "            namehash[name] = namehash[name] + ' ' + str(number)\n",
    "        else:\n",
    "            namehash[name] = str(number)\n",
    "mesh.close()\n",
    "keylist = namehash.keys()\n",
    "sorted(keylist)\n",
    "for key in keylist:\n",
    "    print(\"\\nTERM LINEAGE FOR \", key.upper())\n",
    "    cumlist = []\n",
    "    item_list = namehash[key].split(\" \")\n",
    "    for phrase in item_list:\n",
    "        cumlist.append(phrase)\n",
    "        while re.search(r'\\.', phrase):\n",
    "            phrase = re.sub(r'\\.[0-9]+$',\"\", phrase)\n",
    "            cumlist.append(phrase)\n",
    "    U = []\n",
    "    for item in cumlist:\n",
    "        if item not in U:\n",
    "            U.append(item)\n",
    "    U.sort()\n",
    "    for thing in U:\n",
    "        print(thing, numberhash[str(thing)])"
   ]
  },
  {
   "cell_type": "markdown",
   "metadata": {
    "heading_collapsed": true,
    "hidden": true
   },
   "source": [
    "## Script Algoriothm: Determining the Hierarchical Lineage for MeSH Terms"
   ]
  },
  {
   "cell_type": "markdown",
   "metadata": {
    "ExecuteTime": {
     "end_time": "2020-11-24T09:54:28.756729Z",
     "start_time": "2020-11-24T09:54:28.727798Z"
    },
    "hidden": true
   },
   "source": [
    "Open the ASCII MeSH file*"
   ]
  },
  {
   "cell_type": "code",
   "execution_count": null,
   "metadata": {
    "hidden": true
   },
   "outputs": [],
   "source": [
    "import re\n",
    "import string\n",
    "mesh = open(\"d2020.bin\", \"r\", encoding=\"utf8\")\n",
    "out = open(\"mesh.out\", \"w\")\n",
    "namehash = {}\n",
    "numberhash = {}"
   ]
  },
  {
   "cell_type": "markdown",
   "metadata": {
    "hidden": true
   },
   "source": [
    "Parse through the MeSH file, line by line. When a line that beings with \"MH =\" occurs, capture the MeSH term found. WHen a line that begins with \"MN =\" occurs, capture the MeSH number found on the line."
   ]
  },
  {
   "cell_type": "code",
   "execution_count": null,
   "metadata": {
    "hidden": true
   },
   "outputs": [],
   "source": [
    "for line in mesh:\n",
    "    namematch = re.search(r'MH = (.+)$', line)\n",
    "    if (namematch):\n",
    "        name = namematch.group(1)\n",
    "    numbermatch = re.search(r'MN = (.+)$',line)\n",
    "    if numbermatch:\n",
    "        number = numbermatch.group(1)\n",
    "        numberhash[str(number)] = name\n",
    "        if name in namehash:\n",
    "            namehash[name] = namehash[name] + ' ' + str(number)\n",
    "        else:\n",
    "            namehash[name] = str(number)\n",
    "mesh.close()"
   ]
  },
  {
   "cell_type": "markdown",
   "metadata": {
    "hidden": true
   },
   "source": [
    "Because the MeSH term always occurs before the MeSH number, the MeSH\n",
    "number will always be the number that corresponds with the previously captured\n",
    "MeSH term. Use the captured number and the captured term to create\n",
    "a new key–value pair for a dictionary object.\n",
    "\n",
    "Because a single MeSH term may have several different MeSH numbers listed\n",
    "in its record, as additional lines are encountered, concatenate the list of MeSH numbers for a single term into a string\n",
    "\n",
    "Parse through the collection of key–value pairs in the dictionary object containing the MeSH terms as keys and the MeSH numbers as values."
   ]
  },
  {
   "cell_type": "code",
   "execution_count": null,
   "metadata": {
    "hidden": true
   },
   "outputs": [],
   "source": [
    "keylist = namehash.keys()\n",
    "sorted(keylist)\n",
    "for key in keylist:\n",
    "    print(out,\"\\nTERM LINEAGE FOR \", key.upper())\n",
    "    cumlist = []\n",
    "    item_list = namehash[key].split(\" \")\n",
    "    for phrase in item_list:\n",
    "        cumlist.append(phrase)\n",
    "        while re.search(r'\\.', phrase):\n",
    "            phrase = re.sub(r'\\.[0-9]+$',\"\", phrase)\n",
    "            cumlist.append(phrase)\n",
    "    U = []\n",
    "    for item in cumlist:\n",
    "        if item not in U:\n",
    "            U.append(item)\n",
    "    U.sort()\n",
    "    for thing in U:\n",
    "        print(out, thing, numberhash[str(thing)])"
   ]
  },
  {
   "cell_type": "markdown",
   "metadata": {
    "hidden": true
   },
   "source": [
    "**This section is adapted from section 5.1.1, \"Script Algorithm\", of pages 83-84 from \"Methods in Medical Informatics\".*"
   ]
  },
  {
   "cell_type": "markdown",
   "metadata": {
    "heading_collapsed": true,
    "hidden": true
   },
   "source": [
    "## Analysis: Determining the Hierarchical Lineage for MeSH Terms"
   ]
  },
  {
   "cell_type": "markdown",
   "metadata": {
    "hidden": true
   },
   "source": [
    "The output file is quite large in length. Here are a few output terms and their MeSH lineage:*\n",
    "\n",
    "`TERM LINEAGE FOR  CALCIMYCIN\n",
    "D03 Heterocyclic Compounds\n",
    "D03.633 Heterocyclic Compounds, Fused-Ring\n",
    "D03.633.100 Heterocyclic Compounds, 2-Ring\n",
    "D03.633.100.221 Benzoxazoles\n",
    "D03.633.100.221.173 Calcimycin`\n",
    "\n",
    "**This section is adapted from section 5.1.2, \"Analysis\", of page 86-88 \"Methods in Medical Informatics\".*"
   ]
  },
  {
   "cell_type": "markdown",
   "metadata": {
    "heading_collapsed": true
   },
   "source": [
    "# Creating a MeSH Database"
   ]
  },
  {
   "cell_type": "markdown",
   "metadata": {
    "hidden": true
   },
   "source": [
    "The primary feature that distinguishes a database from a data object is persistence. When you exit a database application, the data and the data structures created for the database, all persist, somewhere, on a hard drive. When you start the database at a later time, it is not necessary to port the data back into the application or to rebuild tables and relational structures; everything is waiting for you.*\n",
    "\n",
    "> This script will utilize the file [d2020.bin](https://datamine.unc.edu/data-files/). This is a binary file which contains tens of thousands of MeSH terms. Additional information [here](https://datamine.unc.edu/data-files/)\n",
    "\n",
    "**Description adapted from page 88 of \"Methods in Medical Informatics\".*"
   ]
  },
  {
   "cell_type": "code",
   "execution_count": null,
   "metadata": {
    "ExecuteTime": {
     "end_time": "2020-11-22T17:30:57.782157Z",
     "start_time": "2020-11-22T17:30:57.743225Z"
    },
    "hidden": true
   },
   "outputs": [],
   "source": [
    "import dbm, string, re\n",
    "mesh_hash = dbm.open('mesh', 'n')\n",
    "# Use smaller file so this procedure can run quicker\n",
    "mesh_file = open('d2020_truncated.bin', \"r\", encoding=\"utf8\")\n",
    "print('Creating Database Please Wait.....')\n",
    "for line in mesh_file:\n",
    "    namematch = re.search(r'^MH = (.+)$', line)\n",
    "    if (namematch):\n",
    "        name = namematch.group(1)\n",
    "    numbermatch = re.search(r'^MN = (.+)$',line)\n",
    "    if numbermatch:\n",
    "        number = numbermatch.group(1)\n",
    "        mesh_hash[str(number)] = name\n",
    "print('Database Built')\n",
    "mesh_hash.close()"
   ]
  },
  {
   "cell_type": "markdown",
   "metadata": {
    "heading_collapsed": true,
    "hidden": true
   },
   "source": [
    "## Script Algorithm: Creating a MeSH Database"
   ]
  },
  {
   "cell_type": "markdown",
   "metadata": {
    "hidden": true
   },
   "source": [
    "Call the external database objects*"
   ]
  },
  {
   "cell_type": "code",
   "execution_count": null,
   "metadata": {
    "hidden": true
   },
   "outputs": [],
   "source": [
    "import dbm, string, re"
   ]
  },
  {
   "cell_type": "markdown",
   "metadata": {
    "hidden": true
   },
   "source": [
    "Open a new database object named \"mesh\""
   ]
  },
  {
   "cell_type": "code",
   "execution_count": null,
   "metadata": {
    "hidden": true
   },
   "outputs": [],
   "source": [
    "mesh_hash = dbm.open('mesh', 'n')\n",
    "# Use smaller file so this procedure can run quicker\n",
    "mesh_file = open('d2020_truncated.bin', \"r\", encoding=\"utf8\")\n",
    "print('Creating Database Please Wait.....')"
   ]
  },
  {
   "cell_type": "markdown",
   "metadata": {
    "hidden": true
   },
   "source": [
    "Create a dictionary object and assign key-value pairs corresponding to the codes and terms of meSH records. Parse through the MeSH file. When  a line that beings with \"MH =\" occurs, capture the MESH term found on the line. When a line begins with \"MN =\" occurs, capture the MeSH number found on the line. Use the captured term to create a new key-value pair for a dictionary object. "
   ]
  },
  {
   "cell_type": "code",
   "execution_count": null,
   "metadata": {
    "hidden": true
   },
   "outputs": [],
   "source": [
    "\n",
    "for line in mesh_file:\n",
    "    namematch = re.search(r'^MH = (.+)$', line)\n",
    "    if (namematch):\n",
    "        name = namematch.group(1)\n",
    "    numbermatch = re.search(r'^MN = (.+)$',line)\n",
    "    if numbermatch:\n",
    "        number = numbermatch.group(1)\n",
    "        mesh_hash[str(number)] = name\n",
    "print('Database Built')\n",
    "mesh_hash.close()"
   ]
  },
  {
   "cell_type": "markdown",
   "metadata": {
    "hidden": true
   },
   "source": [
    "**This section is adapted from section 5.2.1, \"Script Algorithm\", of pages 88-89 from \"Methods in Medical Informatics\".*"
   ]
  },
  {
   "cell_type": "markdown",
   "metadata": {
    "heading_collapsed": true,
    "hidden": true
   },
   "source": [
    "## Analysis: Creating a MeSH Database"
   ]
  },
  {
   "cell_type": "markdown",
   "metadata": {
    "hidden": true
   },
   "source": [
    "The created database exists as an external file. The name of the prefix to the external file is a parameter provided in the script statement that creates the database object: \"mesh\" in this example.*\n",
    "\n",
    "**This section is adapted from section 5.2.2, \"Analysis\", of page 90 from \"Methods in Medical Informatics\".*"
   ]
  },
  {
   "cell_type": "markdown",
   "metadata": {
    "heading_collapsed": true
   },
   "source": [
    "# Reading the MeSH Database"
   ]
  },
  {
   "cell_type": "markdown",
   "metadata": {
    "hidden": true
   },
   "source": [
    "Once a database has been created, the data can be efficiently called from within the same script that created the database, or from any  other script, at any time.*\n",
    "\n",
    "> This script utilizes the MeSH database object created in the previous script\n",
    "\n",
    "**Description adapted from page 91 of \"Methods in Medical Informatics\".*"
   ]
  },
  {
   "cell_type": "code",
   "execution_count": null,
   "metadata": {
    "ExecuteTime": {
     "end_time": "2020-11-22T17:30:59.400014Z",
     "start_time": "2020-11-22T17:30:59.390605Z"
    },
    "hidden": true
   },
   "outputs": [],
   "source": [
    "import dbm, string, re\n",
    "mesh_hash = dbm.open('mesh')\n",
    "for number in mesh_hash.keys():\n",
    "    print(number, mesh_hash[number])\n",
    "mesh_hash.close()"
   ]
  },
  {
   "cell_type": "markdown",
   "metadata": {
    "heading_collapsed": true,
    "hidden": true
   },
   "source": [
    "## Script Algorithm: Reading the MeSH Database"
   ]
  },
  {
   "cell_type": "markdown",
   "metadata": {
    "hidden": true
   },
   "source": [
    "Call the external database modules*"
   ]
  },
  {
   "cell_type": "code",
   "execution_count": null,
   "metadata": {
    "hidden": true
   },
   "outputs": [],
   "source": [
    "import dbm, string, re"
   ]
  },
  {
   "cell_type": "markdown",
   "metadata": {
    "hidden": true
   },
   "source": [
    "Open the previously created database object \"mesh\""
   ]
  },
  {
   "cell_type": "code",
   "execution_count": null,
   "metadata": {
    "hidden": true
   },
   "outputs": [],
   "source": [
    "mesh_hash = dbm.open('mesh')"
   ]
  },
  {
   "cell_type": "markdown",
   "metadata": {
    "hidden": true
   },
   "source": [
    "Read and print every key-value pair in the dictionary"
   ]
  },
  {
   "cell_type": "code",
   "execution_count": null,
   "metadata": {
    "hidden": true
   },
   "outputs": [],
   "source": [
    "for number in mesh_hash.keys():\n",
    "    print(number, mesh_hash[number])"
   ]
  },
  {
   "cell_type": "markdown",
   "metadata": {
    "hidden": true
   },
   "source": [
    "**This section is adapted from section 5.3.1, \"Script Algorithm\", of page 91 from \"Methods in Medical Informatics\".*"
   ]
  },
  {
   "cell_type": "markdown",
   "metadata": {
    "heading_collapsed": true,
    "hidden": true
   },
   "source": [
    "## Analysis: Reading the MeSH Database"
   ]
  },
  {
   "cell_type": "markdown",
   "metadata": {
    "hidden": true
   },
   "source": [
    "Once a database has been created, the data can be efficiently called from within the same script that created the database, or from any other script at any time. You only need to remember two things: (1) not to delete the created database file, and (2) not to assume that the database is in an unchanged object; other scripts can add to or modify the contents of the original database object.*"
   ]
  },
  {
   "cell_type": "markdown",
   "metadata": {
    "hidden": true
   },
   "source": [
    "**This section is adapted from section 5.3.2, \"Analysis\", of page 92 from \"Methods in Medical Informatics\".*"
   ]
  },
  {
   "cell_type": "markdown",
   "metadata": {
    "heading_collapsed": true
   },
   "source": [
    "# Creating an SQLite Database for MeSH"
   ]
  },
  {
   "cell_type": "markdown",
   "metadata": {
    "hidden": true
   },
   "source": [
    "Structured Query Language (SQL) is a specialized language used to query relational databases. SQL allows programmers to connect with large, complex server-based network databases. Python has easy access to SQLite. SQLite is a no-cost, open source program that you can use to build your own relational database. The SQLite database will respond to SQL statements appearing within your Python script.*\n",
    "\n",
    "> This script will utilize the file [d2020.bin](https://datamine.unc.edu/data-files/). This is a binary file which contains tens of thousands of MeSH terms. Additional information [here](https://datamine.unc.edu/data-files/)\n",
    "\n",
    "**Description adapted from page 92 of \"Methods in Medical Informatics\".*"
   ]
  },
  {
   "cell_type": "code",
   "execution_count": null,
   "metadata": {
    "ExecuteTime": {
     "end_time": "2020-11-22T17:38:55.654988Z",
     "start_time": "2020-11-22T17:38:55.619189Z"
    },
    "hidden": true
   },
   "outputs": [],
   "source": [
    "from sqlite3 import dbapi2 as sqlite\n",
    "import string, re, os\n",
    "mesh_file = open('d2020_truncated.bin', \"r\", encoding=\"utf8\")\n",
    "mesh_hash = {}\n",
    "entry = ()\n",
    "for line in mesh_file:\n",
    "    namematch = re.search(r'^MH = (.+)$', line)\n",
    "    if (namematch):\n",
    "        name = namematch.group(1)\n",
    "    numbermatch = re.search(r'^MN = (.+)$',line)\n",
    "    if numbermatch:\n",
    "        number = numbermatch.group(1)\n",
    "        mesh_hash[str(number)] = name\n",
    "con=sqlite.connect('test1.db')\n",
    "cur=con.cursor()\n",
    "cur.executescript(\"\"\"\n",
    "    create table mesh\n",
    "    (\n",
    "    name varchar(64),\n",
    "    term varchar(64)\n",
    "    );\n",
    "    \"\"\")\n",
    "for key, value in mesh_hash.items():\n",
    "    entry = (key, value)\n",
    "    cur.execute(\"insert into mesh (name, term) values (?, ?)\", entry)\n",
    "con.commit()"
   ]
  },
  {
   "cell_type": "markdown",
   "metadata": {
    "heading_collapsed": true,
    "hidden": true
   },
   "source": [
    "## Script Algorithm: Creating an SQLite Databse for MeSH"
   ]
  },
  {
   "cell_type": "markdown",
   "metadata": {
    "hidden": true
   },
   "source": [
    "Call th SQL database module*"
   ]
  },
  {
   "cell_type": "code",
   "execution_count": null,
   "metadata": {
    "hidden": true
   },
   "outputs": [],
   "source": [
    "from sqlite3 import dbapi2 as sqlite\n",
    "import string, re, os"
   ]
  },
  {
   "cell_type": "markdown",
   "metadata": {
    "hidden": true
   },
   "source": [
    "Open the MeSH file for reading\n",
    "\n",
    "Create a dictionary object and assign key-value pairs corresponding to the codes and terms of meSH records. When  a line that beings with \"MH =\" occurs, capture the MESH term found on the line. When a line begins with \"MN =\" occurs, capture the MeSH number found on the line. Use the captured term to create a new key-value pair for a dictionary object. "
   ]
  },
  {
   "cell_type": "code",
   "execution_count": null,
   "metadata": {
    "hidden": true
   },
   "outputs": [],
   "source": [
    "mesh_file = open('d2020_truncated.bin', \"r\", encoding=\"utf8\")\n",
    "mesh_hash = {}\n",
    "entry = ()\n",
    "for line in mesh_file:\n",
    "    namematch = re.search(r'^MH = (.+)$', line)\n",
    "    if (namematch):\n",
    "        name = namematch.group(1)\n",
    "    numbermatch = re.search(r'^MN = (.+)$',line)\n",
    "    if numbermatch:\n",
    "        number = numbermatch.group(1)\n",
    "        mesh_hash[str(number)] = name"
   ]
  },
  {
   "cell_type": "markdown",
   "metadata": {
    "hidden": true
   },
   "source": [
    "Connect to the SQLite database"
   ]
  },
  {
   "cell_type": "code",
   "execution_count": null,
   "metadata": {
    "hidden": true
   },
   "outputs": [],
   "source": [
    "con=sqlite.connect('test1.db')"
   ]
  },
  {
   "cell_type": "markdown",
   "metadata": {
    "hidden": true
   },
   "source": [
    "Execute the SQL select statement, printing the contesnts of each successive row into the file"
   ]
  },
  {
   "cell_type": "code",
   "execution_count": null,
   "metadata": {
    "hidden": true
   },
   "outputs": [],
   "source": [
    "cur=con.cursor()\n",
    "cur.executescript(\"\"\"\n",
    "    create table mesh\n",
    "    (\n",
    "    name varchar(64),\n",
    "    term varchar(64)\n",
    "    );\n",
    "    \"\"\")\n",
    "for key, value in mesh_hash.items():\n",
    "    entry = (key, value)\n",
    "    cur.execute(\"insert into mesh (name, term) values (?, ?)\", entry)\n",
    "con.commit()"
   ]
  },
  {
   "cell_type": "markdown",
   "metadata": {
    "hidden": true
   },
   "source": [
    "**This section is adapted from section 5.4.1, \"Script Algorithm\", of page 93 from \"Methods in Medical Informatics\".*"
   ]
  },
  {
   "cell_type": "markdown",
   "metadata": {
    "heading_collapsed": true,
    "hidden": true
   },
   "source": [
    "## Analysis: Creating an SQLite Database for MeSH"
   ]
  },
  {
   "cell_type": "markdown",
   "metadata": {
    "hidden": true
   },
   "source": [
    "Many database programmers write programs that connect to an existing database,\n",
    "often residing on a remote server, replying to complex queries on the contained data.Some database programmers concentrate on writing programs that can add single reports to an existing database, entered by multiple users at multiple sites, a service that a hospital information systems might provide. Creating a new relational database by porting data from a large biomedical data set is a task more suited to a biomedical scientist than to a database programmer. The typical SQL data insertion statement commits the insertion and waits for the data to be loaded to disk before preparing the next insertion statement. This step, repeated thousands or millions of time, greatly impedes scripts such as ours, which loaded a data set into a database. In our script, we used a method that opens a transaction process that parses our entire data set before committing the process. This simple trick permits the rapid execution of the script.*"
   ]
  },
  {
   "cell_type": "markdown",
   "metadata": {
    "hidden": true
   },
   "source": [
    "**This section is adapted from section 5.4.2, \"Analysis\", of page 68 from \"Methods in Medical Informatics\".*"
   ]
  },
  {
   "cell_type": "markdown",
   "metadata": {
    "heading_collapsed": true
   },
   "source": [
    "# Reading the SQLite MeSH Database"
   ]
  },
  {
   "cell_type": "markdown",
   "metadata": {
    "hidden": true
   },
   "source": [
    "Once you have created an SQL relational database, as we have done in the prior section, you can access the data through a Python interface. SQL provides several ways of fetching and organizing data from a database. We will write a very simple script that connects to the database created in the prior section, enters the only table that we prepared, and fetches all of the data elements.*\n",
    "\n",
    "**Description adapted from page 96 of \"Methods in Medical Informatics\".*"
   ]
  },
  {
   "cell_type": "code",
   "execution_count": null,
   "metadata": {
    "ExecuteTime": {
     "end_time": "2020-11-22T17:39:02.794836Z",
     "start_time": "2020-11-22T17:39:02.782346Z"
    },
    "hidden": true
   },
   "outputs": [],
   "source": [
    "from sqlite3 import dbapi2 as sqlite\n",
    "out_text = open(\"meshdb.txt\", \"w\")\n",
    "con=sqlite.connect('test1.db')\n",
    "cur=con.cursor()\n",
    "cur.execute(\"select * from mesh\")\n",
    "for row in cur:\n",
    "    print(out_text, row[0], row[1])"
   ]
  },
  {
   "cell_type": "markdown",
   "metadata": {
    "heading_collapsed": true,
    "hidden": true
   },
   "source": [
    "## Script Algorithm: Reading the SQLite MeSH Database"
   ]
  },
  {
   "cell_type": "markdown",
   "metadata": {
    "hidden": true
   },
   "source": [
    "Call the SQL module*"
   ]
  },
  {
   "cell_type": "code",
   "execution_count": null,
   "metadata": {
    "hidden": true
   },
   "outputs": [],
   "source": [
    "from sqlite3 import dbapi2 as sqlite"
   ]
  },
  {
   "cell_type": "markdown",
   "metadata": {
    "hidden": true
   },
   "source": [
    "Open a file for writing. THis file will receive the data elements extracted from the database table"
   ]
  },
  {
   "cell_type": "code",
   "execution_count": null,
   "metadata": {
    "hidden": true
   },
   "outputs": [],
   "source": [
    "out_text = open(\"meshdb.txt\", \"w\")"
   ]
  },
  {
   "cell_type": "markdown",
   "metadata": {
    "hidden": true
   },
   "source": [
    "Connect to the SQLite database"
   ]
  },
  {
   "cell_type": "code",
   "execution_count": null,
   "metadata": {
    "hidden": true
   },
   "outputs": [],
   "source": [
    "con=sqlite.connect('test1.db')"
   ]
  },
  {
   "cell_type": "markdown",
   "metadata": {
    "hidden": true
   },
   "source": [
    "Execute the SQL select statement, printing the contents of each successive row into the writing file"
   ]
  },
  {
   "cell_type": "code",
   "execution_count": null,
   "metadata": {
    "hidden": true
   },
   "outputs": [],
   "source": [
    "cur=con.cursor()\n",
    "cur.execute(\"select * from mesh\")\n",
    "for row in cur:\n",
    "    print(out_text, row[0], row[1])"
   ]
  },
  {
   "cell_type": "markdown",
   "metadata": {
    "hidden": true
   },
   "source": [
    "**This section is adapted from section 5.5.1, \"Script Algorithm\", of page 96 from \"Methods in Medical Informatics\".*"
   ]
  },
  {
   "cell_type": "markdown",
   "metadata": {
    "heading_collapsed": true,
    "hidden": true
   },
   "source": [
    "## Analysis: Reading the SQLite MeSH Database"
   ]
  },
  {
   "cell_type": "markdown",
   "metadata": {
    "hidden": true
   },
   "source": [
    "In the script, we used the SQL \"select\" statement to extract data from rows. The \"select\" statement, along with about half a dozen optional parameters, is the key method used by professional programmers to interrogate relational databases and organize the extracted data. Healthcare professionals who master the intricacies of SQL's \"select\" statement will find that they can perform a wide range of database tasks with ease.*"
   ]
  },
  {
   "cell_type": "markdown",
   "metadata": {
    "hidden": true
   },
   "source": [
    "**This section is adapted from section 5.5.2, \"Analysis\", of pages 97-98 from \"Methods in Medical Informatics\".*"
   ]
  }
 ],
 "metadata": {
  "kernelspec": {
   "display_name": "Python 3",
   "language": "python",
   "name": "python3"
  },
  "language_info": {
   "codemirror_mode": {
    "name": "ipython",
    "version": 3
   },
   "file_extension": ".py",
   "mimetype": "text/x-python",
   "name": "python",
   "nbconvert_exporter": "python",
   "pygments_lexer": "ipython3",
   "version": "3.8.5"
  },
  "toc": {
   "base_numbering": 1,
   "nav_menu": {},
   "number_sections": true,
   "sideBar": true,
   "skip_h1_title": false,
   "title_cell": "Table of Contents",
   "title_sidebar": "Contents",
   "toc_cell": false,
   "toc_position": {},
   "toc_section_display": true,
   "toc_window_display": false
  }
 },
 "nbformat": 4,
 "nbformat_minor": 4
}
