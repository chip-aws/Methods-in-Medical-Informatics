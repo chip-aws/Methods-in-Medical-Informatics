{
 "cells": [
  {
   "cell_type": "markdown",
   "metadata": {},
   "source": [
    "# Determining the Hieraarchial Lineage for MeSH Terms"
   ]
  },
  {
   "cell_type": "code",
   "execution_count": null,
   "metadata": {},
   "outputs": [],
   "source": [
    "import re\n",
    "import string\n",
    "mesh = open(‘C:\\\\big\\\\d2009.bin’, “r”)\n",
    "out = open(“mesh.out”, “w”)\n",
    "namehash = {}\n",
    "numberhash = {}\n",
    "for line in mesh:\n",
    "    namematch = re.search(r’MH = (.+)$’, line)\n",
    "    if (namematch):\n",
    "        name = namematch.group(1)\n",
    "    numbermatch = re.search(r’MN = (.+)$’,line)\n",
    "    if numbermatch:\n",
    "        number = numbermatch.group(1)\n",
    "        numberhash[str(number)] = name\n",
    "        if namehash.has_key(name):\n",
    "            namehash[name] = namehash[name] + ‘ ‘ + str(number)\n",
    "        else:\n",
    "            namehash[name] = str(number)\n",
    "mesh.close()\n",
    "keylist = namehash.keys()\n",
    "keylist.sort()\n",
    "for key in keylist:\n",
    "    print>>out,”\\nTERM LINEAGE FOR “, key.upper()\n",
    "    cumlist = []\n",
    "    item_list = namehash[key].split(“ “)\n",
    "    for phrase in item_list:\n",
    "        cumlist.append(phrase)\n",
    "        while re.search(r’\\.’, phrase):\n",
    "        phrase = re.sub(r’\\.[0-9]+$’,””, phrase)\n",
    "        cumlist.append(phrase)\n",
    "    U = []\n",
    "    for item in cumlist:\n",
    "        if item not in U:\n",
    "            U.append(item)\n",
    "    U.sort()\n",
    "    for thing in U:\n",
    "        print>>out, thing, numberhash[str(thing)]"
   ]
  },
  {
   "cell_type": "markdown",
   "metadata": {},
   "source": [
    "# Creating a MeSH Database"
   ]
  },
  {
   "cell_type": "code",
   "execution_count": null,
   "metadata": {},
   "outputs": [],
   "source": [
    "import anydbm, string, re\n",
    "mesh_hash = anydbm.open(‘mesh’, ‘n’)\n",
    "mesh_file = open(‘C:\\\\big\\\\d2009.bin’, “r”)\n",
    "for line in mesh_file:\n",
    "    namematch = re.search(r’^MH = (.+)$’, line)\n",
    "    if (namematch):\n",
    "        name = namematch.group(1)\n",
    "    numbermatch = re.search(r’^MN = (.+)$’,line)\n",
    "    if numbermatch:\n",
    "        number = numbermatch.group(1)\n",
    "        mesh_hash[str(number)] = name\n",
    "mesh_hash.close()"
   ]
  },
  {
   "cell_type": "markdown",
   "metadata": {},
   "source": [
    "# Reading the MeSH Database"
   ]
  },
  {
   "cell_type": "code",
   "execution_count": null,
   "metadata": {},
   "outputs": [],
   "source": [
    "import anydbm, string, re\n",
    "mesh_hash = anydbm.open(‘mesh’)\n",
    "for number in mesh_hash.keys():\n",
    "    print number, mesh_hash[number]\n",
    "mesh_hash.close()"
   ]
  },
  {
   "cell_type": "markdown",
   "metadata": {},
   "source": [
    "# Creating an SQLite Database for MeSH"
   ]
  },
  {
   "cell_type": "code",
   "execution_count": null,
   "metadata": {},
   "outputs": [],
   "source": [
    "from pysqlite2 import dbapi2 as sqlite\n",
    "import string, re, os\n",
    "mesh_file = open(‘C:\\\\big\\\\d2009.bin’, “r”)\n",
    "mesh_hash = {}\n",
    "entry = ()\n",
    "for line in mesh_file:\n",
    "    namematch = re.search(r’^MH = (.+)$’, line)\n",
    "    if (namematch):\n",
    "    name = namematch.group(1)\n",
    "    numbermatch = re.search(r’^MN = (.+)$’,line)\n",
    "    if numbermatch:\n",
    "    number = numbermatch.group(1)\n",
    "    mesh_hash[str(number)] = name\n",
    "con=sqlite.connect(‘test1.db’)\n",
    "cur=con.cursor()\n",
    "cur.executescript(“””\n",
    "    create table mesh\n",
    "    (\n",
    "    name varchar(64),\n",
    "    term varchar(64)\n",
    "    );\n",
    "    “””)\n",
    "for key, value in mesh_hash.iteritems():\n",
    "    entry = (key, value)\n",
    "    cur.execute(“insert into mesh (name, term) values (?, ?)”, entry)\n",
    "con.commit()"
   ]
  },
  {
   "cell_type": "markdown",
   "metadata": {},
   "source": [
    "# Reading the SQLite MeSH Database"
   ]
  },
  {
   "cell_type": "code",
   "execution_count": null,
   "metadata": {},
   "outputs": [],
   "source": [
    "from pysqlite2 import dbapi2 as sqlite\n",
    "out_text = open(“meshdb.txt”, “w”)\n",
    "con=sqlite.connect(‘test1.db’)\n",
    "cur=con.cursor()\n",
    "cur.execute(“select * from mesh”)\n",
    "for row in cur:\n",
    "    print>>out_text, row[0], row[1]"
   ]
  }
 ],
 "metadata": {
  "kernelspec": {
   "display_name": "Python 3",
   "language": "python",
   "name": "python3"
  },
  "language_info": {
   "codemirror_mode": {
    "name": "ipython",
    "version": 3
   },
   "file_extension": ".py",
   "mimetype": "text/x-python",
   "name": "python",
   "nbconvert_exporter": "python",
   "pygments_lexer": "ipython3",
   "version": "3.7.4"
  },
  "toc": {
   "base_numbering": 1,
   "nav_menu": {},
   "number_sections": true,
   "sideBar": true,
   "skip_h1_title": false,
   "title_cell": "Table of Contents",
   "title_sidebar": "Contents",
   "toc_cell": false,
   "toc_position": {},
   "toc_section_display": true,
   "toc_window_display": false
  }
 },
 "nbformat": 4,
 "nbformat_minor": 4
}
