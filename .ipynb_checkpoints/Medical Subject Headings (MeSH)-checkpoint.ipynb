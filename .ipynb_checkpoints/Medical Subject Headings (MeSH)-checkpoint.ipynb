{
 "cells": [
  {
   "cell_type": "markdown",
   "metadata": {},
   "source": [
    "Welcome to chapter five of Methods in Medical Informatics! In this section, we will be exploring Medical Subject Headings or MeSH. MeSH is a medical terminology hosted by the National Library of Medicine. Terminologies are important for properly organizing and indexing collection of documents. MeSH is important for organizing and indexing medical documents. Lets begin!\n",
    "\n",
    "> Disclaimer: The content below is adapted from the book \"Methods in Medical Informatics - Fundamental of Healthcare Programming in Perl, Python, and Ruby\" by Jules J. Berman. All content is for testing, education, and teaching purposes only. No content will be openly released to the internet. "
   ]
  },
  {
   "cell_type": "markdown",
   "metadata": {},
   "source": [
    "# Determining the Hierarchical Lineage for MeSH Terms"
   ]
  },
  {
   "cell_type": "markdown",
   "metadata": {},
   "source": [
    "It is possible to write a script that parses through every MeSH entry, finds all of the MeSH numbers for the entry, determines the parent terms for the MeSH numbers, determines all of the alternate MeSH numbers for the parent terms, then find all of the grandparent terms for all of the parent terms, etc., until all of the hierarchical terms for the term are found*\n",
    "\n",
    "**Adapted from page 83 of \"Methods in Medical Informatics\".*"
   ]
  },
  {
   "cell_type": "code",
   "execution_count": null,
   "metadata": {
    "ExecuteTime": {
     "end_time": "2020-11-22T17:12:37.699267Z",
     "start_time": "2020-11-22T17:10:56.429940Z"
    }
   },
   "outputs": [],
   "source": [
    "import re\n",
    "import string\n",
    "mesh = open(\"d2020.bin\", \"r\", encoding=\"utf8\")\n",
    "out = open(\"mesh.out\", \"w\")\n",
    "namehash = {}\n",
    "numberhash = {}\n",
    "for line in mesh:\n",
    "    namematch = re.search(r'MH = (.+)$', line)\n",
    "    if (namematch):\n",
    "        name = namematch.group(1)\n",
    "    numbermatch = re.search(r'MN = (.+)$',line)\n",
    "    if numbermatch:\n",
    "        number = numbermatch.group(1)\n",
    "        numberhash[str(number)] = name\n",
    "        if name in namehash:\n",
    "            namehash[name] = namehash[name] + ' ' + str(number)\n",
    "        else:\n",
    "            namehash[name] = str(number)\n",
    "mesh.close()\n",
    "keylist = namehash.keys()\n",
    "sorted(keylist)\n",
    "for key in keylist:\n",
    "    print(out,\"\\nTERM LINEAGE FOR \", key.upper())\n",
    "    cumlist = []\n",
    "    item_list = namehash[key].split(\" \")\n",
    "    for phrase in item_list:\n",
    "        cumlist.append(phrase)\n",
    "        while re.search(r'\\.', phrase):\n",
    "            phrase = re.sub(r'\\.[0-9]+$',\"\", phrase)\n",
    "            cumlist.append(phrase)\n",
    "    U = []\n",
    "    for item in cumlist:\n",
    "        if item not in U:\n",
    "            U.append(item)\n",
    "    U.sort()\n",
    "    for thing in U:\n",
    "        print(out, thing, numberhash[str(thing)])"
   ]
  },
  {
   "cell_type": "markdown",
   "metadata": {},
   "source": [
    "## Script Algoriothm"
   ]
  },
  {
   "cell_type": "markdown",
   "metadata": {
    "ExecuteTime": {
     "end_time": "2020-11-24T09:54:28.756729Z",
     "start_time": "2020-11-24T09:54:28.727798Z"
    }
   },
   "source": [
    "Open the ASCII MeSH file"
   ]
  },
  {
   "cell_type": "code",
   "execution_count": null,
   "metadata": {},
   "outputs": [],
   "source": [
    "import re\n",
    "import string\n",
    "mesh = open(\"d2020.bin\", \"r\", encoding=\"utf8\")\n",
    "out = open(\"mesh.out\", \"w\")\n",
    "namehash = {}\n",
    "numberhash = {}"
   ]
  },
  {
   "cell_type": "markdown",
   "metadata": {},
   "source": [
    "Parse through the MeSH file, line by line. When a line that beings with \"MH =\" occurs, capture the MeSH term found. WHen a line that begins with \"MN =\" occurs, capture the MeSH number found on the line."
   ]
  },
  {
   "cell_type": "code",
   "execution_count": null,
   "metadata": {},
   "outputs": [],
   "source": [
    "for line in mesh:\n",
    "    namematch = re.search(r'MH = (.+)$', line)\n",
    "    if (namematch):\n",
    "        name = namematch.group(1)\n",
    "    numbermatch = re.search(r'MN = (.+)$',line)\n",
    "    if numbermatch:\n",
    "        number = numbermatch.group(1)\n",
    "        numberhash[str(number)] = name\n",
    "        if name in namehash:\n",
    "            namehash[name] = namehash[name] + ' ' + str(number)\n",
    "        else:\n",
    "            namehash[name] = str(number)\n",
    "mesh.close()"
   ]
  },
  {
   "cell_type": "markdown",
   "metadata": {},
   "source": []
  },
  {
   "cell_type": "code",
   "execution_count": null,
   "metadata": {},
   "outputs": [],
   "source": [
    "keylist = namehash.keys()\n",
    "sorted(keylist)\n",
    "for key in keylist:\n",
    "    print(out,\"\\nTERM LINEAGE FOR \", key.upper())\n",
    "    cumlist = []\n",
    "    item_list = namehash[key].split(\" \")\n",
    "    for phrase in item_list:\n",
    "        cumlist.append(phrase)\n",
    "        while re.search(r'\\.', phrase):\n",
    "            phrase = re.sub(r'\\.[0-9]+$',\"\", phrase)\n",
    "            cumlist.append(phrase)\n",
    "    U = []\n",
    "    for item in cumlist:\n",
    "        if item not in U:\n",
    "            U.append(item)\n",
    "    U.sort()\n",
    "    for thing in U:\n",
    "        print(out, thing, numberhash[str(thing)])"
   ]
  },
  {
   "cell_type": "code",
   "execution_count": null,
   "metadata": {},
   "outputs": [],
   "source": []
  },
  {
   "cell_type": "code",
   "execution_count": null,
   "metadata": {},
   "outputs": [],
   "source": []
  },
  {
   "cell_type": "markdown",
   "metadata": {
    "heading_collapsed": true
   },
   "source": [
    "## Analysis: Determining the Hierarchical Lineage for MeSH Terms"
   ]
  },
  {
   "cell_type": "markdown",
   "metadata": {
    "hidden": true
   },
   "source": [
    "The output file is quite large in length. Here are a few output terms and their MeSH lineage:\n",
    "\n",
    "`<_io.TextIOWrapper name='mesh.out' mode='w' encoding='cp1252'> \n",
    "TERM LINEAGE FOR  CALCIMYCIN\n",
    "<_io.TextIOWrapper name='mesh.out' mode='w' encoding='cp1252'> D03 Heterocyclic Compounds\n",
    "<_io.TextIOWrapper name='mesh.out' mode='w' encoding='cp1252'> D03.633 Heterocyclic Compounds, Fused-Ring\n",
    "<_io.TextIOWrapper name='mesh.out' mode='w' encoding='cp1252'> D03.633.100 Heterocyclic Compounds, 2-Ring`"
   ]
  },
  {
   "cell_type": "markdown",
   "metadata": {},
   "source": [
    "# Creating a MeSH Database"
   ]
  },
  {
   "cell_type": "markdown",
   "metadata": {},
   "source": [
    "The primary feature that distinguishes a database from a data object, such as a string variable or a list or a dictionary, is persistence. WHen you exit a database application, the data and the data structures created for the database, all persist, somewhere, on a hard drive. When you start the database at a later time, it is not necessary to port the data back into the application or to rebuild tables and relational structures; everything is waiting for you.*\n",
    "\n",
    "**Description adapted from page 88 of \"Methods in Medical Informatics\".*"
   ]
  },
  {
   "cell_type": "code",
   "execution_count": null,
   "metadata": {
    "ExecuteTime": {
     "end_time": "2020-11-22T17:30:57.782157Z",
     "start_time": "2020-11-22T17:30:57.743225Z"
    }
   },
   "outputs": [],
   "source": [
    "import dbm, string, re\n",
    "mesh_hash = dbm.open('mesh', 'n')\n",
    "# Use smaller file so this procedure can run quicker\n",
    "mesh_file = open('d2020_truncated.bin', \"r\", encoding=\"utf8\")\n",
    "print('Creating Database Please Wait.....')\n",
    "for line in mesh_file:\n",
    "    namematch = re.search(r'^MH = (.+)$', line)\n",
    "    if (namematch):\n",
    "        name = namematch.group(1)\n",
    "    numbermatch = re.search(r'^MN = (.+)$',line)\n",
    "    if numbermatch:\n",
    "        number = numbermatch.group(1)\n",
    "        mesh_hash[str(number)] = name\n",
    "print('Database Built')\n",
    "mesh_hash.close()"
   ]
  },
  {
   "cell_type": "markdown",
   "metadata": {
    "heading_collapsed": true
   },
   "source": [
    "## Analysis Creating a MeSH Database"
   ]
  },
  {
   "cell_type": "markdown",
   "metadata": {
    "hidden": true
   },
   "source": [
    "The created database exists as an external file. The name of the prefix to the external file is a parameter provided in the script statement that creates the database object: \"mesh\" in this example. "
   ]
  },
  {
   "cell_type": "markdown",
   "metadata": {},
   "source": [
    "# Reading the MeSH Database"
   ]
  },
  {
   "cell_type": "markdown",
   "metadata": {},
   "source": [
    "Once a database has been created, the data can be efficiently called from within the same script that created the database, or from any  other script, at any time.*\n",
    "\n",
    "**Description adapted from page 91 of \"Methods in Medical Informatics\".*"
   ]
  },
  {
   "cell_type": "code",
   "execution_count": null,
   "metadata": {
    "ExecuteTime": {
     "end_time": "2020-11-22T17:30:59.400014Z",
     "start_time": "2020-11-22T17:30:59.390605Z"
    }
   },
   "outputs": [],
   "source": [
    "import dbm, string, re\n",
    "mesh_hash = dbm.open('mesh')\n",
    "for number in mesh_hash.keys():\n",
    "    print(number, mesh_hash[number])\n",
    "mesh_hash.close()"
   ]
  },
  {
   "cell_type": "markdown",
   "metadata": {
    "heading_collapsed": true
   },
   "source": [
    "## Analysis: Reading the MeSH Database"
   ]
  },
  {
   "cell_type": "markdown",
   "metadata": {
    "hidden": true
   },
   "source": [
    "Once a database has been created, the data can be efficiently called from within the same script that created the database, or from any other script at any time. You only need to remember two things: (1) not to delete the created database file, and (2) not to assume that the database is in an unchanged object; other scripts can add to or modify the contents of the original database object. "
   ]
  },
  {
   "cell_type": "markdown",
   "metadata": {},
   "source": [
    "# Creating an SQLite Database for MeSH"
   ]
  },
  {
   "cell_type": "markdown",
   "metadata": {},
   "source": [
    "Structured Query Language (SQL) is a specialized language used to query relational databases. SQL allows programmers to connect with large, complex server-based network databases. Python has easy access to SQLite. SQLite is a no-cost, open source program that you can use to build your own relational database. The SQLite database will respond to SQL statements appearing within your Python script.*\n",
    "\n",
    "**Description adapted from page 92 of \"Methods in Medical Informatics\".*"
   ]
  },
  {
   "cell_type": "code",
   "execution_count": null,
   "metadata": {
    "ExecuteTime": {
     "end_time": "2020-11-22T17:38:55.654988Z",
     "start_time": "2020-11-22T17:38:55.619189Z"
    }
   },
   "outputs": [],
   "source": [
    "from sqlite3 import dbapi2 as sqlite\n",
    "import string, re, os\n",
    "mesh_file = open('d2020_truncated.bin', \"r\", encoding=\"utf8\")\n",
    "mesh_hash = {}\n",
    "entry = ()\n",
    "for line in mesh_file:\n",
    "    namematch = re.search(r'^MH = (.+)$', line)\n",
    "    if (namematch):\n",
    "        name = namematch.group(1)\n",
    "    numbermatch = re.search(r'^MN = (.+)$',line)\n",
    "    if numbermatch:\n",
    "        number = numbermatch.group(1)\n",
    "        mesh_hash[str(number)] = name\n",
    "con=sqlite.connect('test1.db')\n",
    "cur=con.cursor()\n",
    "cur.executescript(\"\"\"\n",
    "    create table mesh\n",
    "    (\n",
    "    name varchar(64),\n",
    "    term varchar(64)\n",
    "    );\n",
    "    \"\"\")\n",
    "for key, value in mesh_hash.items():\n",
    "    entry = (key, value)\n",
    "    cur.execute(\"insert into mesh (name, term) values (?, ?)\", entry)\n",
    "con.commit()"
   ]
  },
  {
   "cell_type": "markdown",
   "metadata": {
    "heading_collapsed": true
   },
   "source": [
    "## Analysis: Creating an SQLite Database for MeSH"
   ]
  },
  {
   "cell_type": "markdown",
   "metadata": {
    "hidden": true
   },
   "source": [
    "Many database programmers write programs that connect to an existing database,\n",
    "often residing on a remote server, replying to complex queries on the contained data.Some database programmers concentrate on writing programs that can add single reports to an existing database, entered by multiple users at multiple sites, a service that a hospital information systems might provide. Creating a new relational database by porting data from a large biomedical data set is a task more suited to a biomedical scientist than to a database programmer. The typical SQL data insertion statement commits the insertion and waits for the data to be loaded to disk before preparing the next insertion statement. This step, repeated thousands or millions of time, greatly impedes scripts such as ours, which loaded a data set into a database. In our script, we used a method that opens a transaction process that parses our entire data set before committing the process. This simple trick permits the rapid execution of the script."
   ]
  },
  {
   "cell_type": "markdown",
   "metadata": {},
   "source": [
    "# Reading the SQLite MeSH Database"
   ]
  },
  {
   "cell_type": "markdown",
   "metadata": {},
   "source": [
    "Once you have created an SQL relational database, as we have done in the prior section, you can access the data through a Python interface. SQL provides several ways of fetching and organizing data from a database. We will write a very simple script that connects to the database created in the prior section, enters the only table that we prepared, and fetches all of the data elements.*\n",
    "\n",
    "**Description adapted from page 96 of \"Methods in Medical Informatics\".*"
   ]
  },
  {
   "cell_type": "code",
   "execution_count": null,
   "metadata": {
    "ExecuteTime": {
     "end_time": "2020-11-22T17:39:02.794836Z",
     "start_time": "2020-11-22T17:39:02.782346Z"
    }
   },
   "outputs": [],
   "source": [
    "from sqlite3 import dbapi2 as sqlite\n",
    "out_text = open(\"meshdb.txt\", \"w\")\n",
    "con=sqlite.connect('test1.db')\n",
    "cur=con.cursor()\n",
    "cur.execute(\"select * from mesh\")\n",
    "for row in cur:\n",
    "    print(out_text, row[0], row[1])"
   ]
  },
  {
   "cell_type": "markdown",
   "metadata": {
    "heading_collapsed": true
   },
   "source": [
    "## Analysis: Reading the SQLite MeSH Database"
   ]
  },
  {
   "cell_type": "markdown",
   "metadata": {
    "hidden": true
   },
   "source": [
    "In the script, we used the SQL \"select\" statement to extract data from rows. The \"select\" statement, along with about half a dozen optional parameters, is the key method used by professional programmers to interrogate relational databases and organize the extracted data. Healthcare professionals who master the intricacies of SQL's \"select\" statement will find that they can perform a wide range of database tasks with ease. "
   ]
  }
 ],
 "metadata": {
  "kernelspec": {
   "display_name": "Python 3",
   "language": "python",
   "name": "python3"
  },
  "language_info": {
   "codemirror_mode": {
    "name": "ipython",
    "version": 3
   },
   "file_extension": ".py",
   "mimetype": "text/x-python",
   "name": "python",
   "nbconvert_exporter": "python",
   "pygments_lexer": "ipython3",
   "version": "3.8.5"
  },
  "toc": {
   "base_numbering": 1,
   "nav_menu": {},
   "number_sections": true,
   "sideBar": true,
   "skip_h1_title": false,
   "title_cell": "Table of Contents",
   "title_sidebar": "Contents",
   "toc_cell": false,
   "toc_position": {},
   "toc_section_display": true,
   "toc_window_display": false
  }
 },
 "nbformat": 4,
 "nbformat_minor": 4
}
