{
 "cells": [
  {
   "cell_type": "markdown",
   "metadata": {},
   "source": [
    "Welcome to chapter sixteen of Methods in Medical Informatics! Today, a large portion of data and information is hosted online. This chapter will introduce two scripts demonstrating grabbing data from the web. Lets begin!\n",
    "\n",
    "> Disclaimer: The content below is adapted from the book \"Methods in Medical Informatics - Fundamental of Healthcare Programming in Perl, Python, and Ruby\" by Jules J. Berman. All content is for testing, education, and teaching purposes only. No content will be openly released to the internet. "
   ]
  },
  {
   "cell_type": "markdown",
   "metadata": {
    "heading_collapsed": true
   },
   "source": [
    "# Grabbing Web Pages"
   ]
  },
  {
   "cell_type": "markdown",
   "metadata": {
    "hidden": true
   },
   "source": [
    "Accessible Web pages are files (usually in HTML format) that reside on servers which\n",
    "accept HTTP requests from clients connected to the Internet. Browsers are software\n",
    "applications that send HTTP requests and display the received Web pages. Using\n",
    "Perl, Python, or Ruby, you can automate HTTP requests. For each language, the\n",
    "easiest way to make an HTTP request is to use a module that comes bundled as a\n",
    "standard component of the language.*\n",
    "\n",
    "**Description adapted from pages 53-54 of \"Methods in Medical Informatics\"*"
   ]
  },
  {
   "cell_type": "code",
   "execution_count": 1,
   "metadata": {
    "ExecuteTime": {
     "end_time": "2020-12-06T23:53:20.098197Z",
     "start_time": "2020-12-06T23:53:20.058635Z"
    },
    "hidden": true
   },
   "outputs": [
    {
     "ename": "SyntaxError",
     "evalue": "invalid syntax (<ipython-input-1-d02b3752dbe6>, line 5)",
     "output_type": "error",
     "traceback": [
      "\u001b[1;36m  File \u001b[1;32m\"<ipython-input-1-d02b3752dbe6>\"\u001b[1;36m, line \u001b[1;32m5\u001b[0m\n\u001b[1;33m    except urllib2.HTTPError, e:\u001b[0m\n\u001b[1;37m                            ^\u001b[0m\n\u001b[1;31mSyntaxError\u001b[0m\u001b[1;31m:\u001b[0m invalid syntax\n"
     ]
    }
   ],
   "source": [
    "import urllib2\n",
    "req = urllib2.Request('http://www.julesberman.info/factoids/batch.htm')\n",
    "try:\n",
    "    response = urllib2.urlopen(req)\n",
    "except urllib2.HTTPError, e:\n",
    "    print('The server couldn\\’t fulfill the request.')\n",
    "    print('Error code: ', e.code)\n",
    "except urllib2.URLError, e:\n",
    "    print('We failed to reach a server.')\n",
    "    print('Reason: ', e.reason)\n",
    "else:\n",
    "    print(urllib2.urlopen(req).read())\n",
    "req = urllib2.Request('http://www.julesberman.info/factoids/xxxxx.htm')\n",
    "try:\n",
    "    response = urllib2.urlopen(req)\n",
    "except urllib2.HTTPError, e:\n",
    "    print('The server couldn\\’t fulfill the request.')\n",
    "    print('Error code: ', e.code)\n",
    "except urllib2.URLError, e:\n",
    "    print('We failed to reach a server.')\n",
    "    print('Reason: ', e.reason)\n",
    "else:\n",
    "    print(urllib2.urlopen(req).read())"
   ]
  },
  {
   "cell_type": "markdown",
   "metadata": {
    "heading_collapsed": true,
    "hidden": true
   },
   "source": [
    "## Script Algorithm: Grabbing Web Pages"
   ]
  },
  {
   "cell_type": "markdown",
   "metadata": {
    "hidden": true
   },
   "source": [
    "Import the module that makes HTTP requests.*"
   ]
  },
  {
   "cell_type": "code",
   "execution_count": null,
   "metadata": {
    "hidden": true
   },
   "outputs": [],
   "source": [
    "import urllib2"
   ]
  },
  {
   "cell_type": "markdown",
   "metadata": {
    "ExecuteTime": {
     "end_time": "2020-12-06T23:54:46.043387Z",
     "start_time": "2020-12-06T23:54:46.027142Z"
    },
    "hidden": true
   },
   "source": [
    "Make the HTTP request."
   ]
  },
  {
   "cell_type": "code",
   "execution_count": null,
   "metadata": {
    "hidden": true
   },
   "outputs": [],
   "source": [
    "req = urllib2.Request('http://www.julesberman.info/factoids/batch.htm')"
   ]
  },
  {
   "cell_type": "markdown",
   "metadata": {
    "hidden": true
   },
   "source": [
    "If the request returns the Web page, print the page. Otherwise, print a message\n",
    "indicating the request was unsuccessful."
   ]
  },
  {
   "cell_type": "code",
   "execution_count": null,
   "metadata": {
    "hidden": true
   },
   "outputs": [],
   "source": [
    "try:\n",
    "    response = urllib2.urlopen(req)\n",
    "except urllib2.HTTPError, e:\n",
    "    print('The server couldn\\’t fulfill the request.')\n",
    "    print('Error code: ', e.code)\n",
    "except urllib2.URLError, e:\n",
    "    print('We failed to reach a server.')\n",
    "    print('Reason: ', e.reason)\n",
    "else:\n",
    "    print(urllib2.urlopen(req).read())\n",
    "req = urllib2.Request('http://www.julesberman.info/factoids/xxxxx.htm')\n",
    "try:\n",
    "    response = urllib2.urlopen(req)\n",
    "except urllib2.HTTPError, e:\n",
    "    print('The server couldn\\’t fulfill the request.')\n",
    "    print('Error code: ', e.code)\n",
    "except urllib2.URLError, e:\n",
    "    print('We failed to reach a server.')\n",
    "    print('Reason: ', e.reason)\n",
    "else:\n",
    "    print(urllib2.urlopen(req).read())"
   ]
  },
  {
   "cell_type": "markdown",
   "metadata": {
    "hidden": true
   },
   "source": [
    "**This section is adapted from section 16.1.1, \"Script Algorithm\", of page 227 from \"Methods in Medical Informatics\".*"
   ]
  },
  {
   "cell_type": "markdown",
   "metadata": {
    "heading_collapsed": true,
    "hidden": true
   },
   "source": [
    "## Analysis: Grabbing Web Pages"
   ]
  },
  {
   "cell_type": "markdown",
   "metadata": {
    "hidden": true
   },
   "source": [
    "Perl, Python, and Ruby use their own external modules for HTTP transactions. Each\n",
    "language’s module has its own peculiar syntax. Still, the basic operation is the same:\n",
    "your script initiates an HTTP request for a Web file at a specific network address (the\n",
    "URL, or Uniform Resource Locator). A response is received, and the Web page is\n",
    "retrieved, if possible. Otherwise, the response will contain some information indicating\n",
    "why the page could not be retrieved.\n",
    "You can see that, with a little effort, you can use this basic script to collect and\n",
    "examine a large number of Web pages. With a little more effort, you can write your own spider software that searches for Web addresses, and iteratively collects information\n",
    "from Web links within Web pages.*\n",
    "\n",
    "**This section is adapted from section 16.1.2, \"Analysis\", of pages 229-230 in \"Methods in Medical Informatics\".*"
   ]
  },
  {
   "cell_type": "markdown",
   "metadata": {
    "heading_collapsed": true
   },
   "source": [
    "# CGI Scipt for Searching the Neoplasm Classification"
   ]
  },
  {
   "cell_type": "markdown",
   "metadata": {
    "hidden": true
   },
   "source": [
    "Here are the steps for using CGI scripts:\n",
    "1. Get yourself a server account with access to a “public_html” directory and a\n",
    "“cgi-bin” subdirectory. This is usually accomplished by paying a commercial\n",
    "ISP (Internet Service Provider) for a Web account, or by asking your company\n",
    "or academic sponsor for an account. When you get your account, the provider\n",
    "will explain to you how you can deposit, via FTP, Web pages (that you create)\n",
    "onto the public_html directory. The provider will also explain how you can\n",
    "deposit your CGI scripts onto the cgi-bin subdirectory. He will also explain\n",
    "how you can assign settings to your CGI scripts that restrict access to certain\n",
    "sets of users. The provider will also tell you if there are limitations on the kinds\n",
    "of scripts permitted on the server (e.g., specific versions of a language might be\n",
    "required by the server, and the server may be set up for one language and not\n",
    "another).\n",
    "2. Create a Web page that creates an HTML form. Almost every HTML book\n",
    "contains information about forms. Forms are HTML objects that accept user\n",
    "input and send the input to a designated server. Text boxes and radio buttons\n",
    "are commonly encountered form objects. They can be created in just a\n",
    "few lines of HTML code. You will put the Web page in your public_html\n",
    "directory. This Web page will be accessible to anyone in the world who happens\n",
    "to know the Web address of the HTML page. Your server manager will\n",
    "provide you with the Web address of your public_html directory, and the\n",
    "complete address of the Web page is simply the HTML file name appended\n",
    "to the directory address.\n",
    "3. Create a script that sits in the cgi-bin subdirectory of a server, whose specific\n",
    "address is included in the form that you previously included in your Web\n",
    "page. When anyone viewing your Web page, enters information in the form,\n",
    "and submits the information (usually by clicking on a button in the form), the\n",
    "information will be sent to your server-side script and processed.\n",
    "This describes the basic steps for a CGI script. With a little imagination, you can see\n",
    "the enormous power of this approach. The best thing about CGI is that you do not\n",
    "need to learn another language. You simply apply the programming skills you have\n",
    "already mastered.\n",
    "The neoplasm taxonomy is an example of a medical nomenclature that is easy to\n",
    "parse, search, and produce an output in a preferred format. We can use the neoplasm taxonomy to search for neoplasm terms that match words and phrases submitted on a\n",
    "Web page. This will be our introductory CGI script.*\n",
    "\n",
    "**Description adapted from pages 230-231 of \"Methods in Medical Informatics\"*"
   ]
  },
  {
   "cell_type": "markdown",
   "metadata": {
    "ExecuteTime": {
     "end_time": "2020-12-07T00:03:47.960992Z",
     "start_time": "2020-12-07T00:03:47.944071Z"
    },
    "hidden": true
   },
   "source": [
    "HTML text for client (requesting) web page:\n",
    "\n",
    "<html>\n",
    "<head>\n",
    "<title>post</title>\n",
    "</head>\n",
    "<body>\n",
    "<br><form name=\"sender\" method=\"GET\"\n",
    "action=\"\">\n",
    "<br><center><input type=\"text\" name=\"tx\" size=38\n",
    "maxlength=48 value=\"\">\n",
    "<input type=\"submit\" name=\"bx\" value=\"SUBMIT\"></center>\n",
    "</form>\n",
    "<br><br>\n",
    "</body>\n",
    "</html>"
   ]
  },
  {
   "cell_type": "code",
   "execution_count": 6,
   "metadata": {
    "ExecuteTime": {
     "end_time": "2020-12-07T00:03:10.825826Z",
     "start_time": "2020-12-07T00:03:10.596199Z"
    },
    "hidden": true
   },
   "outputs": [
    {
     "name": "stdout",
     "output_type": "stream",
     "text": [
      "Content-type: text/html\n",
      "<html><head><title>Sample CGI Script</title></head><body>\n",
      "<br>Only alphabetic letters and spaces are permitted in the query box\n",
      "</body></html>\n",
      "<br>Your query term is (no message)<br>\n"
     ]
    }
   ],
   "source": [
    "import cgi, re, sys\n",
    "import cgitb; cgitb.enable()\n",
    "print(\"Content-type: text/html\")\n",
    "print(\"<html><head><title>Sample CGI Script</title></head><body>\")\n",
    "form = cgi.FieldStorage()\n",
    "message = form.getvalue(\"tx\", \"(no message)\")\n",
    "term_check = re.search(r'[A-Za-z ]+$', message)\n",
    "if not term_check:\n",
    "    print(\"<br>Only alphabetic letters and spaces are permitted in the query box\")\n",
    "    print(\"</body></html>\")\n",
    "print(\"<br>Your query term is \" + message + \"<br>\")\n",
    "in_text = open(\"./K11946_Files/neoself\", \"r\")\n",
    "for line in in_text:\n",
    "    query_match = re.search(message, line)\n",
    "    if query_match:\n",
    "        line = re.sub(r'\\|',\"<br>\", line)\n",
    "        print(\"<br>\" + line + \"<br>\")"
   ]
  },
  {
   "cell_type": "markdown",
   "metadata": {
    "heading_collapsed": true,
    "hidden": true
   },
   "source": [
    "## Script Algorithm: CGI Scipt for Searching the Neoplasm Classification"
   ]
  },
  {
   "cell_type": "markdown",
   "metadata": {
    "hidden": true
   },
   "source": [
    "Create a very simple Web page, consisting of a simple form containing a text box for user input (Figure 16.1). The form will contain the URL (Universal Resource Locator, or Web address) for the cgi-bin where your CGI script resides.*"
   ]
  },
  {
   "cell_type": "markdown",
   "metadata": {
    "hidden": true
   },
   "source": [
    "HTML text for client (requesting) web page:\n",
    "\n",
    "<html>\n",
    "<head>\n",
    "<title>post</title>\n",
    "</head>\n",
    "<body>\n",
    "<br><form name=\"sender\" method=\"GET\"\n",
    "action=\"\">\n",
    "<br><center><input type=\"text\" name=\"tx\" size=38\n",
    "maxlength=48 value=\"\">\n",
    "<input type=\"submit\" name=\"bx\" value=\"SUBMIT\"></center>\n",
    "</form>\n",
    "<br><br>\n",
    "</body>\n",
    "</html>"
   ]
  },
  {
   "cell_type": "markdown",
   "metadata": {
    "hidden": true
   },
   "source": [
    "Upload the HTML document (your Web page) to the public_html directory\n",
    "on your Web server. Clients will send requests by entering information on the\n",
    "HTML document. Create a script that you will upload to the cgi-bin of your server, which has the\n",
    "address specified in the Web page form (steps 1 and 2). The script will execute\n",
    "the following steps when it receives a request from a client. Capture the character string sent by the Web page, using command syntax\n",
    "specific to your preferred programming language, and place the text into a\n",
    "string object. Print out the HTML header of the Web page that will be returned to the client\n",
    "(the user, sitting at a browser, somewhere on planet Earth, and looking at\n",
    "your Web page). Process the text that the user sent to the CGI script. In this case, the information\n",
    "will be matched against every line in the neoself document, a 17+ megabyte\n",
    "(MB) collection of neoplasm terms that we previously created in Chapter 11.\n",
    "The neoself document must be deposited onto the server’s cgi-bin. Parse through every line of the neoself document. When a line that contains\n",
    "the string entered by the Web user is encountered, it is printed. Parsing_and_Transforming_Text_Files.ipynbrint the HTML tags that mark the end of the Web page."
   ]
  },
  {
   "cell_type": "code",
   "execution_count": null,
   "metadata": {
    "hidden": true
   },
   "outputs": [],
   "source": [
    "import cgi, re, sys\n",
    "import cgitb; cgitb.enable()\n",
    "print(\"Content-type: text/html\")\n",
    "print(\"<html><head><title>Sample CGI Script</title></head><body>\")\n",
    "form = cgi.FieldStorage()\n",
    "message = form.getvalue(\"tx\", \"(no message)\")\n",
    "term_check = re.search(r'[A-Za-z ]+$', message)\n",
    "if not term_check:\n",
    "    print(\"<br>Only alphabetic letters and spaces are permitted in the query box\")\n",
    "    print(\"</body></html>\")\n",
    "print(\"<br>Your query term is \" + message + \"<br>\")\n",
    "in_text = open(\"./K11946_Files/neoself\", \"r\")\n",
    "for line in in_text:\n",
    "    query_match = re.search(message, line)\n",
    "    if query_match:\n",
    "        line = re.sub(r'\\|',\"<br>\", line)\n",
    "        print(\"<br>\" + line + \"<br>\")"
   ]
  },
  {
   "cell_type": "markdown",
   "metadata": {
    "hidden": true
   },
   "source": [
    "**This section is adapted from section 16.2.1, \"Script Algorithm\", of page 231 from \"Methods in Medical Informatics\".*"
   ]
  },
  {
   "cell_type": "markdown",
   "metadata": {
    "heading_collapsed": true,
    "hidden": true
   },
   "source": [
    "## Analysis: CGI Scipt for Searching the Neoplasm Classification"
   ]
  },
  {
   "cell_type": "markdown",
   "metadata": {
    "hidden": true
   },
   "source": [
    "In this case, the user entered the word “rhabdoid” into the Web page query box.\n",
    "The output immediately appears, as another Web page, in the same user’s browser\n",
    "(Figure 16.2).\n",
    "Notice that when the user pushes the “submit” button, all of the transmitted information\n",
    "appears in the browser’s entry box, at the top of the Web page.*\n",
    "\n",
    "**This section is adapted from section 16.2.2, \"Analysis\", of page 235 in \"Methods in Medical Informatics\".*"
   ]
  }
 ],
 "metadata": {
  "kernelspec": {
   "display_name": "Python 3",
   "language": "python",
   "name": "python3"
  },
  "language_info": {
   "codemirror_mode": {
    "name": "ipython",
    "version": 3
   },
   "file_extension": ".py",
   "mimetype": "text/x-python",
   "name": "python",
   "nbconvert_exporter": "python",
   "pygments_lexer": "ipython3",
   "version": "3.8.5"
  },
  "toc": {
   "base_numbering": 1,
   "nav_menu": {},
   "number_sections": true,
   "sideBar": true,
   "skip_h1_title": false,
   "title_cell": "Table of Contents",
   "title_sidebar": "Contents",
   "toc_cell": false,
   "toc_position": {},
   "toc_section_display": true,
   "toc_window_display": false
  }
 },
 "nbformat": 4,
 "nbformat_minor": 4
}
