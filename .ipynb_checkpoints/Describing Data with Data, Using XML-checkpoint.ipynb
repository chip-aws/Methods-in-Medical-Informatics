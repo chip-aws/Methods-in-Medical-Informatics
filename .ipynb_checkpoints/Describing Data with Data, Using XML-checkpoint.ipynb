{
 "cells": [
  {
   "cell_type": "markdown",
   "metadata": {
    "heading_collapsed": true
   },
   "source": [
    "# Parsing XML"
   ]
  },
  {
   "cell_type": "markdown",
   "metadata": {
    "hidden": true
   },
   "source": [
    "In Chapter 11, we wrote an XML parser for the neoplasm taxonomy. While parsing\n",
    "the file, our script automatically checked to determine that the file is well-formed\n",
    "XML (i.e., if it conforms to the rules of XML syntax). Had there been any nonconforming\n",
    "lines or characters anywhere in the 10+ megabyte (MB) neoplasm taxonomy\n",
    "file, our script would have indicated the specific lines in the file where a syntactic error\n",
    "occurred. Let us write a script whose only purpose is to check XML documents for\n",
    "proper syntax."
   ]
  },
  {
   "cell_type": "code",
   "execution_count": 1,
   "metadata": {
    "ExecuteTime": {
     "end_time": "2020-11-22T23:51:50.294561Z",
     "start_time": "2020-11-22T23:51:50.029239Z"
    },
    "hidden": true
   },
   "outputs": [],
   "source": [
    "import xml.sax\n",
    "import pprint\n",
    "parser = xml.sax.make_parser( )\n",
    "parser.parse('./K11946_Files/NEOCL.XML')"
   ]
  },
  {
   "cell_type": "markdown",
   "metadata": {
    "heading_collapsed": true,
    "hidden": true
   },
   "source": [
    "## Script Algorithm: Parsing XML"
   ]
  },
  {
   "cell_type": "markdown",
   "metadata": {
    "hidden": true
   },
   "source": [
    "1. Import an XML parsing module.\n",
    "2. Create a new parser object.\n",
    "3. Using a (parsing) method available in the parsing module, provide the method\n",
    "with the name of the file you wish to parse.\n",
    "4. The parsing module will send a message to your screen if any parts of the file\n",
    "are not well formed."
   ]
  },
  {
   "cell_type": "markdown",
   "metadata": {
    "heading_collapsed": true,
    "hidden": true
   },
   "source": [
    "## Analysis: Parsing XML"
   ]
  },
  {
   "cell_type": "markdown",
   "metadata": {
    "hidden": true
   },
   "source": [
    "This script takes just a few lines of code, and parses XML files very quickly. The script\n",
    "determines whether the XML file is well formed. For this example, I deliberately\n",
    "opened the 10+ MB neocl.xml file, and created a syntax error by removing the end\n",
    "of the stage tag a few lines from the end of the file. The script found the error and\n",
    "reported the file location where the error occurred. Syntax errors, when they occur,\n",
    "are always detected.\n",
    "There are basically two types of XML parsing methods: stream methods (such as\n",
    "our script), and DOM (Document Object Model) methods.\n",
    "Stream methods parse through the file, much like any text parser, until an XML\n",
    "“event” occurs (such as an encounter with the beginning of an XML tag, or the end of\n",
    "an XML tag). When an event occurs, information is collected that must be reconciled\n",
    "with subsequent events (e.g., every tag must have an end tag, and child tags must end\n",
    "before the parent tag ends). The streaming parsers permit users to add additional commands\n",
    "to be executed during an event.\n",
    "DOM parsers build a model of the XML structure (i.e., all the XML objects and\n",
    "their relationships to each other). DOMs allow us to use the relationships among\n",
    "XML objects in applications. The drawback of DOM parsers is that iterations up and\n",
    "down the relational model, as the XML document is parsed, slow the script. A large\n",
    "XML document (many megabytes) with a complex XML structure can take a very\n",
    "long time to parse.\n",
    "Because I tend to use big XML documents, with many child elements, that have\n",
    "long lineages, I use stream parsers exclusively. I suspect that healthcare workers, who\n",
    "use large XML data sets, will tend to rely on stream parsers."
   ]
  },
  {
   "cell_type": "markdown",
   "metadata": {
    "heading_collapsed": true
   },
   "source": [
    "# Dublin Core Metadata"
   ]
  },
  {
   "cell_type": "markdown",
   "metadata": {
    "hidden": true
   },
   "source": [
    "The Dublin Core consists of about 15 data elements, selected by a group of librarians,\n",
    "that specify the kind of file information a librarian might use to describe a file, index\n",
    "the described file, and retrieve files based on included information.\n",
    "There are many publicly available documents that describe the Dublin Core elements:\n",
    "http://www.ietf.org/rfc/rfc2731.txt\n",
    "The Dublin Core elements can be inserted into HTML documents, simple XML\n",
    "documents, or RDF documents. A public document explains exactly how the Dublin\n",
    "Core elements can be used in these file formats:\n",
    "http://dublincore.org/documents/usageguide/#rdfxml\n",
    "An example of a simple, and shortened, Dublin Core file description in RDF format\n",
    "is shown in Figure 18.1:\n",
    "Because RDF is a dialect of XML, we can parse RDF files with the same scripts\n",
    "that parse XML files. Because XML (and RDF) are ASCII files, they can be inserted\n",
    "into the header sections of image files. When Dublin Core RDF is inserted into an\n",
    "image file, it can be easily extracted and used to identify the file, and the individual\n",
    "Dublin Core elements can be combined with Dublin Core elements from other files\n",
    "to organize a wide range of data sources."
   ]
  },
  {
   "cell_type": "markdown",
   "metadata": {
    "heading_collapsed": true
   },
   "source": [
    "# Insert an RDF Document into an Image File"
   ]
  },
  {
   "cell_type": "markdown",
   "metadata": {
    "hidden": true
   },
   "source": [
    "It is easy to insert an RDF document into the header of a JPEG image file, and it is\n",
    "just as easy to extract the RDF triples."
   ]
  },
  {
   "cell_type": "code",
   "execution_count": 2,
   "metadata": {
    "ExecuteTime": {
     "end_time": "2020-11-22T23:52:31.261455Z",
     "start_time": "2020-11-22T23:52:30.672291Z"
    },
    "hidden": true
   },
   "outputs": [],
   "source": [
    "def pngsave(im, file):\n",
    "    from PIL import PngImagePlugin\n",
    "    meta = PngImagePlugin.PngInfo()\n",
    "    for k,v in im.info.items():\n",
    "        meta.add_text(k, v, 0)\n",
    "    im.save(file, \"PNG\", pnginfo=meta)\n",
    "from PIL import Image\n",
    "image = Image.open(\"./K11946_Files/3320.jpg\")\n",
    "image.save(\"./K11946_Files/3320.png\")\n",
    "rdf_file = open(\"./K11946_Files/RDF_DESC.XML\", \"rb\")\n",
    "description = rdf_file.read()\n",
    "rdf_file.close()\n",
    "im = Image.open(\"./K11946_Files/3320.png\")\n",
    "im.info[\"description\"] = description\n",
    "pngsave(im, \"./K11946_Files/3320.png\")"
   ]
  },
  {
   "cell_type": "markdown",
   "metadata": {
    "heading_collapsed": true,
    "hidden": true
   },
   "source": [
    "## Script Algorithm: Insert an RDF Document into an Image File"
   ]
  },
  {
   "cell_type": "markdown",
   "metadata": {
    "hidden": true
   },
   "source": [
    "1. Prepare your RDF document. In this case, we will use the RDF file containing\n",
    "a few Dublin Core elements, available at\n",
    "http://www.julesberman.info/book/rdf_desc.xml\n",
    "2. Open an image file. In this case, we use the JPEG file/3320.jpg, available at\n",
    "http://www.julesberman.info/book/3320.jpg\n",
    "3. Insert the RDF document into the Comment section of the JPEG header.\n",
    "4. Save the file.\n",
    "5. Extract the header comments."
   ]
  },
  {
   "cell_type": "markdown",
   "metadata": {
    "heading_collapsed": true,
    "hidden": true
   },
   "source": [
    "## Analysis: Insert an RDF Document into an Image File"
   ]
  },
  {
   "cell_type": "markdown",
   "metadata": {
    "hidden": true
   },
   "source": [
    "When you include Dublin Core elements in your image headers, you accomplish several\n",
    "very important goals at once:\n",
    "1. You provide your colleagues with important descriptive information about\n",
    "the image.\n",
    "2. You provide indexing services and search engines with information that they can\n",
    "extract, from your Web-residing images, that permits others to find your images.\n",
    "3. If you provide copyright information and language that fully explains the\n",
    "rights of the creator and the user, you can ensure that anyone who acquires\n",
    "your image will have the information they need to use your intellectual property\n",
    "in a responsible and legal manner.\n",
    "4. You turn your image into a mini-database, that can be integrated with other\n",
    "database files."
   ]
  },
  {
   "cell_type": "markdown",
   "metadata": {
    "heading_collapsed": true
   },
   "source": [
    "# Insert an Image File into an RDF Document"
   ]
  },
  {
   "cell_type": "markdown",
   "metadata": {
    "hidden": true
   },
   "source": [
    "Though we distinguish text files from binary files, all files are actually binary files.\n",
    "Sequential bytes of 8 bits are converted to ASCII equivalents, and if the ASCII equivalents are alphanumeric, we call the file a text file. If the ASCII values of 8-bit\n",
    "sequential file chunks are nonalphanumeric, we call the files binary files.\n",
    "Standard format image files are always binary files. Because RDF syntax is a pure\n",
    "ASCII file format, image binaries cannot be directly pasted into an RDF document.\n",
    "However, binary files can be interconverted to and from ASCII format, using a simple\n",
    "software utility."
   ]
  },
  {
   "cell_type": "code",
   "execution_count": 3,
   "metadata": {
    "ExecuteTime": {
     "end_time": "2020-11-22T23:52:32.586119Z",
     "start_time": "2020-11-22T23:52:32.351510Z"
    },
    "hidden": true
   },
   "outputs": [
    {
     "ename": "TypeError",
     "evalue": "can only concatenate str (not \"bytes\") to str",
     "output_type": "error",
     "traceback": [
      "\u001b[1;31m---------------------------------------------------------------------------\u001b[0m",
      "\u001b[1;31mTypeError\u001b[0m                                 Traceback (most recent call last)",
      "\u001b[1;32m<ipython-input-3-1ac7ec3e02d8>\u001b[0m in \u001b[0;36m<module>\u001b[1;34m\u001b[0m\n\u001b[0;32m      9\u001b[0m \u001b[0mrdf_file\u001b[0m\u001b[1;33m.\u001b[0m\u001b[0mclose\u001b[0m\u001b[1;33m(\u001b[0m\u001b[1;33m)\u001b[0m\u001b[1;33m\u001b[0m\u001b[1;33m\u001b[0m\u001b[0m\n\u001b[0;32m     10\u001b[0m \u001b[0mrdflist\u001b[0m \u001b[1;33m=\u001b[0m \u001b[0mre\u001b[0m\u001b[1;33m.\u001b[0m\u001b[0msplit\u001b[0m\u001b[1;33m(\u001b[0m\u001b[1;34mr'dc:description>'\u001b[0m\u001b[1;33m,\u001b[0m \u001b[0mrdf_string\u001b[0m\u001b[1;33m)\u001b[0m\u001b[1;33m\u001b[0m\u001b[1;33m\u001b[0m\u001b[0m\n\u001b[1;32m---> 11\u001b[1;33m \u001b[0mcontents\u001b[0m \u001b[1;33m=\u001b[0m \u001b[0mrdflist\u001b[0m\u001b[1;33m[\u001b[0m\u001b[1;36m0\u001b[0m\u001b[1;33m]\u001b[0m \u001b[1;33m+\u001b[0m \u001b[1;34m\"dc:description>BEGIN\\n\"\u001b[0m \u001b[1;33m+\u001b[0m\u001b[0;31m \u001b[0m\u001b[0;31m\\\u001b[0m\u001b[1;33m\u001b[0m\u001b[1;33m\u001b[0m\u001b[0m\n\u001b[0m\u001b[0;32m     12\u001b[0m \u001b[0mencoded\u001b[0m \u001b[1;33m+\u001b[0m \u001b[1;34m\"END\\n\"\u001b[0m \u001b[1;33m+\u001b[0m \u001b[0mrdflist\u001b[0m\u001b[1;33m[\u001b[0m\u001b[1;36m1\u001b[0m\u001b[1;33m]\u001b[0m \u001b[1;33m+\u001b[0m \u001b[1;34m\"dc:description\"\u001b[0m \u001b[1;33m+\u001b[0m \u001b[0mrdflist\u001b[0m\u001b[1;33m[\u001b[0m\u001b[1;36m2\u001b[0m\u001b[1;33m]\u001b[0m\u001b[1;33m\u001b[0m\u001b[1;33m\u001b[0m\u001b[0m\n\u001b[0;32m     13\u001b[0m \u001b[0mrdf_out\u001b[0m \u001b[1;33m=\u001b[0m \u001b[0mopen\u001b[0m\u001b[1;33m(\u001b[0m\u001b[1;34m\"c:/ftp/rdf_image.xml\"\u001b[0m\u001b[1;33m,\u001b[0m \u001b[1;34m\"w\"\u001b[0m\u001b[1;33m)\u001b[0m\u001b[1;33m\u001b[0m\u001b[1;33m\u001b[0m\u001b[0m\n",
      "\u001b[1;31mTypeError\u001b[0m: can only concatenate str (not \"bytes\") to str"
     ]
    }
   ],
   "source": [
    "import base64, re\n",
    "image_file = open(\"./K11946_Files/3320.jpg\", \"rb\")\n",
    "image_string = image_file.read()\n",
    "image_file.close()\n",
    "contents = \"\"\n",
    "encoded = base64.encodebytes(image_string)\n",
    "rdf_file = open(\"./K11946_Files/RDF_DESC.XML\", \"r\")\n",
    "rdf_string = rdf_file.read()\n",
    "rdf_file.close()\n",
    "rdflist = re.split(r'dc:description>', rdf_string)\n",
    "contents = rdflist[0] + \"dc:description>BEGIN\\n\" + \\\n",
    "encoded + \"END\\n\" + rdflist[1] + \"dc:description\" + rdflist[2]\n",
    "rdf_out = open(\"c:/ftp/rdf_image.xml\", \"w\")\n",
    "print(rdf_out, contents)"
   ]
  },
  {
   "cell_type": "markdown",
   "metadata": {
    "heading_collapsed": true,
    "hidden": true
   },
   "source": [
    "## Script Algorithm: Insert an Image File into an RDF Document"
   ]
  },
  {
   "cell_type": "markdown",
   "metadata": {
    "hidden": true
   },
   "source": [
    "1. Call the external Base64 module.\n",
    "2. Use any image file. In the example, we use 3320.jpg, available for download at\n",
    "http://www.julesberman.info/book/3320.jpg.\n",
    "3. Put the entire contents of the image file into a string variable.\n",
    "4. Encode the contents of the image file into base64, using the encoding method\n",
    "from the external module.\n",
    "5. Open the RDF file. In this example, we will use the rdf_desc.xml file, available\n",
    "at\n",
    "http://www.julesberman.info/book/rdf_desc.xml\n",
    "6. Split the file on the <dc:description> tag, and put the base64-encoded string\n",
    "into this tagged data section.\n",
    "7. Mark the base64 text with “BEGIN” and “END.”\n",
    "8. Put the modified contents of the rdf_desc.xml file, now containing the base64\n",
    "representation of the image file, into a new file, named rdf_image.xml."
   ]
  },
  {
   "cell_type": "markdown",
   "metadata": {
    "heading_collapsed": true,
    "hidden": true
   },
   "source": [
    "## Analysis: Insert an Image FIle into an RDF Document"
   ]
  },
  {
   "cell_type": "markdown",
   "metadata": {
    "hidden": true
   },
   "source": [
    "The abbreviated output is shown in Figure 18.2.\n",
    "The full file exceeds a megabyte in length. The central section of the base64 image\n",
    "block is removed, to permit us to see the structure of the output file.\n",
    "The sample script is not particularly robust. It requires the presence of a Dublin\n",
    "Core description tag appearing in an exact format (i.e., <dc:description>). Otherwise,\n",
    "the script would just fail. The script inelegantly shoves the base64 representation of\n",
    "the binary image data into the Dublin Core description field. If this were a real RDF\n",
    "implementation, you would prepare a specific RDF tag for the base64 data, and you\n",
    "would prepare an external Schema document that defined the tag and its properties.\n",
    "The script shows us that RDF files can hold binary data files (represented as base64\n",
    "ASCII strings). There may be instances when you might prefer to insert an image file\n",
    "into an RDF document, rather than inserting an RDF document into an image file. This might be the case when a single RDF file must contain information on multiple\n",
    "different image files. Although it is nice to know that the option of inserting image\n",
    "data into an RDF file is available, in most instances, you will simply point to the external\n",
    "image file (using its Web address), and retrieve the image data from its URL."
   ]
  },
  {
   "cell_type": "markdown",
   "metadata": {
    "heading_collapsed": true
   },
   "source": [
    "# RDF Schema"
   ]
  },
  {
   "cell_type": "markdown",
   "metadata": {
    "hidden": true
   },
   "source": [
    "RDF has a formal way of defining objects (and their properties, but we will not discuss\n",
    "properties here). This is called RDF Schema. You can think of RDF Schema as a\n",
    "dictionary for the terms in an RDF data document. RDF Schema is written in RDF\n",
    "syntax. This means that all RDF Schemas are RDF documents and consist of statements\n",
    "in the form of triples.\n",
    "The important point about RDF Schemas is that they clarify the relationships\n",
    "among classes of objects in a knowledge domain. Here is an example of Class relationships\n",
    "formally specified as a Schema in RDF:\n",
    "<rdfs:Class rdf:ID=”Neoplasm”>\n",
    "<rdfs:subClassOf\n",
    "rdfs:resource=”http://www.w3.org/2000/01/rdf-schema#Class”/>\n",
    "</rdfs:Class>\n",
    "<rdfs:Class rdf:ID=”Neural_crest”>\n",
    "<rdfs:subClassOf\n",
    "neo:resource=”#Neoplasm”/>\n",
    "</rdfs:Class>\n",
    "<rdfs:Class rdf:ID=”Germ_cell”>\n",
    "<rdfs:subClassOf\n",
    "neo:resource=”#Neoplasm”/>\n",
    "</rdfs:Class>\n",
    "<rdfs:Class rdf:ID=”Mesoderm”>\n",
    "<rdfs:subClassOf\n",
    "neo:resource=”#Neoplasm”/>\n",
    "</rdfs:Class>\n",
    "<rdfs:Class rdf:ID=”Coelomic”>\n",
    "<rdfs:subClassOf\n",
    "neo:resource=”#Mesoderm”/>\n",
    "</rdfs:Class>\n",
    "<rdfs:Class rdf:ID=”Sub_coelomic”>\n",
    "<rdfs:subClassOf\n",
    "neo:resource=”#Mesoderm”/>\n",
    "</rdfs:Class>\n",
    "<rdfs:Class rdf:ID=”Sub_coelomic_gonadal”>\n",
    "<rdfs:subClassOf\n",
    "neo:resource=”#Sub_coelomic”/>\n",
    "</rdfs:Class>\n",
    "RDF schemas can be transformed into directed graphs (graphs consisting of connected\n",
    "nodes and arcs and directions for the arcs). The process of transforming an\n",
    "RDF Schema into a graphic representation requires a special software application,\n",
    "such as GraphViz."
   ]
  },
  {
   "cell_type": "markdown",
   "metadata": {
    "heading_collapsed": true
   },
   "source": [
    "# Visualizing an RDF Schema with GraphViz"
   ]
  },
  {
   "cell_type": "markdown",
   "metadata": {
    "hidden": true
   },
   "source": [
    "GraphViz is a free, open source application that produces graphic representations of\n",
    "hierarchical structures that are described in the GraphViz scripting language.\n",
    "As an example, here is the hierarchical organization of the Neoplasm Classification,\n",
    "described in the GraphViz scripting language:\n",
    "digraph G {\n",
    "size=”10,16”;\n",
    "ranksep=”1.75”;\n",
    "    node [style=filled color=gray65];\n",
    "Neoplasm [label=”Neoplasm”];\n",
    "node [style=filled color=lightgray];\n",
    "EndodermEctoderm\n",
    "[label=”Endoderm\\/\\nEctoderm”];\n",
    "NeuralCrest [label=”Neural Crest”];\n",
    "GermCell [label=”Germ cell”];\n",
    "Neoplasm -> EndodermEctoderm;\n",
    "Neoplasm -> Mesoderm;\n",
    "Neoplasm -> GermCell;\n",
    "Neoplasm -> Trophectoderm;\n",
    "Neoplasm -> Neuroectoderm;\n",
    "Neoplasm -> NeuralCrest;\n",
    "node [style=filled color=gray95];\n",
    "Trophectoderm -> Molar;\n",
    "Trophectoderm -> Trophoblast;\n",
    "EndodermEctoderm -> Odontogenic;\n",
    "EndodermEctodermPrimitive\n",
    "[label=”Endoderm\\/Ectoderm\\nPrimitive”];\n",
    "EndodermEctoderm -> EndodermEctodermPrimitive;\n",
    "Endocrine\n",
    "[label=”Endoderm/Ectoderm\\nEndocrine”];\n",
    "EndodermEctoderm -> Endocrine;\n",
    "EndodermEctoderm -> Parenchymal;\n",
    "Odontogenic\n",
    "[label=”Endoderm/Ectoderm\\nOdontogenic”];\n",
    "EndodermEctoderm -> Surface;\n",
    "MesodermPrimitive\n",
    "[label=”Mesoderm\\nPrimitive”];\n",
    "Mesoderm -> MesodermPrimitive;\n",
    "Mesoderm -> Subcoelomic;\n",
    "Mesoderm -> Coelomic;\n",
    "NeuroectodermPrimitive\n",
    "[label=”Neuroectoderm\\nPrimitive”];\n",
    "NeuroectodermNeuralTube\n",
    "[label=”Central Nervous\\nSystem”];\n",
    "Neuroectoderm -> NeuroectodermPrimitive;\n",
    "Neuroectoderm -> NeuroectodermNeuralTube;\n",
    "NeuralCrestMelanocytic\n",
    "[label=”Melanocytic”];\n",
    "NeuralCrestPrimitive\n",
    "[label=”Neural Crest\\nPrimitive”];\n",
    "    NeuralCrestEndocrine\n",
    "[label=”Neural Crest\\nEndocrine”];\n",
    "PeripheralNervousSystem\n",
    "[label=”Peripheral\\nNervous System”];\n",
    "NeuralCrestOdontogenic\n",
    "[label=”Neural Crest\\nOdontogenic”];\n",
    "NeuralCrest -> NeuralCrestPrimitive;\n",
    "NeuralCrest -> PeripheralNervousSystem;\n",
    "NeuralCrest -> NeuralCrestEndocrine;\n",
    "NeuralCrest -> NeuralCrestMelanocytic;\n",
    "NeuralCrest -> NeuralCrestOdontogenic;\n",
    "GermCell -> Differentiated;\n",
    "GermCell -> Primordial;\n",
    "}\n",
    "By eliminating the lowest level of subclasses, we can generate a simpler schematic\n",
    "(Figure 18.3)."
   ]
  },
  {
   "cell_type": "markdown",
   "metadata": {
    "heading_collapsed": true
   },
   "source": [
    "# Obtaining GraphViz"
   ]
  },
  {
   "cell_type": "markdown",
   "metadata": {
    "hidden": true
   },
   "source": [
    "GraphViz is free software. The GraphViz download site is\n",
    "http://www.graphviz.org/Download.php\n",
    "Windows® users can download graphviz-2.14.1.exe (5,614,329 bytes). You can\n",
    "install the software by running the .exe file. GraphViz has subapplications: dot, fdp, twopi, neato, and circo. The twopi application,\n",
    "which we use here, creates graphs that have a radial layout.\n",
    "Extensive information on GraphViz is available at\n",
    "http://www.graphviz.org/"
   ]
  },
  {
   "cell_type": "markdown",
   "metadata": {
    "heading_collapsed": true
   },
   "source": [
    "# Converting a Data Structure to GraphViz"
   ]
  },
  {
   "cell_type": "markdown",
   "metadata": {
    "hidden": true
   },
   "source": [
    "If you work with RDF (and every biomedical professional should understand how\n",
    "RDF is used to specify data), you will want a method that can instantaneously\n",
    "render a schematic of your RDF Schema (ontology) or of any descendant section of\n",
    "your Schema.\n",
    "Because the GraphViz language is designed with a similar purpose as RDF\n",
    "Schema—to describe the relationships among hierarchical classes of object—it is\n",
    "always possible to directly translate an RDF Schema into the GraphViz language. This\n",
    "is a type of poor man’s metaprogramming (using a programming language to generate\n",
    "another program). When an RDF Schema has been translated into the GraphViz\n",
    "language, the GraphViz software can display the class structure as a graph."
   ]
  },
  {
   "cell_type": "code",
   "execution_count": null,
   "metadata": {
    "hidden": true
   },
   "outputs": [],
   "source": [
    "#!/usr/local/bin/python\n",
    "import re, string\n",
    "in_file = open(‘schema.txt’, “r”)\n",
    "out_file = open(“schema.dot”, “w”)\n",
    "print>>out_file, “digraph G {“\n",
    "print>>out_file, “size=\\”15,15\\”;”\n",
    "print>>out_file, “ranksep=\\”3.00\\”;”\n",
    "clump = “”\n",
    "for line in in_file:\n",
    "namematch = re.match(r’\\<\\/rdfs\\:Class>’, line)\n",
    "if (namematch):\n",
    "father = “”\n",
    "child = “”\n",
    "clump = re.sub(r’\\n’, ‘ ‘, clump)\n",
    "fathermatch = re.search(r’\\:resource\\=\\”[a-zA-Z0-9\\:\\/\\_\\.\\-]*\n",
    "\\#([a-zA-Z\\_]+)\\”’, clump)\n",
    "if fathermatch:\n",
    "father = fathermatch.group(1)\n",
    "childmatch = re.search(r’rdf\\:ID\\=\\”([a-zA-Z\\_]+)\\”’, clump)\n",
    "if childmatch:\n",
    "child = childmatch.group(1)\n",
    "print>>out_file, father + “ -> “ + child + “;”\n",
    "clump = “”\n",
    "else:\n",
    "clump = clump + line\n",
    "print>>out_file, “}”\n",
    "exit"
   ]
  },
  {
   "cell_type": "markdown",
   "metadata": {
    "heading_collapsed": true,
    "hidden": true
   },
   "source": [
    "## Script Algorithm: Converting a Data Structure to GraphViz"
   ]
  },
  {
   "cell_type": "markdown",
   "metadata": {
    "hidden": true
   },
   "source": [
    "1. Open the file containing the Schema relationships, in RDF syntax (available\n",
    "at www.julesberman.info/book/schema.txt).\n",
    "2. Open an output file, to write the transformed class relationships, in the\n",
    "GraphViz language.\n",
    "3. Print the first lines of the GraphViz file, which begins with a statement indicating\n",
    "that a digraph will follow (instructions for a directed graph), its size,\n",
    "and the length of the separator lines between classes.\n",
    "4. Parse through the RDF classes, using the end tag “</rdfs:Class>” to indicate\n",
    "the end of one class definition and the beginning of the next class definition.\n",
    "5. Obtain the name of the class and the name of the class to which the class is a\n",
    "subclass (i.e., the name of the child class’s father).\n",
    "All of the Schema class statements will have a form equivalent to the following\n",
    "example:\n",
    "<rdfs:Class rdf:ID=“Neoplasm”>\n",
    "<rdfs:subClassOf\n",
    "rdfs:resource=“http://www.w3.org/2000/01/rdf-schema#Class”/>\n",
    "</rdfs:Class>\n",
    "The class name appears in quotes, after “rdf:ID=”. The superclass name appears\n",
    "at the end of a resource statement: “resource=“http://www.w3.org/2000/01/\n",
    "rdf-schema#”. Use regular expressions to obtain the name of the child class\n",
    "and the father class from each RDF Schema statement.\n",
    "6. Print to the output file each encountered child, and father class in a GraphViz\n",
    "statement of the following general form:\n",
    "father class -> child class;\n",
    "7. After the schema is parsed, print “}” to the output file, to close the GraphViz\n",
    "script."
   ]
  },
  {
   "cell_type": "markdown",
   "metadata": {
    "heading_collapsed": true,
    "hidden": true
   },
   "source": [
    "## Analysis: Converting a Data Structure to GraphViz"
   ]
  },
  {
   "cell_type": "markdown",
   "metadata": {
    "hidden": true
   },
   "source": [
    "The output is the script, schema.dot, which is equivalent to the digraph (GraphViz\n",
    "language) script shown at the beginning of this section.\n",
    "After installing GraphViz, we can create the image schema.png, from the schema.dot\n",
    "specification by invoking the twopi subapplication on a command line.\n",
    "c:\\ftp>twopi -Tpng schema.dot.dot -o schema.png\n",
    "GraphViz produced the graph shown in Figure 18.3, from a GraphViz script produced\n",
    "by transformations on a RDF Schema."
   ]
  }
 ],
 "metadata": {
  "kernelspec": {
   "display_name": "Python 3",
   "language": "python",
   "name": "python3"
  },
  "language_info": {
   "codemirror_mode": {
    "name": "ipython",
    "version": 3
   },
   "file_extension": ".py",
   "mimetype": "text/x-python",
   "name": "python",
   "nbconvert_exporter": "python",
   "pygments_lexer": "ipython3",
   "version": "3.8.5"
  },
  "toc": {
   "base_numbering": 1,
   "nav_menu": {},
   "number_sections": true,
   "sideBar": true,
   "skip_h1_title": false,
   "title_cell": "Table of Contents",
   "title_sidebar": "Contents",
   "toc_cell": false,
   "toc_position": {},
   "toc_section_display": true,
   "toc_window_display": false
  }
 },
 "nbformat": 4,
 "nbformat_minor": 4
}
