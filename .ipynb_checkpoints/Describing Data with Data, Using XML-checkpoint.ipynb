{
 "cells": [
  {
   "cell_type": "markdown",
   "metadata": {},
   "source": [
    "Welcome to chapter eigthteen of Methods in Medical Informatics! Extensible Markup Language (XML) is a data organization standard. In its most basic form, XML is a method for marking up files so every piece of data is surrounded by bracketed text that describes the data (ie. \\<number>5\\</number). This chapter will introduce working with XML in depth. Lets begin!\n",
    "\n",
    "> Disclaimer: The content below is adapted from the book \"Methods in Medical Informatics - Fundamental of Healthcare Programming in Perl, Python, and Ruby\" by Jules J. Berman. All content is for testing, education, and teaching purposes only. No content will be openly released to the internet. "
   ]
  },
  {
   "cell_type": "markdown",
   "metadata": {
    "heading_collapsed": true
   },
   "source": [
    "# Parsing XML"
   ]
  },
  {
   "cell_type": "markdown",
   "metadata": {
    "hidden": true
   },
   "source": [
    "In Chapter 11, we wrote an XML parser for the neoplasm taxonomy. While parsing\n",
    "the file, our script automatically checked to determine that the file is properly formed\n",
    "XML (i.e., if the XML syntax is properly formatted). Had there been any formatting error in the neoplasm taxonomy\n",
    "file, our script would have indicated the specific lines in the file where an error\n",
    "occurred. Let us write a script whose only purpose is to check XML documents for\n",
    "proper syntax.*\n",
    "\n",
    "*Note: An XML is only considered well formed if it has a proper XML header, it contains text in a readable format, and follows general rules for tagging data*\n",
    "\n",
    "> This script will utilize the file [neocl.xml](https://datamine.unc.edu/data-files/). neocl.xml is the Neoplasm Classification formated as an XML document. Additional information [here](https://datamine.unc.edu/data-files/)\n",
    "\n",
    "**Description adapted from page 250 of \"Methods in Medical Informatics\"*"
   ]
  },
  {
   "cell_type": "code",
   "execution_count": null,
   "metadata": {
    "ExecuteTime": {
     "end_time": "2020-12-02T22:47:11.980505Z",
     "start_time": "2020-12-02T22:47:11.702203Z"
    },
    "hidden": true
   },
   "outputs": [],
   "source": [
    "import xml.sax\n",
    "import pprint\n",
    "parser = xml.sax.make_parser( )\n",
    "parser.parse('./K11946_Files/NEOCL.XML')\n",
    "print('No errors found!')"
   ]
  },
  {
   "cell_type": "markdown",
   "metadata": {
    "heading_collapsed": true,
    "hidden": true
   },
   "source": [
    "## Script Algorithm: Parsing XML"
   ]
  },
  {
   "cell_type": "markdown",
   "metadata": {
    "hidden": true
   },
   "source": [
    "Import an XML parsing module.*"
   ]
  },
  {
   "cell_type": "code",
   "execution_count": null,
   "metadata": {
    "ExecuteTime": {
     "end_time": "2020-12-07T00:26:12.855180Z",
     "start_time": "2020-12-07T00:26:12.573640Z"
    },
    "hidden": true
   },
   "outputs": [],
   "source": [
    "import xml.sax\n",
    "import pprint"
   ]
  },
  {
   "cell_type": "markdown",
   "metadata": {
    "hidden": true
   },
   "source": [
    "Create a new parser object."
   ]
  },
  {
   "cell_type": "code",
   "execution_count": null,
   "metadata": {
    "hidden": true
   },
   "outputs": [],
   "source": [
    "parser = xml.sax.make_parser( )"
   ]
  },
  {
   "cell_type": "markdown",
   "metadata": {
    "hidden": true
   },
   "source": [
    "Using a (parsing) method available in the parsing module, provide the method\n",
    "with the name of the file you wish to parse."
   ]
  },
  {
   "cell_type": "code",
   "execution_count": null,
   "metadata": {
    "hidden": true
   },
   "outputs": [],
   "source": [
    "parser.parse('./K11946_Files/NEOCL.XML')"
   ]
  },
  {
   "cell_type": "markdown",
   "metadata": {
    "hidden": true
   },
   "source": [
    "The parsing module will send a message to your screen if any parts of the file\n",
    "are not well formed."
   ]
  },
  {
   "cell_type": "code",
   "execution_count": null,
   "metadata": {
    "hidden": true
   },
   "outputs": [],
   "source": [
    "print('No errors found!')"
   ]
  },
  {
   "cell_type": "markdown",
   "metadata": {
    "hidden": true
   },
   "source": [
    "**This section is adapted from section 18.1.1, \"Script Algorithm\", of page 250 from \"Methods in Medical Informatics\".*"
   ]
  },
  {
   "cell_type": "markdown",
   "metadata": {
    "heading_collapsed": true,
    "hidden": true
   },
   "source": [
    "## Analysis: Parsing XML"
   ]
  },
  {
   "cell_type": "markdown",
   "metadata": {
    "hidden": true
   },
   "source": [
    "This script takes just a few lines of code, and parses XML files very quickly. The script determines whether the XML file is well formed. The script was able to determine whether the a 10+ MB document was well formed in only a few seconds.*\n",
    "\n",
    "**This section is adapted from section 18.1.2, \"Analysis\", of page 252 in \"Methods in Medical Informatics\".*"
   ]
  },
  {
   "cell_type": "markdown",
   "metadata": {
    "heading_collapsed": true
   },
   "source": [
    "# Resource Description Framework"
   ]
  },
  {
   "cell_type": "markdown",
   "metadata": {
    "hidden": true
   },
   "source": [
    "An important framework for this chapter is the Resource Description Framework (RDF). RDF is a variant of XML that uses the same tagging format as XML does. In XML, data and metadata are paired with an identified forming a data \"triple\". This is demonstrated by the example below:\n",
    "\n",
    "\"Mr. Rheeus\" \"blood glucose level\" \"77\"\n",
    "\n",
    "The data is the number, \"77\". The metadata is the descriptor \"blood glucose level\". THe specific object is \"Mr. Rheeus\". Here is the same triple below expressed with XML tags:\n",
    "\n",
    "\\<Description>\n",
    "\\<Description_object>Mr. Rheeus\\</Description_object>\n",
    "<Blood_glucose_level>77\\</Blood_glucose_level>\n",
    "\\</Description>\n",
    "\n",
    "This structure indicates there is a blood glucose level of 77 that belongs to Mr. Rheeus. RDF has its own syntax for expressing these triples as well. See below for an exmaple of the above for an RDF format: \n",
    "\n",
    "\\<rdf:Description rdf:about=“http://www.patient_info.com/lab.htm#Mr_Rheeus”>\n",
    "\\<lab:Blood_glucose_level>77\\</lab:Blood_glucose_level>\n",
    "\\</rdf:Description>\n",
    "\n",
    "In RDF, objects are specified using a web address or some some unique identifier that can distinguish the objects from others. In this chapter, we will examine a specific RDF annotation style known as the Dublic Core.*\n",
    "\n",
    "**This section was adapted from pages 252 - 253 of \"Methods in Medical Informatics*"
   ]
  },
  {
   "cell_type": "markdown",
   "metadata": {
    "heading_collapsed": true
   },
   "source": [
    "# Dublin Core Metadata"
   ]
  },
  {
   "cell_type": "markdown",
   "metadata": {
    "hidden": true
   },
   "source": [
    "The Dublin Core consists of about 15 data elements\n",
    "that specify the kind of file information a librarian might use to describe a file, index\n",
    "the file, and retrieve files based on included information.\n",
    "There are numerous publicly available documents that describe the Dublin Core elements:\n",
    "http://www.ietf.org/rfc/rfc2731.txt\n",
    "The Dublin Core elements can be inserted into a variety of document types (ie. HTML, XML, RDF). A public document explains exactly how the Dublin\n",
    "Core elements can be used in these file formats:\n",
    "http://dublincore.org/documents/usageguide/#rdfxml\n",
    "\n",
    "We can parse RDF files with the same scripts that parse XML files since RDF is a subtype of XML. XML and RDF files can also be inserted into the header sections of image files. When a Dublic Core RDF is inserted into the header of an image file, it can be extracted to identiyf the file.*\n",
    "\n",
    "**Description adapted from page 254 of \"Methods in Medical Informatics\"*"
   ]
  },
  {
   "cell_type": "markdown",
   "metadata": {
    "heading_collapsed": true
   },
   "source": [
    "# Insert an RDF Document into an Image File"
   ]
  },
  {
   "cell_type": "markdown",
   "metadata": {
    "hidden": true
   },
   "source": [
    "It is easy to insert an RDF document into the header of a JPEG image file, and it is\n",
    "just as easy to extract the RDF triples.*\n",
    "\n",
    "> This script will utilize the file [3320.jpg](https://datamine.unc.edu/data-files/), [3320.png](https://datamine.unc.edu/data-files/), and [RDF_DESC.XML](https://datamine.unc.edu/data-files/). 3320.jpg is an example jpg image. 3320.png is an example png image. The iamge is the same as 3320.jpg. RDF-DESC.XML is an xml file containing a few Dublin Core elements. Additional information [here](https://datamine.unc.edu/data-files/)\n",
    "\n",
    "**Description adapted from page 254 of \"Methods in Medical Informatics\"*"
   ]
  },
  {
   "cell_type": "code",
   "execution_count": null,
   "metadata": {
    "ExecuteTime": {
     "end_time": "2020-12-02T22:52:46.293773Z",
     "start_time": "2020-12-02T22:52:45.960264Z"
    },
    "hidden": true
   },
   "outputs": [],
   "source": [
    "def pngsave(im, file):\n",
    "    from PIL import PngImagePlugin\n",
    "    meta = PngImagePlugin.PngInfo()\n",
    "    for k,v in im.info.items():\n",
    "        meta.add_text(k, v, 0)\n",
    "    im.save(file, \"PNG\", pnginfo=meta)\n",
    "from PIL import Image\n",
    "image = Image.open(\"./K11946_Files/3320.jpg\")\n",
    "image.save(\"./K11946_Files/3320.png\")\n",
    "rdf_file = open(\"./K11946_Files/RDF_DESC.XML\", \"rb\")\n",
    "description = rdf_file.read()\n",
    "rdf_file.close()\n",
    "im = Image.open(\"./K11946_Files/3320.png\")\n",
    "im.info[\"description\"] = description\n",
    "pngsave(im, \"./K11946_Files/3320.png\")\n",
    "# RDF Header for Image\n",
    "im.info"
   ]
  },
  {
   "cell_type": "markdown",
   "metadata": {
    "heading_collapsed": true,
    "hidden": true
   },
   "source": [
    "## Script Algorithm: Insert an RDF Document into an Image File"
   ]
  },
  {
   "cell_type": "markdown",
   "metadata": {
    "hidden": true
   },
   "source": [
    "Prepare your RDF document. In this case, we will use the RDF file containing a few Dublin Core elements. Open an image file. In this case, we use the JPEG file/3320.jpg.*"
   ]
  },
  {
   "cell_type": "code",
   "execution_count": null,
   "metadata": {
    "hidden": true
   },
   "outputs": [],
   "source": [
    "def pngsave(im, file):\n",
    "    from PIL import PngImagePlugin\n",
    "    meta = PngImagePlugin.PngInfo()\n",
    "    for k,v in im.info.items():\n",
    "        meta.add_text(k, v, 0)\n",
    "    im.save(file, \"PNG\", pnginfo=meta)\n",
    "from PIL import Image\n",
    "image = Image.open(\"./K11946_Files/3320.jpg\")\n",
    "image.save(\"./K11946_Files/3320.png\")\n",
    "rdf_file = open(\"./K11946_Files/RDF_DESC.XML\", \"rb\")\n",
    "description = rdf_file.read()\n",
    "rdf_file.close()\n",
    "im = Image.open(\"./K11946_Files/3320.png\")"
   ]
  },
  {
   "cell_type": "markdown",
   "metadata": {
    "hidden": true
   },
   "source": [
    "Insert the RDF document into the Comment section of the JPEG header. Save the file. Extract the header comments."
   ]
  },
  {
   "cell_type": "code",
   "execution_count": null,
   "metadata": {
    "hidden": true
   },
   "outputs": [],
   "source": [
    "im.info[\"description\"] = description\n",
    "pngsave(im, \"./K11946_Files/3320.png\")\n",
    "# RDF Header for Image\n",
    "im.info"
   ]
  },
  {
   "cell_type": "markdown",
   "metadata": {
    "hidden": true
   },
   "source": [
    "**This section is adapted from section 18.3.1, \"Script Algorithm\", of page 255 from \"Methods in Medical Informatics\".*"
   ]
  },
  {
   "cell_type": "markdown",
   "metadata": {
    "heading_collapsed": true,
    "hidden": true
   },
   "source": [
    "## Analysis: Insert an RDF Document into an Image File"
   ]
  },
  {
   "cell_type": "markdown",
   "metadata": {
    "hidden": true
   },
   "source": [
    "When you include Dublin Core elements in your image file headers, you accomplish several\n",
    "important goals:*\n",
    "1. You provide important descriptive information about\n",
    "the image.\n",
    "2. You provide information that search engines can extract, from your online images, that permits others to find your images.\n",
    "3. If you provide copyright information, you can ensure that anyone who use your image will have the information to use your intellectual property in a legal manner.\n",
    "4. You turn your image into a mini-database. This allow your file to be integrated with other database files.\n",
    "\n",
    "**This section is adapted from section 18.3.2, \"Analysis\", of page 256 from \"Methods in Medical Informatics\".*"
   ]
  },
  {
   "cell_type": "markdown",
   "metadata": {
    "heading_collapsed": true
   },
   "source": [
    "# Insert an Image File into an RDF Document"
   ]
  },
  {
   "cell_type": "markdown",
   "metadata": {
    "hidden": true
   },
   "source": [
    "Although we may distinguish text files from binary files, all files are actually binary files.\n",
    "Bytes of 8 bits are converted to ASCII equivalents. If the ASCII equivalents are alphanumeric, we then label the file as a text file. If the ASCII values are not alphanumeric, we then label the files binary files.\n",
    "Standard format image files are always binary files. Since RDF syntax is an\n",
    "ASCII file format, image files cannot be pasted directly into a RDF document.\n",
    "However, binary files can be converted to and from ASCII format, using a simple\n",
    "script.*\n",
    "\n",
    "> This script will utilize the file [3320.jpg](https://datamine.unc.edu/data-files/) and [RDF_DESC.XML](https://datamine.unc.edu/data-files/). 3320.jpg is an example jpg image. RDF-DESC.XML is an xml file containing a few Dublin Core elements. Additional information [here](https://datamine.unc.edu/data-files/)\n",
    "\n",
    "**Description adapted from pages 256-257 of \"Methods in Medical Informatics\"*"
   ]
  },
  {
   "cell_type": "code",
   "execution_count": null,
   "metadata": {
    "ExecuteTime": {
     "end_time": "2020-12-02T23:16:17.769479Z",
     "start_time": "2020-12-02T23:16:17.736988Z"
    },
    "hidden": true
   },
   "outputs": [],
   "source": [
    "import base64, re\n",
    "image_file = open(\"./K11946_Files/3320.jpg\", \"rb\")\n",
    "image_string = image_file.read()\n",
    "image_file.close()\n",
    "contents = \"\"\n",
    "encoded = str(base64.encodebytes(image_string))\n",
    "rdf_file = open(\"./K11946_Files/RDF_DESC.XML\", \"r\")\n",
    "rdf_string = rdf_file.read()\n",
    "rdf_file.close()\n",
    "rdflist = re.split(r'dc:description>', rdf_string)\n",
    "contents = rdflist[0] + \"dc:description>BEGIN\\n\" + encoded + \"END\\n\" + rdflist[1] + \"dc:description\" + rdflist[2]\n",
    "rdf_out = open(\"crdf_image.xml\", \"w\")\n",
    "print(rdf_out, contents)"
   ]
  },
  {
   "cell_type": "markdown",
   "metadata": {
    "heading_collapsed": true,
    "hidden": true
   },
   "source": [
    "## Script Algorithm: Insert an Image File into an RDF Document"
   ]
  },
  {
   "cell_type": "markdown",
   "metadata": {
    "hidden": true
   },
   "source": [
    "Call the external Base64 module. Use any image file. In the example, we use 3320.jpg. Put the entire contents of the image file into a string variable.*"
   ]
  },
  {
   "cell_type": "code",
   "execution_count": null,
   "metadata": {
    "hidden": true
   },
   "outputs": [],
   "source": [
    "import base64, re\n",
    "image_file = open(\"./K11946_Files/3320.jpg\", \"rb\")\n",
    "image_string = image_file.read()\n",
    "image_file.close()\n",
    "contents = \"\""
   ]
  },
  {
   "cell_type": "markdown",
   "metadata": {
    "hidden": true
   },
   "source": [
    "Encode the contents of the image file into base64, using the encoding method\n",
    "from the external module."
   ]
  },
  {
   "cell_type": "code",
   "execution_count": null,
   "metadata": {
    "hidden": true
   },
   "outputs": [],
   "source": [
    "encoded = str(base64.encodebytes(image_string))"
   ]
  },
  {
   "cell_type": "markdown",
   "metadata": {
    "hidden": true
   },
   "source": [
    "Open the RDF file. In this example, we will use the rdf_desc.xml file."
   ]
  },
  {
   "cell_type": "code",
   "execution_count": null,
   "metadata": {
    "hidden": true
   },
   "outputs": [],
   "source": [
    "rdf_file = open(\"./K11946_Files/RDF_DESC.XML\", \"r\")\n",
    "rdf_string = rdf_file.read()\n",
    "rdf_file.close()"
   ]
  },
  {
   "cell_type": "markdown",
   "metadata": {
    "hidden": true
   },
   "source": [
    "Split the file on the <dc:description> tag, and put the base64-encoded string\n",
    "into this tagged data section. Mark the base64 text with “BEGIN” and “END.” Put the modified contents of the rdf_desc.xml file, now containing the base64\n",
    "representation of the image file, into a new file, named rdf_image.xml."
   ]
  },
  {
   "cell_type": "code",
   "execution_count": null,
   "metadata": {
    "hidden": true
   },
   "outputs": [],
   "source": [
    "rdflist = re.split(r'dc:description>', rdf_string)\n",
    "contents = rdflist[0] + \"dc:description>BEGIN\\n\" + encoded + \"END\\n\" + rdflist[1] + \"dc:description\" + rdflist[2]\n",
    "rdf_out = open(\"crdf_image.xml\", \"w\")\n",
    "print(rdf_out, contents)"
   ]
  },
  {
   "cell_type": "markdown",
   "metadata": {
    "hidden": true
   },
   "source": [
    "**This section is adapted from section 18.4.1, \"Script Algorithm\", of page 257 from \"Methods in Medical Informatics\".*"
   ]
  },
  {
   "cell_type": "markdown",
   "metadata": {
    "heading_collapsed": true,
    "hidden": true
   },
   "source": [
    "## Analysis: Insert an Image FIle into an RDF Document"
   ]
  },
  {
   "cell_type": "markdown",
   "metadata": {
    "hidden": true
   },
   "source": [
    "The sample script is not particularly flexible. It requires a Dublin\n",
    "Core description tag appearing in an exact format (i.e., <dc:description>). Otherwise,\n",
    "the script will fail and throw an error. The script directly pushes the base64 representation of\n",
    "the binary image data into the Dublin Core description field. If this were a real RDF\n",
    "implementation, you would prepare beforehand a specific RDF tag for the base64 data, and you\n",
    "would prepare an external Schema document that also defined the tag and its properties.\n",
    "The script simply demonstrates that RDF files can hold binary data files (represented as base64\n",
    "ASCII strings). There may be instances when you might prefer to insert an image file\n",
    "into an RDF document, rather than inserting an RDF document into an image file. This may be the case when a single RDF file must contain information on multiple\n",
    "different image files. Although it is nice to know that the option of inserting image\n",
    "data into an RDF file is available, in most instances, you will simply point to the external\n",
    "image file (using its Web address), and retrieve the image data from its URL.*\n",
    "\n",
    "**This section is adapted from section 18.4.2, \"Analysis\", of pages 258-259 in \"Methods in Medical Informatics\".*"
   ]
  },
  {
   "cell_type": "markdown",
   "metadata": {
    "heading_collapsed": true
   },
   "source": [
    "# RDF Schema"
   ]
  },
  {
   "cell_type": "markdown",
   "metadata": {
    "hidden": true
   },
   "source": [
    "RDF has a formal way of defining objects. This is called a RDF Schema. A RDF Schema is similar to a \n",
    "dictionary for the terms in an RDF data document. RDF Schema is written using RDF\n",
    "syntax. This means that all RDF Schemas are RDF documents and consist of statements\n",
    "in the form of data triples.\n",
    "The important point about RDF Schemas is that they clarify the relationships\n",
    "among classes of objects in a knowledge domain. Here is an example of Class relationships\n",
    "formally specified as a Schema in RDF:\n",
    "\n",
    "<rdfs:Class rdf:ID=”Neoplasm”>\n",
    "<rdfs:subClassOf\n",
    "rdfs:resource=”http://www.w3.org/2000/01/rdf-schema#Class”/>\n",
    "</rdfs:Class>\n",
    "<rdfs:Class rdf:ID=”Neural_crest”>\n",
    "<rdfs:subClassOf\n",
    "neo:resource=”#Neoplasm”/>\n",
    "</rdfs:Class>\n",
    "<rdfs:Class rdf:ID=”Germ_cell”>\n",
    "<rdfs:subClassOf\n",
    "neo:resource=”#Neoplasm”/>\n",
    "</rdfs:Class>\n",
    "<rdfs:Class rdf:ID=”Mesoderm”>\n",
    "<rdfs:subClassOf\n",
    "neo:resource=”#Neoplasm”/>\n",
    "</rdfs:Class>\n",
    "<rdfs:Class rdf:ID=”Coelomic”>\n",
    "<rdfs:subClassOf\n",
    "neo:resource=”#Mesoderm”/>\n",
    "</rdfs:Class>\n",
    "<rdfs:Class rdf:ID=”Sub_coelomic”>\n",
    "<rdfs:subClassOf\n",
    "neo:resource=”#Mesoderm”/>\n",
    "</rdfs:Class>\n",
    "<rdfs:Class rdf:ID=”Sub_coelomic_gonadal”>\n",
    "<rdfs:subClassOf\n",
    "neo:resource=”#Sub_coelomic”/>\n",
    "</rdfs:Class>\n",
    "\n",
    "RDF schemas can be transformed into directed graphs. These are graphs consisting of connected\n",
    "nodes and arcs and directions for the arcs. The process of transforming an\n",
    "RDF Schema into a graphic representation requires a special software application,\n",
    "such as GraphViz. We will explore GraphViz as we move through this chapter*\n",
    "\n",
    "**Description adapted from pages 259-260 of \"Methods in Medical Informatics\"*"
   ]
  },
  {
   "cell_type": "markdown",
   "metadata": {
    "heading_collapsed": true
   },
   "source": [
    "# Visualizing an RDF Schema with GraphViz"
   ]
  },
  {
   "cell_type": "markdown",
   "metadata": {
    "hidden": true
   },
   "source": [
    "GraphViz is a free, open source application that produces graphic representations of\n",
    "hierarchical structures that are described using the GraphViz scripting language.\n",
    "As an example, here is the hierarchical organization of the Neoplasm Classification,\n",
    "described in the GraphViz scripting language:\n",
    "\n",
    "digraph G {<br>\n",
    "size=”10,16”;<br>\n",
    "ranksep=”1.75”;<br>\n",
    "    node [style=filled color=gray65];<br>\n",
    "Neoplasm [label=”Neoplasm”];<br>\n",
    "node [style=filled color=lightgray];<br>\n",
    "EndodermEctoderm<br>\n",
    "[label=”Endoderm\\/\\nEctoderm”];<br>\n",
    "NeuralCrest [label=”Neural Crest”];<br>\n",
    "GermCell [label=”Germ cell”];<br>\n",
    "Neoplasm -> EndodermEctoderm;<br>\n",
    "Neoplasm -> Mesoderm;<br>\n",
    "Neoplasm -> GermCell;<br>\n",
    "Neoplasm -> Trophectoderm;<br>\n",
    "Neoplasm -> Neuroectoderm;<br>\n",
    "Neoplasm -> NeuralCrest;<br>\n",
    "node [style=filled color=gray95];<br>\n",
    "Trophectoderm -> Molar;<br>\n",
    "Trophectoderm -> Trophoblast;<br>\n",
    "EndodermEctoderm -> Odontogenic;<br>\n",
    "EndodermEctodermPrimitive<br>\n",
    "[label=”Endoderm\\/Ectoderm\\nPrimitive”];<br>\n",
    "EndodermEctoderm -> EndodermEctodermPrimitive;<br>\n",
    "Endocrine<br>\n",
    "[label=”Endoderm/Ectoderm\\nEndocrine”];<br>\n",
    "EndodermEctoderm -> Endocrine;<br>\n",
    "EndodermEctoderm -> Parenchymal;<br>\n",
    "Odontogenic<br>\n",
    "[label=”Endoderm/Ectoderm\\nOdontogenic”];<br>\n",
    "EndodermEctoderm -> Surface;<br>\n",
    "MesodermPrimitive<br>\n",
    "[label=”Mesoderm\\nPrimitive”];<br>\n",
    "Mesoderm -> MesodermPrimitive;<br>\n",
    "Mesoderm -> Subcoelomic;<br>\n",
    "Mesoderm -> Coelomic;<br>\n",
    "NeuroectodermPrimitive<br>\n",
    "[label=”Neuroectoderm\\nPrimitive”];<br>\n",
    "NeuroectodermNeuralTube<br>\n",
    "[label=”Central Nervous\\nSystem”];<br>\n",
    "Neuroectoderm -> NeuroectodermPrimitive;<br>\n",
    "Neuroectoderm -> NeuroectodermNeuralTube;<br>\n",
    "NeuralCrestMelanocytic<br>\n",
    "[label=”Melanocytic”];<br>\n",
    "NeuralCrestPrimitive<br>\n",
    "[label=”Neural Crest\\nPrimitive”];<br>\n",
    "    NeuralCrestEndocrine<br>\n",
    "[label=”Neural Crest\\nEndocrine”];<br>\n",
    "PeripheralNervousSystem<br>\n",
    "[label=”Peripheral\\nNervous System”];<br>\n",
    "NeuralCrestOdontogenic<br>\n",
    "[label=”Neural Crest\\nOdontogenic”];<br>\n",
    "NeuralCrest -> NeuralCrestPrimitive;<br>\n",
    "NeuralCrest -> PeripheralNervousSystem;<br>\n",
    "NeuralCrest -> NeuralCrestEndocrine;<br>\n",
    "NeuralCrest -> NeuralCrestMelanocytic;<br>\n",
    "NeuralCrest -> NeuralCrestOdontogenic;<br>\n",
    "GermCell -> Differentiated;<br>\n",
    "GermCell -> Primordial;<br>\n",
    "}<br>\n",
    "\n",
    "By eliminating the lowest level of subclasses, we can generate a simpler schematic.*\n",
    "\n",
    "**Description adapted from pages 260-262 of \"Methods in Medical Informatics\"*"
   ]
  },
  {
   "cell_type": "markdown",
   "metadata": {
    "heading_collapsed": true
   },
   "source": [
    "# Obtaining GraphViz"
   ]
  },
  {
   "cell_type": "markdown",
   "metadata": {
    "hidden": true
   },
   "source": [
    "GraphViz is free, open software. The GraphViz download site is\n",
    "http://www.graphviz.org/Download.php\n",
    "You can\n",
    "install the software by running the .exe file. GraphViz has many subapplications: dot, fdp, twopi, neato, and circo. The twopi application,\n",
    "which we use in this chapter, creates graphs that have a radial layout.\n",
    "Extensive information on GraphViz is available at\n",
    "http://www.graphviz.org/*\n",
    "\n",
    "**Description adapted from pages 262-263 of \"Methods in Medical Informatics\"*"
   ]
  },
  {
   "cell_type": "markdown",
   "metadata": {
    "heading_collapsed": true
   },
   "source": [
    "# Converting a Data Structure to GraphViz"
   ]
  },
  {
   "cell_type": "markdown",
   "metadata": {
    "hidden": true
   },
   "source": [
    "If you work with RDF, you will want a method that can instantaneously\n",
    "render a schematic of your RDF Schema (ontology) or of any descendant section of\n",
    "your Schema.\n",
    "Because the GraphViz language is designed with a similar purpose as a RDF\n",
    "Schema it is\n",
    "possible to directly translate an RDF Schema into the GraphViz language. This\n",
    "is an example of metaprogramming (using a programming language to generate\n",
    "another program). When an RDF Schema has been translated into the GraphViz\n",
    "language following the script, the GraphViz software can display the class structure as a graph.*\n",
    "\n",
    "> This script will utilize the file [schema.txt](https://datamine.unc.edu/data-files/). This is a text file containing a schema in RDF syntax. Additional information [here](https://datamine.unc.edu/data-files/)\n",
    "\n",
    "**Description adapted from page 263 of \"Methods in Medical Informatics\"*"
   ]
  },
  {
   "cell_type": "code",
   "execution_count": null,
   "metadata": {
    "ExecuteTime": {
     "end_time": "2020-12-02T23:22:30.703017Z",
     "start_time": "2020-12-02T23:22:30.669144Z"
    },
    "hidden": true
   },
   "outputs": [],
   "source": [
    "#!/usr/local/bin/python\n",
    "import re, string\n",
    "in_file = open('./K11946_Files/schema.txt', \"r\")\n",
    "out_file = open(\"schema.dot\", \"w\")\n",
    "print(out_file, \"digraph G {\")\n",
    "print(out_file, \"size=\\\"15,15\\\";\")\n",
    "print(out_file, \"ranksep=\\\"3.00\\\";\")\n",
    "clump = \"\"\n",
    "for line in in_file:\n",
    "    namematch = re.match(r'\\<\\/rdfs\\:Class>', line)\n",
    "    if (namematch):\n",
    "        father = \"\"\n",
    "        child = \"\"\n",
    "        clump = re.sub(r'\\n', ' ', clump)\n",
    "        fathermatch = re.search(r'\\:resource\\=\\\"[a-zA-Z0-9\\:\\/\\_\\.\\-]*#([a-zA-Z\\_]+)\\\"', clump)\n",
    "        if fathermatch:\n",
    "            father = fathermatch.group(1)\n",
    "        childmatch = re.search(r'rdf\\:ID\\=\\\"([a-zA-Z\\_]+)\\\"', clump)\n",
    "        if childmatch:\n",
    "            child = childmatch.group(1)\n",
    "        print(out_file, father + \" -> \" + child + \";\")\n",
    "        clump = \"\"\n",
    "    else:\n",
    "        clump = clump + line\n",
    "print(out_file, \"}\")"
   ]
  },
  {
   "cell_type": "markdown",
   "metadata": {
    "heading_collapsed": true,
    "hidden": true
   },
   "source": [
    "## Script Algorithm: Converting a Data Structure to GraphViz"
   ]
  },
  {
   "cell_type": "markdown",
   "metadata": {
    "hidden": true
   },
   "source": [
    "Open the file containing the Schema relationships, in RDF syntax. Open an output file, to write the transformed class relationships, in the\n",
    "GraphViz language.*"
   ]
  },
  {
   "cell_type": "code",
   "execution_count": null,
   "metadata": {
    "hidden": true
   },
   "outputs": [],
   "source": [
    "#!/usr/local/bin/python\n",
    "import re, string\n",
    "in_file = open('./K11946_Files/schema.txt', \"r\")\n",
    "out_file = open(\"schema.dot\", \"w\")"
   ]
  },
  {
   "cell_type": "markdown",
   "metadata": {
    "hidden": true
   },
   "source": [
    "Print the first lines of the GraphViz file, which begins with a statement indicating\n",
    "that a digraph will follow (instructions for a directed graph), its size,\n",
    "and the length of the separator lines between classes."
   ]
  },
  {
   "cell_type": "code",
   "execution_count": null,
   "metadata": {
    "hidden": true
   },
   "outputs": [],
   "source": [
    "print(out_file, \"digraph G {\")\n",
    "print(out_file, \"size=\\\"15,15\\\";\")\n",
    "print(out_file, \"ranksep=\\\"3.00\\\";\")\n",
    "clump = \"\""
   ]
  },
  {
   "cell_type": "markdown",
   "metadata": {
    "hidden": true
   },
   "source": [
    "Parse through the RDF classes, using the end tag “</rdfs:Class>” to indicate\n",
    "the end of one class definition and the beginning of the next class definition.\n",
    "Obtain the name of the class and the name of the class to which the class is a\n",
    "subclass (i.e., the name of the child class’s father).\n",
    "All of the Schema class statements will have a form equivalent to the following\n",
    "example:\n",
    "<rdfs:Class rdf:ID=“Neoplasm”>\n",
    "<rdfs:subClassOf\n",
    "rdfs:resource=“http://www.w3.org/2000/01/rdf-schema#Class”/>\n",
    "</rdfs:Class>\n",
    "The class name appears in quotes, after “rdf:ID=”. The superclass name appears\n",
    "at the end of a resource statement: “resource=“http://www.w3.org/2000/01/\n",
    "rdf-schema#”. Use regular expressions to obtain the name of the child class\n",
    "and the father class from each RDF Schema statement.\n",
    "Print to the output file each encountered child, and father class in a GraphViz\n",
    "statement of the following general form:\n",
    "father class -> child class; After the schema is parsed, print “}” to the output file, to close the GraphViz\n",
    "script."
   ]
  },
  {
   "cell_type": "code",
   "execution_count": null,
   "metadata": {
    "hidden": true
   },
   "outputs": [],
   "source": [
    "for line in in_file:\n",
    "    namematch = re.match(r'\\<\\/rdfs\\:Class>', line)\n",
    "    if (namematch):\n",
    "        father = \"\"\n",
    "        child = \"\"\n",
    "        clump = re.sub(r'\\n', ' ', clump)\n",
    "        fathermatch = re.search(r'\\:resource\\=\\\"[a-zA-Z0-9\\:\\/\\_\\.\\-]*#([a-zA-Z\\_]+)\\\"', clump)\n",
    "        if fathermatch:\n",
    "            father = fathermatch.group(1)\n",
    "        childmatch = re.search(r'rdf\\:ID\\=\\\"([a-zA-Z\\_]+)\\\"', clump)\n",
    "        if childmatch:\n",
    "            child = childmatch.group(1)\n",
    "        print(out_file, father + \" -> \" + child + \";\")\n",
    "        clump = \"\"\n",
    "    else:\n",
    "        clump = clump + line\n",
    "print(out_file, \"}\")"
   ]
  },
  {
   "cell_type": "markdown",
   "metadata": {
    "hidden": true
   },
   "source": [
    "**This section is adapted from section 18.8.1, \"Script Algorithm\", of pages 263-264 from \"Methods in Medical Informatics\".*"
   ]
  },
  {
   "cell_type": "markdown",
   "metadata": {
    "heading_collapsed": true,
    "hidden": true
   },
   "source": [
    "## Analysis: Converting a Data Structure to GraphViz"
   ]
  },
  {
   "cell_type": "markdown",
   "metadata": {
    "hidden": true
   },
   "source": [
    "The output is the script, schema.dot, which is equivalent to the digraph (GraphViz\n",
    "language) script shown at the beginning of this section.\n",
    "After installing GraphViz, we can create the image schema.png, from the schema.dot\n",
    "specification by invoking the twopi subapplication on a command line.<br><br>\n",
    "c:\\ftp>twopi -Tpng schema.dot.dot -o schema.png.*\n",
    "\n",
    "****This section is adapted from section 18.8.2, \"Analysis\", of pages 265-266 in \"Methods in Medical Informatics\".*"
   ]
  }
 ],
 "metadata": {
  "kernelspec": {
   "display_name": "Python 3",
   "language": "python",
   "name": "python3"
  },
  "language_info": {
   "codemirror_mode": {
    "name": "ipython",
    "version": 3
   },
   "file_extension": ".py",
   "mimetype": "text/x-python",
   "name": "python",
   "nbconvert_exporter": "python",
   "pygments_lexer": "ipython3",
   "version": "3.8.5"
  },
  "toc": {
   "base_numbering": 1,
   "nav_menu": {},
   "number_sections": true,
   "sideBar": true,
   "skip_h1_title": false,
   "title_cell": "Table of Contents",
   "title_sidebar": "Contents",
   "toc_cell": false,
   "toc_position": {},
   "toc_section_display": true,
   "toc_window_display": false
  }
 },
 "nbformat": 4,
 "nbformat_minor": 4
}
