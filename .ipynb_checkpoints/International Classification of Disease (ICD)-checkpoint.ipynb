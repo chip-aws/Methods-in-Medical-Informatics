{
 "cells": [
  {
   "cell_type": "markdown",
   "metadata": {},
   "source": [
    "# Creating the ICD Dictionary"
   ]
  },
  {
   "cell_type": "code",
   "execution_count": null,
   "metadata": {},
   "outputs": [],
   "source": [
    "import sys, os, re, string\n",
    "linearray = []\n",
    "dictionary = {}\n",
    "code = “”\n",
    "term = “”\n",
    "in_text = open(‘C:\\\\ftp\\\\each10.txt’, “r”)\n",
    "in_text_string = in_text.read()\n",
    "in_text.close()\n",
    "linearray = in_text_string.split(“\\n”)\n",
    "for item in linearray:\n",
    "    m = re.search(r’^[ \\*]*([A-Z][0-9\\.]{1,7}) ?([^0-9].+)’, item)\n",
    "    if m:\n",
    "        code = m.group(1)\n",
    "        term = m.group(2)\n",
    "        dictionary[code] = term\n",
    "out_text = open(“c:\\\\ftp\\\\each10.out”, “w”)\n",
    "dict_list = dictionary.keys()\n",
    "sort_list = sorted(dict_list)\n",
    "for i in sort_list:\n",
    "    print>>out_text, “%-8.08s %s” % (i, dictionary[i])\n",
    "out_text.close()"
   ]
  },
  {
   "cell_type": "markdown",
   "metadata": {},
   "source": [
    "# Building the ICD-O (Oncology) Dictionary"
   ]
  },
  {
   "cell_type": "code",
   "execution_count": null,
   "metadata": {},
   "outputs": [],
   "source": [
    "import sys, os, re, string\n",
    "f = open(“c:\\\\ftp\\\\icdo3.txt”, “r”)\n",
    "codehash = {}\n",
    "for line in f:\n",
    "    linematch = re.search(r’([0-9]{4})\\/([0-9]{1}) +(.+)$’, line)\n",
    "    if (linematch):\n",
    "        icdcode = linematch.group(1) + linematch.group(2)\n",
    "        term = string.rstrip(linematch.group(3))\n",
    "        codehash[icdcode] = term\n",
    "f.close\n",
    "keylist = codehash.keys()\n",
    "keylist.sort()\n",
    "for item in keylist:\n",
    "    print item, codehash[item]"
   ]
  },
  {
   "cell_type": "code",
   "execution_count": null,
   "metadata": {},
   "outputs": [],
   "source": []
  }
 ],
 "metadata": {
  "kernelspec": {
   "display_name": "Python 3",
   "language": "python",
   "name": "python3"
  },
  "language_info": {
   "codemirror_mode": {
    "name": "ipython",
    "version": 3
   },
   "file_extension": ".py",
   "mimetype": "text/x-python",
   "name": "python",
   "nbconvert_exporter": "python",
   "pygments_lexer": "ipython3",
   "version": "3.7.4"
  },
  "toc": {
   "base_numbering": 1,
   "nav_menu": {},
   "number_sections": true,
   "sideBar": true,
   "skip_h1_title": false,
   "title_cell": "Table of Contents",
   "title_sidebar": "Contents",
   "toc_cell": false,
   "toc_position": {},
   "toc_section_display": true,
   "toc_window_display": false
  }
 },
 "nbformat": 4,
 "nbformat_minor": 4
}
