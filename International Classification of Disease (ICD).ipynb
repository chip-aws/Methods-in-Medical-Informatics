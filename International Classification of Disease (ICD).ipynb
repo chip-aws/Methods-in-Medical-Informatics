{
 "cells": [
  {
   "cell_type": "markdown",
   "metadata": {},
   "source": [
    "Welcome to chapter six of Methods in Medical Informatics! In this section, we will be the International Classification of Diseases (ICD). ICD is a nomenclature of the disease occurring in humans, with each listed disease assigned a unique identifying code. The World Health Organization also produces a specialized cancer nomenclature, known as the ICD-O (ICD-Oncology). In this chapter, we will be using ICD and ICD-O in scripts. Lets begin!\n",
    "\n",
    "> Disclaimer: The content below is adapted from the book \"Methods in Medical Informatics - Fundamental of Healthcare Programming in Perl, Python, and Ruby\" by Jules J. Berman. All content is for testing, education, and teaching purposes only. No content will be openly released to the internet. "
   ]
  },
  {
   "cell_type": "markdown",
   "metadata": {
    "heading_collapsed": true
   },
   "source": [
    "# Creating the ICD Dictionary"
   ]
  },
  {
   "cell_type": "markdown",
   "metadata": {
    "hidden": true
   },
   "source": [
    "If we have a computer-parsable list of ICD codes, we can write a short program that assigns human-readable terms (full names of diseases) to the codes in the mortality file. An electronic version of the ICD is provided from the CDC under the filename \"each10.txt\". We will create a dictionary data objects consisting of ICD codes (as dictionary keys) and their corresponding terms (as dictionary values)."
   ]
  },
  {
   "cell_type": "code",
   "execution_count": null,
   "metadata": {
    "ExecuteTime": {
     "end_time": "2020-11-22T17:44:36.106080Z",
     "start_time": "2020-11-22T17:44:34.521501Z"
    },
    "hidden": true
   },
   "outputs": [],
   "source": [
    "import sys, os, re, string\n",
    "linearray = []\n",
    "dictionary = {}\n",
    "code = \"\"\n",
    "term = \"\"\n",
    "in_text = open('./K11946_Files/each10.txt', \"r\")\n",
    "in_text_string = in_text.read()\n",
    "in_text.close()\n",
    "linearray = in_text_string.split(\"\\n\")\n",
    "for item in linearray:\n",
    "    m = re.search(r'^[ \\*]*([A-Z][0-9\\.]{1,7}) ?([^0-9].+)', item)\n",
    "    if m:\n",
    "        code = m.group(1)\n",
    "        term = m.group(2)\n",
    "        dictionary[code] = term\n",
    "out_text = open('./K11946_Files/each10.out', \"w\")\n",
    "dict_list = dictionary.keys()\n",
    "sort_list = sorted(dict_list)\n",
    "for i in sort_list:\n",
    "    print(out_text, \"%-8.08s %s\" % (i, dictionary[i]))\n",
    "out_text.close()"
   ]
  },
  {
   "cell_type": "markdown",
   "metadata": {
    "heading_collapsed": true,
    "hidden": true
   },
   "source": [
    "## Script Algorithm: Creating the ICD Dictionary"
   ]
  },
  {
   "cell_type": "markdown",
   "metadata": {
    "hidden": true
   },
   "source": [
    "Open the each10.txt file"
   ]
  },
  {
   "cell_type": "code",
   "execution_count": null,
   "metadata": {
    "hidden": true
   },
   "outputs": [],
   "source": [
    "import sys, os, re, string\n",
    "linearray = []\n",
    "dictionary = {}\n",
    "code = \"\"\n",
    "term = \"\"\n",
    "in_text = open('./K11946_Files/each10.txt', \"r\")"
   ]
  },
  {
   "cell_type": "markdown",
   "metadata": {
    "hidden": true
   },
   "source": [
    "Put the entire file into a string variable"
   ]
  },
  {
   "cell_type": "code",
   "execution_count": null,
   "metadata": {
    "hidden": true
   },
   "outputs": [],
   "source": [
    "in_text_string = in_text.read()\n",
    "in_text.close()"
   ]
  },
  {
   "cell_type": "markdown",
   "metadata": {
    "hidden": true
   },
   "source": [
    "Split the string variable wherever the newline character is followed by an ICD code"
   ]
  },
  {
   "cell_type": "code",
   "execution_count": null,
   "metadata": {
    "hidden": true
   },
   "outputs": [],
   "source": [
    "linearray = in_text_string.split(\"\\n\")"
   ]
  },
  {
   "cell_type": "markdown",
   "metadata": {
    "hidden": true
   },
   "source": [
    "For each split item, add the code (as the key) and the term  (as the value) to the dictionary"
   ]
  },
  {
   "cell_type": "code",
   "execution_count": null,
   "metadata": {
    "hidden": true
   },
   "outputs": [],
   "source": [
    "for item in linearray:\n",
    "    m = re.search(r'^[ \\*]*([A-Z][0-9\\.]{1,7}) ?([^0-9].+)', item)\n",
    "    if m:\n",
    "        code = m.group(1)\n",
    "        term = m.group(2)\n",
    "        dictionary[code] = term\n",
    "out_text = open('./K11946_Files/each10.out', \"w\")\n",
    "dict_list = dictionary.keys()"
   ]
  },
  {
   "cell_type": "markdown",
   "metadata": {
    "hidden": true
   },
   "source": [
    "Print out all of the dictionary key-value pairs, with the keys sorted alphabetically, to the \"each10.out\" file. "
   ]
  },
  {
   "cell_type": "code",
   "execution_count": null,
   "metadata": {
    "hidden": true
   },
   "outputs": [],
   "source": [
    "sort_list = sorted(dict_list)\n",
    "for i in sort_list:\n",
    "    print(out_text, \"%-8.08s %s\" % (i, dictionary[i]))\n",
    "out_text.close()"
   ]
  },
  {
   "cell_type": "markdown",
   "metadata": {
    "heading_collapsed": true,
    "hidden": true
   },
   "source": [
    "## Analysis: Creating the ICD Dictionary"
   ]
  },
  {
   "cell_type": "markdown",
   "metadata": {
    "hidden": true
   },
   "source": [
    "The output file, each10.out, contains about __ code-term pairs and has a lenght of about __ bytes.\n",
    "\n",
    "`<_io.TextIOWrapper name='./K11946_Files/each10.out' mode='w' encoding='cp1252'> Y88.2    Sequelae of adverse incidents associated with medical devices in diagnostic and therapeutic use\n",
    "<_io.TextIOWrapper name='./K11946_Files/each10.out' mode='w' encoding='cp1252'> Y88.3    Sequelae of surgical and medical procedures as the cause of abnormal reaction of the patient, or of later\n",
    "<_io.TextIOWrapper name='./K11946_Files/each10.out' mode='w' encoding='cp1252'> Y89      Sequelae of other external causes\n",
    "<_io.TextIOWrapper name='./K11946_Files/each10.out' mode='w' encoding='cp1252'> Y89.0    Sequelae of legal intervention\n",
    "<_io.TextIOWrapper name='./K11946_Files/each10.out' mode='w' encoding='cp1252'> Y89.1    Sequelae of war operations\n",
    "<_io.TextIOWrapper name='./K11946_Files/each10.out' mode='w' encoding='cp1252'> Y89.9    Sequelae of unspecified external cause`"
   ]
  },
  {
   "cell_type": "markdown",
   "metadata": {
    "heading_collapsed": true
   },
   "source": [
    "# Building the ICD-O (Oncology) Dictionary"
   ]
  },
  {
   "cell_type": "markdown",
   "metadata": {
    "hidden": true
   },
   "source": [
    "ICD-O is a specialized vocabulary created by the World Health Organization. ICD-O contains the dictionary of neoplasm codes and terms used by cancer registrars. The ICD-O contains codes for 9,769 neoplasm terms, and is freely available from SEER (Surveillance Epidemiology and End Results). The ICD-O file can be parsed into code-term pairs. "
   ]
  },
  {
   "cell_type": "code",
   "execution_count": null,
   "metadata": {
    "ExecuteTime": {
     "end_time": "2020-11-22T17:44:40.476847Z",
     "start_time": "2020-11-22T17:44:40.303187Z"
    },
    "hidden": true
   },
   "outputs": [],
   "source": [
    "import sys, os, re, string\n",
    "f = open(\"./K11946_Files/ICDO3.TXT\", \"r\")\n",
    "codehash = {}\n",
    "for line in f:\n",
    "    linematch = re.search(r'([0-9]{4})\\/([0-9]{1}) +(.+)$', line)\n",
    "    if (linematch):\n",
    "        icdcode = linematch.group(1) + linematch.group(2)\n",
    "        term.rstrip(linematch.group(3))\n",
    "        codehash[icdcode] = term\n",
    "f.close\n",
    "keylist = codehash.keys()\n",
    "sorted(keylist)\n",
    "for item in keylist:\n",
    "    print(item, codehash[item])"
   ]
  },
  {
   "cell_type": "markdown",
   "metadata": {
    "heading_collapsed": true,
    "hidden": true
   },
   "source": [
    "## Script Algorithm: Building the ICD-O (Oncology) Dictionary"
   ]
  },
  {
   "cell_type": "markdown",
   "metadata": {
    "hidden": true
   },
   "source": [
    "Open the \"icdo3.txt\" file"
   ]
  },
  {
   "cell_type": "code",
   "execution_count": null,
   "metadata": {
    "hidden": true
   },
   "outputs": [],
   "source": [
    "import sys, os, re, string\n",
    "f = open(\"./K11946_Files/ICDO3.TXT\", \"r\")\n",
    "codehash = {}"
   ]
  },
  {
   "cell_type": "markdown",
   "metadata": {
    "hidden": true
   },
   "source": [
    "Parse the \"icdo3.txt\" file, line by line. Each line begins with a code, consisting of four digits followed by a slash, followed by one digit, followed by a space, followed by the term. Create a regex expression for the line, placing the five digits from the code into a key variable, and the term into a value variable, for a hash object. "
   ]
  },
  {
   "cell_type": "code",
   "execution_count": null,
   "metadata": {
    "hidden": true
   },
   "outputs": [],
   "source": [
    "for line in f:\n",
    "    linematch = re.search(r'([0-9]{4})\\/([0-9]{1}) +(.+)$', line)\n",
    "    if (linematch):\n",
    "        icdcode = linematch.group(1) + linematch.group(2)\n",
    "        term.rstrip(linematch.group(3))\n",
    "        codehash[icdcode] = term\n",
    "f.close"
   ]
  },
  {
   "cell_type": "markdown",
   "metadata": {
    "hidden": true
   },
   "source": [
    "Sort the keys of the hash object, and print the key (code) value (term) pairs"
   ]
  },
  {
   "cell_type": "code",
   "execution_count": null,
   "metadata": {
    "hidden": true
   },
   "outputs": [],
   "source": [
    "keylist = codehash.keys()\n",
    "sorted(keylist)\n",
    "for item in keylist:\n",
    "    print(item, codehash[item])"
   ]
  },
  {
   "cell_type": "markdown",
   "metadata": {
    "heading_collapsed": true,
    "hidden": true
   },
   "source": [
    "## Analysis: Building the ICD-O (Oncology) Dictionary"
   ]
  },
  {
   "cell_type": "markdown",
   "metadata": {
    "hidden": true
   },
   "source": [
    "Here are a few of the code-term pairs from ICD-O:\n",
    "\n",
    "`80003 Sequelae of unspecified external cause\n",
    "80013 Sequelae of unspecified external cause\n",
    "80023 Sequelae of unspecified external cause\n",
    "80033 Sequelae of unspecified external cause\n",
    "80043 Sequelae of unspecified external cause\n",
    "80053 Sequelae of unspecified external cause\n",
    "80102 Sequelae of unspecified external cause\n",
    "80103 Sequelae of unspecified external cause`"
   ]
  }
 ],
 "metadata": {
  "kernelspec": {
   "display_name": "Python 3",
   "language": "python",
   "name": "python3"
  },
  "language_info": {
   "codemirror_mode": {
    "name": "ipython",
    "version": 3
   },
   "file_extension": ".py",
   "mimetype": "text/x-python",
   "name": "python",
   "nbconvert_exporter": "python",
   "pygments_lexer": "ipython3",
   "version": "3.8.5"
  },
  "toc": {
   "base_numbering": 1,
   "nav_menu": {},
   "number_sections": true,
   "sideBar": true,
   "skip_h1_title": false,
   "title_cell": "Table of Contents",
   "title_sidebar": "Contents",
   "toc_cell": false,
   "toc_position": {},
   "toc_section_display": true,
   "toc_window_display": false
  }
 },
 "nbformat": 4,
 "nbformat_minor": 4
}
