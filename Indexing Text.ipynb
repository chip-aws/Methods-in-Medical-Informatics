{
 "cells": [
  {
   "cell_type": "markdown",
   "metadata": {},
   "source": [
    "# ZIPF Distribution of a Text File"
   ]
  },
  {
   "cell_type": "code",
   "execution_count": null,
   "metadata": {},
   "outputs": [],
   "source": [
    "import re\n",
    "import string\n",
    "word_list = []\n",
    "freq_list = []\n",
    "format_list = []\n",
    "freq = {}\n",
    "in_text = open(‘C:\\\\big\\\\d2009.bin’, “r”)\n",
    "in_text_string = in_text.read()\n",
    "out_text = open(“meshzipf.txt”, “w”)\n",
    "word_list = re.findall(r’(\\b[A-Za-z][a-z]{2,15}\\b)’, in_text_string)\n",
    "in_text_string = “”\n",
    "for item in word_list:\n",
    "    count = freq.get(item,0)\n",
    "    freq[item] = count + 1\n",
    "for key, value in freq.iteritems():\n",
    "    value = “000000” + str(value)\n",
    "    value = value[-6:]\n",
    "    format_list += [value + “ “ + key]\n",
    "format_list = reversed(sorted(format_list))\n",
    "print>>out_text, “\\n”.join(format_list)"
   ]
  },
  {
   "cell_type": "markdown",
   "metadata": {},
   "source": [
    "# Preparing a Concordance"
   ]
  },
  {
   "cell_type": "code",
   "execution_count": null,
   "metadata": {},
   "outputs": [],
   "source": [
    "import re\n",
    "import string\n",
    "sentence_list = []\n",
    "word_list = []\n",
    "word_dict = {}\n",
    "format_list = []\n",
    "count = 0\n",
    "stopfile = open(“stop.txt”,’r’)\n",
    "stop_list = stopfile.readlines()\n",
    "stopfile.close()\n",
    "in_text = open(‘titles.txt’, “r”)\n",
    "in_text_string = in_text.read()\n",
    "in_text_string = in_text_string.replace(“\\n”,” “)\n",
    "in_text_string = in_text_string.replace(“ +”,” “)\n",
    "sentence_list = re.split(r’[\\.\\!\\?] +(?=[A-Z])’,in_text_string)\n",
    "for sentence in sentence_list:\n",
    "    count = count + 1\n",
    "    sentence = string.lower(sentence)\n",
    "    word_list = re.findall(r’(\\b[a-z]{3,15}\\b)’, sentence)\n",
    "    for word in word_list:\n",
    "        if word_dict.has_key(word):\n",
    "            word_dict[word] = word_dict[word] + ‘,’ + str(count)\n",
    "        else:\n",
    "            word_dict[word] = str(count)\n",
    "keylist = word_dict.keys()\n",
    "keylist.sort()\n",
    "for key in keylist:\n",
    "    print key, word_dict[key]"
   ]
  },
  {
   "cell_type": "markdown",
   "metadata": {},
   "source": [
    "# Extracting Phrases"
   ]
  },
  {
   "cell_type": "code",
   "execution_count": null,
   "metadata": {},
   "outputs": [],
   "source": [
    "import re, string\n",
    "item_list = []\n",
    "stopfile = open(“stop.txt”,’r’)\n",
    "stop_list = stopfile.readlines()\n",
    "stopfile.close()\n",
    "in_text = open(‘cancer_gene_titles.txt’, “r”)\n",
    "count = 0\n",
    "for line in in_text:\n",
    "count = count + 1\n",
    "for stopword in stop_list:\n",
    "stopword = re.sub(r’\\n’, ‘’, stopword)\n",
    "line = re.sub(r’ *\\b’ + stopword + r’\\b *’, ‘\\n’, line)\n",
    "item_list.extend(line.split(“\\n”))\n",
    "item_list = sorted(set(item_list))\n",
    "out_text = open(‘phrases.txt’, “w”)\n",
    "for item in item_list:\n",
    "print>>out_text, item"
   ]
  },
  {
   "cell_type": "markdown",
   "metadata": {},
   "source": [
    "# Preparing an Index"
   ]
  },
  {
   "cell_type": "code",
   "execution_count": null,
   "metadata": {},
   "outputs": [],
   "source": [
    "import re\n",
    "import string\n",
    "item_list = []\n",
    "item_dictionary = {}\n",
    "place_string = “”\n",
    "stopfile = open(“stop.txt”,’r’)\n",
    "stop_list = stopfile.readlines()\n",
    "stopfile.close()\n",
    "in_text = open(‘text.txt’, “r”)\n",
    "in_text_string = in_text.read()\n",
    "in_text_string = in_text_string.replace(“\\n”,” “)\n",
    "in_text_string = in_text_string.replace(“ +”,” “)\n",
    "sentence_list = re.split(r’[\\.\\!\\?] +(?=[A-Z])’,in_text_string)\n",
    "norm = string.maketrans(‘’,’’)\n",
    "badascii = string.translate(norm,norm,string.printable)\n",
    "badascii_table = badascii + (256 - len(badascii))*” “\n",
    "junk_table = 256*” “\n",
    "table = string.maketrans(badascii_table,junk_table)\n",
    "count = 0\n",
    "for item in sentence_list:\n",
    "    count = count + 1\n",
    "    count_string = str(count)\n",
    "    item = string.lower(item)\n",
    "    item = re.sub(r’\\’s’, “”, item)\n",
    "    item = item.translate(table)\n",
    "    for stopword in stop_list:\n",
    "        stopword = string.rstrip(stopword)\n",
    "        item = re.sub(r’ *\\b’ + stopword + r’\\b *’, ‘\\n’, item)\n",
    "        item_list = item.split(“\\n”)\n",
    "        for phrase in item_list:\n",
    "            phrasematch = re.match(r’^[0-9]’, phrase)\n",
    "            if (phrasematch):\n",
    "                continue\n",
    "            if item_dictionary.has_key(phrase):\n",
    "                item_dictionary[phrase] = item_dictionary[phrase] + ‘,’ + count_string\n",
    "            else:\n",
    "                item_dictionary[phrase] = count_string\n",
    "keylist = item_dictionary.keys()\n",
    "keylist.sort()\n",
    "for key in keylist:\n",
    "    print key, item_dictionary[key]"
   ]
  },
  {
   "cell_type": "markdown",
   "metadata": {},
   "source": [
    "# Comparing Texts Using Similarity Scores"
   ]
  },
  {
   "cell_type": "code",
   "execution_count": null,
   "metadata": {},
   "outputs": [],
   "source": [
    "import re\n",
    "import string\n",
    "from math import sqrt\n",
    "from math import pow\n",
    "treasure = {}\n",
    "paradise = {}\n",
    "filelist = [“treasure.txt”, “paradise.txt”]\n",
    "stopfile = open(“stop.txt”,’r’)\n",
    "stop_list = stopfile.readlines()\n",
    "stopfile.close()\n",
    "phraseform = re.compile(r’^[a-z]+ [a-z ]+$’)\n",
    "for filename in filelist:\n",
    "    in_text = open(filename, “r”)\n",
    "    in_text_string = in_text.read()\n",
    "    in_text.close()\n",
    "    in_text_string = in_text_string.replace(“\\n”,” “)\n",
    "    for stopword in stop_list:\n",
    "        stopword = string.rstrip(stopword)\n",
    "        in_text_string = re.sub(r’ *\\b’ + stopword + r’\\b *’, ‘\\n’,in_text_string)\n",
    "    in_text_string = re.sub(r’[\\,\\:\\;\\(\\)]’,’\\n’,in_text_string)\n",
    "    in_text_string = re.sub(r’[\\.\\!\\?] +(?=[A-Z])’, ‘\\n’, in_text_string)\n",
    "    in_text_string = string.lower(in_text_string)\n",
    "    item_list = re.split(r’ *\\n *’, in_text_string)\n",
    "    for phrase in item_list:\n",
    "        phrase = re.sub(r’ +’,’ ‘, phrase)\n",
    "        phrase = string.strip(phrase)\n",
    "        phrasematch = phraseform.match(phrase)\n",
    "        if not (phrasematch):\n",
    "            continue\n",
    "        if (filename == “paradise.txt”):\n",
    "            if paradise.has_key(phrase):\n",
    "                paradise[phrase] = paradise[phrase] + 1\n",
    "            else:\n",
    "                paradise[phrase] = 1\n",
    "            if not (treasure.has_key(phrase)):\n",
    "                treasure[phrase] = 0\n",
    "        if (filename == “treasure.txt”):\n",
    "            if treasure.has_key(phrase):\n",
    "                treasure[phrase] = treasure[phrase] + 1\n",
    "            else:\n",
    "                treasure[phrase] = 1\n",
    "            if not (paradise.has_key(phrase)):\n",
    "                paradise[phrase] = 0\n",
    "count = 0; sumtally1 = 0; sumtally2 = 0; sqtally1 = 0; sqtally2 = 0\n",
    "prodtally12 = 0; part1 = 0; part2 = 0; part3 = 0;\n",
    "keylist = paradise.keys()\n",
    "for key in keylist:\n",
    "    count = count + 1;\n",
    "    sumtally1 = sumtally1 + paradise[key]\n",
    "    sumtally2 = sumtally2 + treasure[key]\n",
    "    sqtally1 = sqtally1 + pow(paradise[key],2)\n",
    "    sqtally2 = sqtally2 + pow(treasure[key],2)\n",
    "    prodtally12 = prodtally12 + (paradise[key] * treasure[key])\n",
    "part1 = prodtally12 - (float(sumtally1 * sumtally2) / count)\n",
    "part2 = sqtally1 - (float(pow(sumtally1,2)) / count)\n",
    "part3 = sqtally2 - (float(pow(sumtally2,2)) / count)\n",
    "similarity12 = float(part1) / float(sqrt(part2 * part3))\n",
    "print “The Pearson score is”, similarity12"
   ]
  }
 ],
 "metadata": {
  "kernelspec": {
   "display_name": "Python 3",
   "language": "python",
   "name": "python3"
  },
  "language_info": {
   "codemirror_mode": {
    "name": "ipython",
    "version": 3
   },
   "file_extension": ".py",
   "mimetype": "text/x-python",
   "name": "python",
   "nbconvert_exporter": "python",
   "pygments_lexer": "ipython3",
   "version": "3.7.4"
  },
  "toc": {
   "base_numbering": 1,
   "nav_menu": {},
   "number_sections": true,
   "sideBar": true,
   "skip_h1_title": false,
   "title_cell": "Table of Contents",
   "title_sidebar": "Contents",
   "toc_cell": false,
   "toc_position": {},
   "toc_section_display": true,
   "toc_window_display": false
  }
 },
 "nbformat": 4,
 "nbformat_minor": 4
}
