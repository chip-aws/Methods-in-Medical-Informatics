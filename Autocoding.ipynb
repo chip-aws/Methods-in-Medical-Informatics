{
 "cells": [
  {
   "cell_type": "markdown",
   "metadata": {},
   "source": [
    "Welcome to chapter fourteen of Methods in Medical Informatics! In this section, we will be exploring autocoding. Often in biomedical informatics, it is necessary to extract medical terms from text and attach a nomenclature concept code to the extracted term. A software product that computationally parses and codes medical text is called an autocoder or an automatic coder. By coding, concepts of interest contained in text can be retrieved regardless of the choice of words used to describe them. Lets begin!\n",
    "\n",
    "> Disclaimer: The content below is adapted from the book \"Methods in Medical Informatics - Fundamental of Healthcare Programming in Perl, Python, and Ruby\" by Jules J. Berman. All content is for testing, education, and teaching purposes only. No content will be openly released to the internet. "
   ]
  },
  {
   "cell_type": "markdown",
   "metadata": {
    "heading_collapsed": true
   },
   "source": [
    "# Neoplasm Autocoder"
   ]
  },
  {
   "cell_type": "markdown",
   "metadata": {
    "hidden": true
   },
   "source": [
    "The script requires two external files, neocl.xml, the Neoplasm Classification in XML\n",
    "format, available for download as a gzipped file from\n",
    "http://www.julesberman.info/neoclxml.gz\n",
    "There are about 135,000 unique terms in the nomenclature. Each term is listed in a\n",
    "consistent format, as shown in these two examples:\n",
    "<name nci-code = “C3084300”>polymorphous haemangioendothelioma</name>\n",
    "<name nci-code = “C3085000”>angioma</name>\n",
    "The terms are enclosed by angle brackets:\n",
    ">polymorphous haemangioendothelioma<\n",
    ">angioma<\n",
    "The codes are enclosed by quotations:\n",
    "“C3084300”\n",
    "“C3085000”\n",
    "Terms and corresponding codes can be easily extracted by a simple regex expression.\n",
    "We will use an external file that we can autocode. For this sample project, we will\n",
    "parse through tumorabs.txt, a file of 20,000 abstract titles extracted from PubMed\n",
    "and available for download at\n",
    "http://www.julesberman.info/book/tumorabs.txt\n",
    "A portion of the file is shown in Figure 14.1.\n",
    "We described the process of obtaining PubMed search result files in Chapter 9,\n",
    "Section 9.1."
   ]
  },
  {
   "cell_type": "code",
   "execution_count": null,
   "metadata": {
    "ExecuteTime": {
     "end_time": "2020-11-22T21:20:01.766374Z",
     "start_time": "2020-11-22T21:19:55.689485Z"
    },
    "hidden": true
   },
   "outputs": [],
   "source": [
    "import re\n",
    "text = open(\"./K11946_Files/NEOCL.XML\", \"r\")\n",
    "literalhash = {}\n",
    "codematch = re.compile('\\”(C\\d{7})\\”')\n",
    "phrasematch = re.compile('\\”\\> ?(.+) ?\\<\\/')\n",
    "for line in text:\n",
    "    m= codematch.search(line)\n",
    "    if m:\n",
    "        code = m.group(1)\n",
    "    else:\n",
    "        continue\n",
    "    x = phrasematch.search(line)\n",
    "    if x:\n",
    "        phrase = x.group(1)\n",
    "    else:\n",
    "        continue\n",
    "    literalhash[phrase] = code\n",
    "text.close()\n",
    "print(\"Neoplasm code hash has been created. Autocoding will start now\")\n",
    "absfile = open(\"./K11946_Files/tumorabs.txt\", \"r\")\n",
    "outfile = open(\"tumorpy.out\", \"w\")\n",
    "singular = re.compile('omas')\n",
    "england = re.compile('tumo[u]?rs')\n",
    "for line in absfile:\n",
    "    sentence = line\n",
    "    sentence = singular.sub(\"oma\",sentence)\n",
    "    sentence = england.sub(\"tumor\",sentence)\n",
    "    sentence = sentence.rstrip()\n",
    "    print(outfile,\"\\nAbstract title...\" + sentence + \".\")\n",
    "    sentence_array = sentence.split(\" \")\n",
    "    length = len(sentence_array)\n",
    "    for i in range(length):\n",
    "        for place_length in range(len(sentence_array)):\n",
    "            last_element = place_length + 1\n",
    "            phrase = ' '.join(sentence_array[0:last_element])\n",
    "            if phrase in literalhash:\n",
    "                print(outfile,\"Neoplasm term...\" + phrase + \" \" + literalhash[phrase])\n",
    "    sentence_array.pop(0)"
   ]
  },
  {
   "cell_type": "markdown",
   "metadata": {
    "heading_collapsed": true,
    "hidden": true
   },
   "source": [
    "## Script Algoriothm: Neoplasm Autocoder"
   ]
  },
  {
   "cell_type": "markdown",
   "metadata": {
    "hidden": true
   },
   "source": [
    "1. Open the nomenclature file, which will be the source of coded terms to match\n",
    "against the text that needs to be autocoded. For this example, we will use the\n",
    "neoplasm taxonomy, but it could be any nomenclature that consists of codes\n",
    "listed with their corresponding medical terms.\n",
    "2. Create a dictionary object with keys corresponding to the terms (names of\n",
    "neoplasms, in this case) of the medical nomenclature and values comprising\n",
    "the corresponding codes for the terms.\n",
    "3. Open the file to be parsed (tumorabs.txt).\n",
    "4. Parse through the file, line by line, each line containing a sentence.\n",
    "5. As each sentence is parsed, break the file into every possible ordered subsequence\n",
    "of words (a phrase array). For example, “Everybody loves to eat pizza”\n",
    "would be broken into an array containing the following items:\n",
    "Everybody loves to eat pizza\n",
    "Everybody loves to eat\n",
    "Everybody loves\n",
    "Everybody\n",
    "loves to eat pizza\n",
    "loves to eat\n",
    "loves to\n",
    "loves\n",
    "to eat pizza\n",
    "to eat\n",
    "to\n",
    "eat pizza\n",
    "eat\n",
    "pizza\n",
    "6. For each item in the phrase array, determine whether the item matches a term\n",
    "in the neoplasm dictionary object.\n",
    "7. If there is a match, print the phrase and the corresponding code to an external\n",
    "file.\n",
    "8. The external file will consist of the lines from the text, followed by the phrases\n",
    "from the lines that are neoplasm terms, along with their nomenclature codes."
   ]
  },
  {
   "cell_type": "markdown",
   "metadata": {
    "heading_collapsed": true,
    "hidden": true
   },
   "source": [
    "## Analysis: Neoplasm Autocoder"
   ]
  },
  {
   "cell_type": "markdown",
   "metadata": {
    "hidden": true
   },
   "source": [
    "The output of the coder is virtually perfect. Browse through the 10,000 abstract titles\n",
    "on this page and look for the named neoplasms in the abstract text. See if you can find\n",
    "named neoplasms included in the abstract title that were excluded from the autocoded\n",
    "terms that follow each abstract title.\n",
    "Each abstract line parsed from the tumorabs.txt file is printed and then followed by\n",
    "the list of autocoded terms extracted from the title.\n",
    "Note that the terms coded “C0000000” are general neoplasm terms such as “tumor”\n",
    "or “cancer” and not specific names of neoplasms, or they are names of neoplasms that\n",
    "have not yet been classified within the neoplasm taxonomy. Also, the program codes\n",
    "each occurrence of a neoplasm term, even if it is repeated.\n",
    "Abstract title. Local versus diffuse recurrences of meningioma factors correlated\n",
    "to the extent of the recurrence.\n",
    "Neoplasm term. Meningioma C3230000.\n",
    "Abstract title. The effect of an unplanned excision of a soft tissue sarcoma on\n",
    "prognosis.\n",
    "Neoplasm term. Soft tissue sarcoma C9306000.\n",
    "Neoplasm term. Sarcoma C0000000.\n",
    "Abstract title. Obstructive jaundice associated burkitt lymphoma mimicking\n",
    "pancreatic carcinoma.\n",
    "Neoplasm term. Jaundice C0000000.\n",
    "Neoplasm term. Burkitt lymphoma C7188000.\n",
    "Neoplasm term. Lymphoma C7065000.\n",
    "Neoplasm term. Pancreatic carcinoma C3850000.\n",
    "Neoplasm term. Carcinoma C0000000.\n",
    "Abstract title. Efficacy of zoledronate in treating persisting isolated tumor cells\n",
    "in bone marrow in patients with breast cancer a phase II pilot study.\n",
    "Neoplasm term. Tumor C0000000.\n",
    "Neoplasm term. Breast cancer C4872000.\n",
    "Neoplasm term. Cancer C0000000.\n",
    "Abstract title. Metastatic lymph node number in epithelial ovarian carcinoma\n",
    "does it have any clinical significance.\n",
    "Neoplasm term. Epithelial ovarian carcinoma C4908000.\n",
    "Neoplasm term. Ovarian carcinoma C4908000.\n",
    "Neoplasm term. Carcinoma C0000000.\n",
    "Abstract title. Extended three-dimensional impedance map methods for identifying\n",
    "ultrasonic scattering sites.\n",
    "Abstract title. Aberrant expression of connexin 26 is associated with lung metastasis\n",
    "of colorectal cancer.\n",
    "Neoplasm term. Colorectal cancer C5105000.\n",
    "Neoplasm term. Cancer C0000000.\n",
    "Abstract title. Microrna expression profiles of esophageal cancer.\n",
    "Neoplasm term. Esophageal cancer C3513000.\n",
    "Neoplasm term. Cancer C0000000.\n",
    "Abstract title. State and trait anxiety and depression in patients with primary\n",
    "brain tumor before and after surgery 1 year longitudinal study.\n",
    "Neoplasm term. Primary brain tumor C0000000.\n",
    "Neoplasm term. Brain tumor C0000000.\n",
    "Neoplasm term. Tumor C0000000.\n",
    "Abstract title. Laparoscopic resection of large adrenal ganglioneuroma.\n",
    "Neoplasm term. Ganglioneuroma C3049000.\n",
    "Abstract title. Case records of the Massachusetts general hospital case 4 2008 a\n",
    "33- year-old pregnant woman with swelling of the left breast and shortness\n",
    "of breath.\n",
    "Abstract title. Evaluation of higher order time domain perturbation theory of\n",
    "photon diffusion on breast equivalent phantoms and optical mammograms.\n",
    "Abstract title. Meningeal melanocytosis in a young patient an autopsy diagnosis.\n",
    "Abstract title. Oncogenic hypophosphataemic osteomalacia biomarker roles of\n",
    "fibroblast growth factor 23 1 25 dihydroxyvitamin d3 and lymphatic vessel\n",
    "endothelial hyaluronan receptor 1.\n",
    "Abstract title. Microrna expression profiles associated with prognosis and therapeutic\n",
    "outcome in colon adenocarcinoma.\n",
    "Neoplasm term. Colon adenocarcinoma C4349000.\n",
    "Neoplasm term. Adenocarcinoma C0000000."
   ]
  },
  {
   "cell_type": "markdown",
   "metadata": {
    "heading_collapsed": true
   },
   "source": [
    "# Recoding"
   ]
  },
  {
   "cell_type": "markdown",
   "metadata": {
    "hidden": true
   },
   "source": [
    "The medical informatics literature has lots of descriptions of medical autocoders, but most of these descriptions fail to include their speed. The autocoder included here is fast, coding 20,000 citations in about 20 second or less on a 2.5 GHz desktop CPU with 512 megabytes of RAM. This is a rate of about 100 kilobytes per second. By\n",
    "the time this book is published, most readers will have computers that operate much\n",
    "faster than mine, providing a much faster autocoding rate.\n",
    "Why is it important to have a fast autocoder? Why can’t you load your parser with\n",
    "a big file and let it run in the background, taking as long as it takes to finish?\n",
    "There are three reasons why you absolutely must have a fast autocoder:\n",
    "1. Medical files today are large. It is not unusual for a large medical center to\n",
    "generate a terabyte of data each week. A slow autocoder could never keep up\n",
    "with the volume of medical information that is produced each day.\n",
    "2. Autocoders, and the nomenclatures they draw terms from, need to be modified\n",
    "to accommodate unexpected oddities in the text that they parse (particularly\n",
    "formatting oddities and the inclusion of idiosyncratic language to express\n",
    "medical terms). The cycles of running a program, reviewing output, making\n",
    "modifications in software or nomenclatures, and repeating the whole process\n",
    "many times cannot be undertaken if you need to wait a week for your autocoding\n",
    "software to parse your text.\n",
    "3. Autocoding is as much about recoding as it is about the initial process of providing\n",
    "nomenclature codes.\n",
    "You need to recode (supply a new set of nomenclature codes for terms in your medical\n",
    "text) whenever you want to change from one nomenclature to another.\n",
    "You need to recode whenever you introduce a new version of a nomenclature.\n",
    "You need to recode whenever you want to use a new coding algorithm (e.g., parsimonious\n",
    "coding versus comprehensive, or linking code to a particular extracted portion\n",
    "of report).\n",
    "You need to recode whenever you add legacy data to your laboratory information\n",
    "systems.\n",
    "You need to recode whenever you merge different medical data sets (especially,\n",
    "medical data sets that have been coded with different medical nomenclatures).\n",
    "All of this recoding adds to the data burden placed on a medical autocoder.\n",
    "It has been my personal observation that computational tasks that take much time\n",
    "(more than a few seconds) tend to be put on the back burner. The same observations\n",
    "would apply to medical deidentification software (Chapter 15), software designed to\n",
    "classify data into related groups (so-called intelligent computing) and software that\n",
    "draws inferences from classes of data (so-called artificial intelligence). Smart informaticians\n",
    "understand that program execution speed is always very important."
   ]
  }
 ],
 "metadata": {
  "kernelspec": {
   "display_name": "Python 3",
   "language": "python",
   "name": "python3"
  },
  "language_info": {
   "codemirror_mode": {
    "name": "ipython",
    "version": 3
   },
   "file_extension": ".py",
   "mimetype": "text/x-python",
   "name": "python",
   "nbconvert_exporter": "python",
   "pygments_lexer": "ipython3",
   "version": "3.8.5"
  },
  "toc": {
   "base_numbering": 1,
   "nav_menu": {},
   "number_sections": true,
   "sideBar": true,
   "skip_h1_title": false,
   "title_cell": "Table of Contents",
   "title_sidebar": "Contents",
   "toc_cell": false,
   "toc_position": {},
   "toc_section_display": true,
   "toc_window_display": false
  }
 },
 "nbformat": 4,
 "nbformat_minor": 4
}
