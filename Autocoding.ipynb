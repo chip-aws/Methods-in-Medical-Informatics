{
 "cells": [
  {
   "cell_type": "markdown",
   "metadata": {},
   "source": [
    "# Neoplasm Autocoder"
   ]
  },
  {
   "cell_type": "code",
   "execution_count": null,
   "metadata": {},
   "outputs": [],
   "source": [
    "import re\n",
    "text = open(“neocl.xml”, “r”)\n",
    "literalhash = {}\n",
    "codematch = re.compile(‘\\”(C\\d{7})\\”’)\n",
    "phrasematch = re.compile(‘\\”\\> ?(.+) ?\\<\\/’)\n",
    "for line in text:\n",
    "    m= codematch.search(line)\n",
    "    if m:\n",
    "        code = m.group(1)\n",
    "    else:\n",
    "        continue\n",
    "    x = phrasematch.search(line)\n",
    "    if x:\n",
    "        phrase = x.group(1)\n",
    "    else:\n",
    "        continue\n",
    "    literalhash[phrase] = code\n",
    "text.close()\n",
    "print “Neoplasm code hash has been created. Autocoding will start now”\n",
    "absfile = open(“tumorabs.txt”, “r”)\n",
    "outfile = open(“tumorpy.out”, “w”)\n",
    "singular = re.compile(‘omas’)\n",
    "england = re.compile(‘tumo[u]?rs’)\n",
    "for line in absfile:\n",
    "    sentence = line\n",
    "    sentence = singular.sub(“oma”,sentence)\n",
    "    sentence = england.sub(“tumor”,sentence)\n",
    "    sentence = sentence.rstrip()\n",
    "    print>>outfile,”\\nAbstract title...” + sentence + “.”\n",
    "    sentence_array = sentence.split(“ “)\n",
    "    length = len(sentence_array)\n",
    "    for i in range(length):\n",
    "        for place_length in range(len(sentence_array)):\n",
    "            last_element = place_length + 1\n",
    "            phrase = ‘ ‘.join(sentence_array[0:last_element])\n",
    "            if literalhash.has_key(phrase):\n",
    "                print>>outfile,”Neoplasm term...” + phrase + “ “ + literalhash[phrase]\n",
    "    sentence_array.pop(0)"
   ]
  },
  {
   "cell_type": "markdown",
   "metadata": {},
   "source": [
    "# Recoding"
   ]
  }
 ],
 "metadata": {
  "kernelspec": {
   "display_name": "Python 3",
   "language": "python",
   "name": "python3"
  },
  "language_info": {
   "codemirror_mode": {
    "name": "ipython",
    "version": 3
   },
   "file_extension": ".py",
   "mimetype": "text/x-python",
   "name": "python",
   "nbconvert_exporter": "python",
   "pygments_lexer": "ipython3",
   "version": "3.7.4"
  },
  "toc": {
   "base_numbering": 1,
   "nav_menu": {},
   "number_sections": true,
   "sideBar": true,
   "skip_h1_title": false,
   "title_cell": "Table of Contents",
   "title_sidebar": "Contents",
   "toc_cell": false,
   "toc_position": {},
   "toc_section_display": true,
   "toc_window_display": false
  }
 },
 "nbformat": 4,
 "nbformat_minor": 4
}
