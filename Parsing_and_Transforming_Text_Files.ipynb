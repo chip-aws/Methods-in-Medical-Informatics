{
 "cells": [
  {
   "cell_type": "markdown",
   "metadata": {},
   "source": [
    "Welcome to chapter one of Methods in Medical Informatics! In this section, we will be exploring how to parse and transform text files. We will be exploring seven different scripts which each illustrate  a different aspect of parsing and transforming text files. Lets begin!\n",
    "\n",
    "> Disclaimer: The content below is adapted from the book \"Methods in Medical Informatics - Fundamental of Healthcare Programming in Perl, Python, and Ruby\" by Jules J. Berman. All content is for testing, education, and teaching purposes only. No content will be openly released to the internet. "
   ]
  },
  {
   "cell_type": "markdown",
   "metadata": {
    "heading_collapsed": true
   },
   "source": [
    "# Peeking into Large Files"
   ]
  },
  {
   "cell_type": "markdown",
   "metadata": {
    "hidden": true
   },
   "source": [
    "Text data files may sometimes be quite large with some being gigabytes in length. Most word processors are unable to handles files this large. However, through a simple utility script we can open large text files, extract a sample, and display that sample. The script below will display the first 40 lines from a large text file and then store the first 3000 line in a separate file which can opened with a word processor. Afterward we will explore both the script and the script output in more detail.*\n",
    "\n",
    "> This script will utilize the file [sample.txt](http://datamine.unc.edu/jupyter/edit/Methods-in-Medical-Informatics-master/sample.txt). This is a text file which contains the article \"A machine learning algorithm to increase COVID-19 inpatient diagnostic capacity\" represented in XML. Additional information [here](https://datamine.unc.edu/data-files/)\n",
    "\n",
    "**Description adapted from page 3 of \"Methods in Medical Informatics\".*"
   ]
  },
  {
   "cell_type": "code",
   "execution_count": null,
   "metadata": {
    "ExecuteTime": {
     "end_time": "2020-10-15T01:37:11.191998Z",
     "start_time": "2020-10-15T01:37:06.788112Z"
    },
    "hidden": true
   },
   "outputs": [],
   "source": [
    "import string\n",
    "line = input('What file would like to sample? (Please write file name) ')\n",
    "infile = open(line, 'r', encoding='utf-8')\n",
    "#outfile = open('data\\sample_output.txt', 'w', encoding='utf-8')\n",
    "for iterations in range(40):\n",
    "    getline = infile.readline()\n",
    "    print(getline.rstrip())\n",
    "for iterations in range(3000):\n",
    "    getline = infile.readline()\n",
    "    #outfile.write(getline)\n",
    "infile.close()\n",
    "#outfile.close()"
   ]
  },
  {
   "cell_type": "markdown",
   "metadata": {
    "heading_collapsed": true,
    "hidden": true
   },
   "source": [
    "## Script Algorithm: Peeking into Large Files"
   ]
  },
  {
   "cell_type": "markdown",
   "metadata": {
    "hidden": true
   },
   "source": [
    "Send a prompt to the monitor asking for the name of the file to sample. Store the file name as a variable.*"
   ]
  },
  {
   "cell_type": "code",
   "execution_count": null,
   "metadata": {
    "ExecuteTime": {
     "end_time": "2020-10-01T09:47:14.090068Z",
     "start_time": "2020-10-01T09:47:06.459243Z"
    },
    "hidden": true
   },
   "outputs": [],
   "source": [
    "import string\n",
    "line = input('What file would like to sample? (Please write file name) ')"
   ]
  },
  {
   "cell_type": "markdown",
   "metadata": {
    "hidden": true
   },
   "source": [
    "Open the file for reading. Open another file for writing."
   ]
  },
  {
   "cell_type": "code",
   "execution_count": null,
   "metadata": {
    "ExecuteTime": {
     "end_time": "2020-10-01T09:47:14.137341Z",
     "start_time": "2020-10-01T09:47:14.119389Z"
    },
    "hidden": true
   },
   "outputs": [],
   "source": [
    "infile = open(line, 'r', encoding='utf-8')\n",
    "#outfile = open('data\\sample_output.txt', 'w', encoding='utf-8')"
   ]
  },
  {
   "cell_type": "markdown",
   "metadata": {
    "hidden": true
   },
   "source": [
    "Create a for loop that iterates through the first 40 lines of the text file. Print the line as the script iterate through the file."
   ]
  },
  {
   "cell_type": "code",
   "execution_count": null,
   "metadata": {
    "ExecuteTime": {
     "end_time": "2020-10-01T09:47:14.152300Z",
     "start_time": "2020-10-01T09:47:14.141333Z"
    },
    "hidden": true
   },
   "outputs": [],
   "source": [
    "for iterations in range(40):\n",
    "    getline = infile.readline()\n",
    "    print(getline.rstrip())"
   ]
  },
  {
   "cell_type": "markdown",
   "metadata": {
    "hidden": true
   },
   "source": [
    "Create a for loop that iterates through the first 3000 lines of the text file. Store the first 3000 lines in a separate text file. "
   ]
  },
  {
   "cell_type": "code",
   "execution_count": null,
   "metadata": {
    "ExecuteTime": {
     "end_time": "2020-10-01T09:47:14.184233Z",
     "start_time": "2020-10-01T09:47:14.154297Z"
    },
    "hidden": true
   },
   "outputs": [],
   "source": [
    "for iterations in range(3000):\n",
    "    getline = infile.readline()\n",
    "    #outfile.write(getline)"
   ]
  },
  {
   "cell_type": "markdown",
   "metadata": {
    "hidden": true
   },
   "source": [
    "Close the reading and writing files. "
   ]
  },
  {
   "cell_type": "code",
   "execution_count": null,
   "metadata": {
    "ExecuteTime": {
     "end_time": "2020-10-01T09:47:14.200189Z",
     "start_time": "2020-10-01T09:47:14.186211Z"
    },
    "hidden": true
   },
   "outputs": [],
   "source": [
    "infile.close()\n",
    "#outfile.close()"
   ]
  },
  {
   "cell_type": "markdown",
   "metadata": {
    "hidden": true
   },
   "source": [
    "**This section is adapted from section 1.1.1, \"Script Algorithm\", of pages 3-4 from \"Methods in Medical Informatics\".*"
   ]
  },
  {
   "cell_type": "markdown",
   "metadata": {
    "heading_collapsed": true,
    "hidden": true
   },
   "source": [
    "## Analysis: Peeking into large Files"
   ]
  },
  {
   "cell_type": "markdown",
   "metadata": {
    "hidden": true
   },
   "source": [
    "Even simple scripts occasionally require the user to enter information via the keyboard. In this script, one line is all that is needed to initiate a conversation between the script and the user. A line of text is sent to the monitor, and the script waits until the user enters a reply and presses the Enter key. The reply is captured by the program and stored as a variable. The final product is the first 40 lines of the document displayed, and the first 3000 lines of a document written as the file `sample_output`.*\n",
    "\n",
    "**This section is adapted from section 1.1.2, \"Analysis\", of pages 5 in \"Methods in Medical Informatics\".*"
   ]
  },
  {
   "cell_type": "markdown",
   "metadata": {
    "heading_collapsed": true
   },
   "source": [
    "# Paging through Large Text Files"
   ]
  },
  {
   "cell_type": "markdown",
   "metadata": {
    "hidden": true
   },
   "source": [
    "The script below solves the same problem as the first script. However, it takes a different approach. Here the script displays the first 40 lines from any text file, provides an opportunity to quit; if declined, the script displays the next 40 lines, and repeat indefinitely. This provides a quick method to quickly scroll through a file. Afterward we will explore both the script and the script output in more detail.*\n",
    "\n",
    "> This script will utilize the file [sample.txt](http://datamine.unc.edu/jupyter/edit/Methods-in-Medical-Informatics-master/sample.txt). This is a text file which contains the article \"A machine learning algorithm to increase COVID-19 inpatient diagnostic capacity\" represented in XML. Additional information [here](https://datamine.unc.edu/data-files/)\n",
    "\n",
    "**Description adapted from page 5 of \"Methods in Medical Informatics\".*"
   ]
  },
  {
   "cell_type": "code",
   "execution_count": null,
   "metadata": {
    "ExecuteTime": {
     "end_time": "2020-10-15T01:38:12.698437Z",
     "start_time": "2020-10-15T01:38:04.295667Z"
    },
    "hidden": true
   },
   "outputs": [],
   "source": [
    "import string\n",
    "line = input('What file would like to sample? (Please write file name) ')\n",
    "infile = open(line, 'r', encoding='utf-8')\n",
    "#outfile = open('data\\sample_output.txt', 'w', encoding='utf-8')\n",
    "while True:\n",
    "    for iterations in range(40):\n",
    "        print(infile.readline().rstrip())\n",
    "    response = input('Type QUIT if you want to quit. Otherwise press any key\\n')\n",
    "    if (response == 'QUIT'):\n",
    "        break\n",
    "infile.close()\n",
    "#outfile.close()\n",
    "#exit()"
   ]
  },
  {
   "cell_type": "markdown",
   "metadata": {
    "heading_collapsed": true,
    "hidden": true
   },
   "source": [
    "## Script Algorithm: Paging through Large Text Files"
   ]
  },
  {
   "cell_type": "markdown",
   "metadata": {
    "hidden": true
   },
   "source": [
    "Send a prompt to the monitor asking for the name of a file that you want to read.*"
   ]
  },
  {
   "cell_type": "code",
   "execution_count": null,
   "metadata": {
    "ExecuteTime": {
     "end_time": "2020-10-01T09:47:27.238843Z",
     "start_time": "2020-10-01T09:47:21.369509Z"
    },
    "hidden": true
   },
   "outputs": [],
   "source": [
    "import string\n",
    "line = input('What file would like to sample? (Please write file name) ')"
   ]
  },
  {
   "cell_type": "markdown",
   "metadata": {
    "hidden": true
   },
   "source": [
    "Open a text file to read. Open another file to write."
   ]
  },
  {
   "cell_type": "code",
   "execution_count": null,
   "metadata": {
    "ExecuteTime": {
     "end_time": "2020-10-01T09:47:27.253807Z",
     "start_time": "2020-10-01T09:47:27.241832Z"
    },
    "hidden": true
   },
   "outputs": [],
   "source": [
    "infile = open(line, 'r', encoding='utf-8')\n",
    "#outfile = open('data\\sample_output.txt', 'w', encoding='utf-8')"
   ]
  },
  {
   "cell_type": "markdown",
   "metadata": {
    "hidden": true
   },
   "source": [
    "Print the first 40 lines of the file. Prompt the user, asking if he or she would like to quit the program. If user enters \"QUIT\" after the prompt, exit the program. Other repeat iterating through the next 40 lines/"
   ]
  },
  {
   "cell_type": "code",
   "execution_count": null,
   "metadata": {
    "ExecuteTime": {
     "end_time": "2020-10-01T09:47:29.733889Z",
     "start_time": "2020-10-01T09:47:27.256792Z"
    },
    "hidden": true
   },
   "outputs": [],
   "source": [
    "while True:\n",
    "    for iterations in range(40):\n",
    "        print(infile.readline().rstrip())\n",
    "    response = input('Type QUIT if you want to quit. Otherwise press any key\\n')\n",
    "    if (response == 'QUIT'):\n",
    "        break"
   ]
  },
  {
   "cell_type": "markdown",
   "metadata": {
    "hidden": true
   },
   "source": [
    "Close all opened files. Exit the program."
   ]
  },
  {
   "cell_type": "code",
   "execution_count": null,
   "metadata": {
    "ExecuteTime": {
     "end_time": "2020-10-01T09:47:29.749846Z",
     "start_time": "2020-10-01T09:47:29.738890Z"
    },
    "hidden": true
   },
   "outputs": [],
   "source": [
    "infile.close()\n",
    "#outfile.close()\n",
    "#exit()"
   ]
  },
  {
   "cell_type": "markdown",
   "metadata": {
    "hidden": true
   },
   "source": [
    "**This section is adapted from section 1.2.1, \"Script Algorithm\", of pages 5-6 from \"Methods in Medical Informatics\".*"
   ]
  },
  {
   "cell_type": "markdown",
   "metadata": {
    "heading_collapsed": true,
    "hidden": true
   },
   "source": [
    "## Analysis: Paging through Large Text Files"
   ]
  },
  {
   "cell_type": "markdown",
   "metadata": {
    "hidden": true
   },
   "source": [
    "If you want to try this script, be sure to provide the name of a text file at the prompt. Programming languages can open a file for reading, without loading the entire file into memory. When a file is opened for reading, file information can be accessed by sequential line readings, or by direct access to any selected byte location in the file. These operations can be done very quickly. The rate-limiting factor is the speed with which your monitor can display text.*"
   ]
  },
  {
   "cell_type": "markdown",
   "metadata": {
    "hidden": true
   },
   "source": [
    "**This section is adapted from section 1.2.2, \"Analysis\", of pages 7 from \"Methods in Medical Informatics\".*"
   ]
  },
  {
   "cell_type": "markdown",
   "metadata": {
    "heading_collapsed": true
   },
   "source": [
    "# Extracting Lines that Match a Regular Expression"
   ]
  },
  {
   "cell_type": "markdown",
   "metadata": {
    "hidden": true
   },
   "source": [
    "It would be useful to be able to search for classes of data within large text file. Regular expression (regex) allows you to do so. Regex is a conventional way of describing string patterns. The script below will extract lines of text that match a regular expression. Afterward we will explore both the script and the script output in more detail.*\n",
    "\n",
    "> This script will utilize the file [sample.txt](http://datamine.unc.edu/jupyter/edit/Methods-in-Medical-Informatics-master/sample.txt). This is a text file which contains the article \"A machine learning algorithm to increase COVID-19 inpatient diagnostic capacity\" represented in XML. Additional information [here](https://datamine.unc.edu/data-files/)\n",
    "\n",
    "**Description adapted from pages 7-8 of \"Methods in Medical Informatics\".*"
   ]
  },
  {
   "cell_type": "code",
   "execution_count": null,
   "metadata": {
    "ExecuteTime": {
     "end_time": "2020-10-15T01:39:39.976925Z",
     "start_time": "2020-10-15T01:39:32.910760Z"
    },
    "hidden": true
   },
   "outputs": [],
   "source": [
    "import string\n",
    "import re\n",
    "line = input('What file would you like to search? (Please write file name) ')\n",
    "regex = input('Enter a word, phrase or regular expression to search.')\n",
    "regex = regex.rstrip()\n",
    "infile = open(line, 'r', encoding='utf-8')\n",
    "#outfile = open('data\\sample_output.txt', 'w')\n",
    "regex_object = re.compile(regex, re.I)\n",
    "for line in infile:\n",
    "    m = regex_object.search(line)\n",
    "    if m:\n",
    "        print(line)\n",
    "        #outfile.write(line)\n",
    "#exit()"
   ]
  },
  {
   "cell_type": "markdown",
   "metadata": {
    "heading_collapsed": true,
    "hidden": true
   },
   "source": [
    "## Script Algorithm: Extracting Lines that Match a Regular Expression"
   ]
  },
  {
   "cell_type": "markdown",
   "metadata": {
    "hidden": true
   },
   "source": [
    "Send a prompt to the monitor asking for the name of a file to be searched and the regular expression to search for.*"
   ]
  },
  {
   "cell_type": "code",
   "execution_count": null,
   "metadata": {
    "ExecuteTime": {
     "end_time": "2020-10-01T09:47:46.320748Z",
     "start_time": "2020-10-01T09:47:38.476393Z"
    },
    "hidden": true
   },
   "outputs": [],
   "source": [
    "line = input('What file would you like to search? (Please write file name) ')\n",
    "regex = input('Enter a word, phrase or regular expression to search.')\n",
    "regex = regex.rstrip()"
   ]
  },
  {
   "cell_type": "markdown",
   "metadata": {
    "hidden": true
   },
   "source": [
    "Open a text file to read. Open a file to output. "
   ]
  },
  {
   "cell_type": "code",
   "execution_count": null,
   "metadata": {
    "ExecuteTime": {
     "end_time": "2020-10-01T09:47:46.336662Z",
     "start_time": "2020-10-01T09:47:46.324694Z"
    },
    "hidden": true
   },
   "outputs": [],
   "source": [
    "infile = open(line, 'r', encoding='utf-8')\n",
    "#outfile = open('data\\sample_output.txt', 'w')"
   ]
  },
  {
   "cell_type": "markdown",
   "metadata": {
    "hidden": true
   },
   "source": [
    "Create a variable to hold the regular expression."
   ]
  },
  {
   "cell_type": "code",
   "execution_count": null,
   "metadata": {
    "ExecuteTime": {
     "end_time": "2020-10-01T09:47:46.351621Z",
     "start_time": "2020-10-01T09:47:46.338655Z"
    },
    "hidden": true
   },
   "outputs": [],
   "source": [
    "regex_object = re.compile(regex, re.I)"
   ]
  },
  {
   "cell_type": "markdown",
   "metadata": {
    "hidden": true
   },
   "source": [
    "Parse through every line of the text file. Whenever a line is encountered that matches the search expression, print it and output the line. "
   ]
  },
  {
   "cell_type": "code",
   "execution_count": null,
   "metadata": {
    "ExecuteTime": {
     "end_time": "2020-10-01T09:47:46.383535Z",
     "start_time": "2020-10-01T09:47:46.352619Z"
    },
    "hidden": true
   },
   "outputs": [],
   "source": [
    "for line in infile:\n",
    "    m = regex_object.search(line)\n",
    "    if m:\n",
    "        print(line)\n",
    "        #outfile.write(line)"
   ]
  },
  {
   "cell_type": "markdown",
   "metadata": {
    "hidden": true
   },
   "source": [
    "Exit the file"
   ]
  },
  {
   "cell_type": "code",
   "execution_count": null,
   "metadata": {
    "ExecuteTime": {
     "end_time": "2020-10-01T09:47:46.399526Z",
     "start_time": "2020-10-01T09:47:46.385540Z"
    },
    "hidden": true
   },
   "outputs": [],
   "source": [
    "#exit()"
   ]
  },
  {
   "cell_type": "markdown",
   "metadata": {
    "hidden": true
   },
   "source": [
    "**This section is adapted from section 1.3.1, \"Script Algorithm\", of page 8 from \"Methods in Medical Informatics\".*"
   ]
  },
  {
   "cell_type": "markdown",
   "metadata": {
    "heading_collapsed": true,
    "hidden": true
   },
   "source": [
    "## Analysis: Extracting Lines Match a Regular Expression"
   ]
  },
  {
   "cell_type": "markdown",
   "metadata": {
    "hidden": true
   },
   "source": [
    "When you try this script, be sure to provide the name of a text file at the prompt. If you do not know how to compose a regular expression, just enter a search word or phrase at the prompt. The script will display every line from the provided file that contains a string that matches your search word or phrase, and will send a copy of the results to an external file.*"
   ]
  },
  {
   "cell_type": "markdown",
   "metadata": {
    "hidden": true
   },
   "source": [
    "**This section is adapted from section 1.2.2, \"Analysis\", of pages 7 from \"Methods in Medical Informatics\".*"
   ]
  },
  {
   "cell_type": "markdown",
   "metadata": {
    "heading_collapsed": true
   },
   "source": [
    "# Changing Every File in a Subdirectory"
   ]
  },
  {
   "cell_type": "markdown",
   "metadata": {
    "hidden": true
   },
   "source": [
    "String substitution is a common computational task. This task could also have some biomedical application. For instance, maybe you will want to switch every occurrence of the word \"tumor\" with \"tumour\" when submitting a manuscript to a British journal. Maybe a calculation, repeated throughout your quality assurance report, was incorrect; you want to substitute the correct number wherever the incorrect number appears. The script below will parse through a file and make a specific substitution for every matching sequence. Afterward we will explore both the script and the script output in more detail.*\n",
    "\n",
    "> This script will utilize the directory [test_directory](http://datamine.unc.edu/jupyter/tree/Methods-in-Medical-Informatics-master/Test_Directory). This is a text file containing the abstract from the article “COVID-19: what has been learned and to be learned about the novel coronavirus disease”. Additional information [here](https://datamine.unc.edu/data-files/)\n",
    "\n",
    "**Description adapted from page 10 of \"Methods in Medical Informatics\".*"
   ]
  },
  {
   "cell_type": "code",
   "execution_count": null,
   "metadata": {
    "ExecuteTime": {
     "end_time": "2020-10-15T01:40:46.982056Z",
     "start_time": "2020-10-15T01:40:46.965101Z"
    },
    "hidden": true
   },
   "outputs": [],
   "source": [
    "import sys \n",
    "import os \n",
    "import re\n",
    "filelist = os.listdir('C:\\\\Users\\\\ericr\\\\Documents\\\\GitHub\\\\Clinical-Cases-LAIR\\\\Methods in Medical Informatics\\\\Test_Directory')\n",
    "os.chdir('C:\\\\Users\\\\ericr\\\\Documents\\\\GitHub\\\\Clinical-Cases-LAIR\\\\Methods in Medical Informatics\\\\Test_Directory')\n",
    "for file in filelist:1.txt\n",
    "    infile = open(file,'r')\n",
    "    filestring = infile.read()\n",
    "    infile.close()\n",
    "    filestring = re.sub('COVID-19','SO LONG', filestring)\n",
    "    outfile = open(file,'w')\n",
    "    outfile.write(filestring)\n",
    "    outfile.close\n",
    "print('Substitution Completed')\n",
    "#exit()"
   ]
  },
  {
   "cell_type": "markdown",
   "metadata": {
    "heading_collapsed": true,
    "hidden": true
   },
   "source": [
    "## Script Algorithm: Changing Every File in a Subdirectory"
   ]
  },
  {
   "cell_type": "markdown",
   "metadata": {
    "hidden": true
   },
   "source": [
    "Open a directory for reading*"
   ]
  },
  {
   "cell_type": "code",
   "execution_count": null,
   "metadata": {
    "ExecuteTime": {
     "end_time": "2020-10-01T09:47:46.446899Z",
     "start_time": "2020-10-01T09:47:46.432941Z"
    },
    "hidden": true
   },
   "outputs": [],
   "source": [
    "import sys \n",
    "import os \n",
    "import re\n",
    "filelist = os.listdir('C:\\\\Users\\\\ericr\\\\Documents\\\\GitHub\\\\Clinical-Cases-LAIR\\\\Methods in Medical Informatics\\\\Test_Directory')\n",
    "os.chdir('C:\\\\Users\\\\ericr\\\\Documents\\\\GitHub\\\\Clinical-Cases-LAIR\\\\Methods in Medical Informatics\\\\Test_Directory')"
   ]
  },
  {
   "cell_type": "markdown",
   "metadata": {
    "hidden": true
   },
   "source": [
    "For each file in your file list, do the following: open the file, read through every line in the file, make the desired substitution for each matching sequence in each line, and close the file when you're finished.. "
   ]
  },
  {
   "cell_type": "code",
   "execution_count": null,
   "metadata": {
    "ExecuteTime": {
     "end_time": "2020-10-01T09:47:46.478814Z",
     "start_time": "2020-10-01T09:47:46.448893Z"
    },
    "hidden": true
   },
   "outputs": [],
   "source": [
    "for file in filelist:\n",
    "    infile = open(file,'r')\n",
    "    filestring = infile.read()\n",
    "    infile.close()\n",
    "    filestring = re.sub('COVID-19','SO LONG', filestring)\n",
    "    outfile = open(file,'w')\n",
    "    outfile.write(filestring)\n",
    "    outfile.close\n",
    "print('Substitution Completed')\n",
    "#exit()"
   ]
  },
  {
   "cell_type": "markdown",
   "metadata": {
    "hidden": true
   },
   "source": [
    "**This section is adapted from section 1.4.1, \"Script Algorithm\", of page 10 from \"Methods in Medical Informatics\".*"
   ]
  },
  {
   "cell_type": "markdown",
   "metadata": {
    "heading_collapsed": true,
    "hidden": true
   },
   "source": [
    "## Analysis: Changing Every File in a Subdirectory"
   ]
  },
  {
   "cell_type": "markdown",
   "metadata": {
    "hidden": true
   },
   "source": [
    "Programming languages provide a simple way to determine the names of the files in a subdirectory. Once the names of the files are determined, it becomes straightforward to pen files, examine the contents of files and transform files. In this case, we explored the `Test_Directory` directory. Then, we parsed through each file and replaced each instance of `COVID-19` with the string `SO LONG`. \n",
    "\n",
    "If you were writing your own multifile substitution script, you might want to change a defunct web address wherever it appears in a file, or you might want to change a common spelling error in many files at once. Programming languages typically provide a variety of file operations, including file tests (ie. to determine whether a file exists or whether a directory file is a text file or a binary file), and file stats (descriptive information on the file such as file size, file creation date, or file modification date).*"
   ]
  },
  {
   "cell_type": "markdown",
   "metadata": {
    "hidden": true
   },
   "source": [
    "**This section is adapted from section 1.4.2, \"Analysis\", of pages 11-12 from \"Methods in Medical Informatics\".*"
   ]
  },
  {
   "cell_type": "markdown",
   "metadata": {
    "heading_collapsed": true
   },
   "source": [
    "# Counting the Words in a File"
   ]
  },
  {
   "cell_type": "markdown",
   "metadata": {
    "hidden": true
   },
   "source": [
    "It is easy to write a short script that counts the words in a file, but it is difficult to do the job to everyone's liking. Depending on the type of text, and the intended use of the word count, the criteria for counting a word may change. There will be occasions when you will want to write your own script that counts words just as you prefer. Here is a minimalist word counting script for text file from the Online Mendelian Inheritance in Man. Afterward we will explore both the script and the script output in more detail.*\n",
    "\n",
    "> This script will utilize the text file [mim2gene.txt](http://datamine.unc.edu/jupyter/edit/Methods-in-Medical-Informatics-master/mim2gene.txt). This is a text file that details the links between the genes in OMIM and other gene identifiers. Additional information [here](https://datamine.unc.edu/data-files/)\n",
    "\n",
    "**Description adapted from page 12 of \"Methods in Medical Informatics\".*"
   ]
  },
  {
   "cell_type": "code",
   "execution_count": null,
   "metadata": {
    "ExecuteTime": {
     "end_time": "2020-10-01T09:48:16.878854Z",
     "start_time": "2020-10-01T09:48:16.783160Z"
    },
    "hidden": true
   },
   "outputs": [],
   "source": [
    "import re\n",
    "import string\n",
    "total = 0\n",
    "line_list = []\n",
    "line_reduced = []\n",
    "in_text = open('mim2gene.txt', 'r')\n",
    "for line in in_text:\n",
    "    line_list = re.split(r'[ \\n]+',line)\n",
    "    line_reduced = [var for var in line_list if var != '']\n",
    "    total = total + len(line_reduced)\n",
    "print('Total Words in File:', total)\n",
    "#exit()"
   ]
  },
  {
   "cell_type": "markdown",
   "metadata": {
    "heading_collapsed": true,
    "hidden": true
   },
   "source": [
    "## Script Algorithm: Counting the Words in a File"
   ]
  },
  {
   "cell_type": "markdown",
   "metadata": {
    "hidden": true
   },
   "source": [
    "Open the file*"
   ]
  },
  {
   "cell_type": "code",
   "execution_count": null,
   "metadata": {
    "ExecuteTime": {
     "end_time": "2020-10-14T21:51:27.347010Z",
     "start_time": "2020-10-14T21:51:27.331054Z"
    },
    "hidden": true
   },
   "outputs": [],
   "source": [
    "import re\n",
    "import string\n",
    "total = 0\n",
    "line_list = []\n",
    "line_reduced = []\n",
    "in_text = open('mim2gene.txt', 'r')"
   ]
  },
  {
   "cell_type": "markdown",
   "metadata": {
    "hidden": true
   },
   "source": [
    "Parse through file line by line. Split each line into an array. Determine the size of the array. "
   ]
  },
  {
   "cell_type": "code",
   "execution_count": null,
   "metadata": {
    "ExecuteTime": {
     "end_time": "2020-10-14T21:51:28.962124Z",
     "start_time": "2020-10-14T21:51:28.872432Z"
    },
    "hidden": true
   },
   "outputs": [],
   "source": [
    "for line in in_text:\n",
    "    line_list = re.split(r'[ \\n]+',line)\n",
    "    line_reduced = [var for var in line_list if var != '']\n",
    "    total = total + len(line_reduced)"
   ]
  },
  {
   "cell_type": "markdown",
   "metadata": {
    "hidden": true
   },
   "source": [
    "Display the word count"
   ]
  },
  {
   "cell_type": "code",
   "execution_count": null,
   "metadata": {
    "ExecuteTime": {
     "end_time": "2020-10-14T21:51:31.235165Z",
     "start_time": "2020-10-14T21:51:31.215530Z"
    },
    "hidden": true
   },
   "outputs": [],
   "source": [
    "print('Total Words in File:', total)"
   ]
  },
  {
   "cell_type": "markdown",
   "metadata": {
    "hidden": true
   },
   "source": [
    "Exit the script"
   ]
  },
  {
   "cell_type": "code",
   "execution_count": null,
   "metadata": {
    "ExecuteTime": {
     "end_time": "2020-10-01T09:48:21.896423Z",
     "start_time": "2020-10-01T09:48:21.892398Z"
    },
    "hidden": true
   },
   "outputs": [],
   "source": [
    "#exit()"
   ]
  },
  {
   "cell_type": "markdown",
   "metadata": {
    "hidden": true
   },
   "source": [
    "**This section is adapted from section 1.5.1, \"Script Algorithm\", of pages 12-13 from \"Methods in Medical Informatics\".*"
   ]
  },
  {
   "cell_type": "markdown",
   "metadata": {
    "heading_collapsed": true,
    "hidden": true
   },
   "source": [
    "## Analysis: Counting the Words in a File"
   ]
  },
  {
   "cell_type": "markdown",
   "metadata": {
    "hidden": true
   },
   "source": [
    "The script produces the word count for the OMIM file, currently over 28,000 words, in mere seconds.*"
   ]
  },
  {
   "cell_type": "markdown",
   "metadata": {
    "hidden": true
   },
   "source": [
    "**This section is adapted from section 1.5.2, \"Analysis\", of page 14 from \"Methods in Medical Informatics\".*"
   ]
  },
  {
   "cell_type": "markdown",
   "metadata": {
    "heading_collapsed": true
   },
   "source": [
    "# Making a Word List with Occurrence Tally"
   ]
  },
  {
   "cell_type": "markdown",
   "metadata": {
    "hidden": true
   },
   "source": [
    "Sometimes you need to have a listing of all the different words in a document, and the number of occurrences of each word. A word frequency list can tell you a lot about a document. The script below will generate a word count and corresponding occurrence tally for a text file. Afterward we will explore both the script and the script output in more detail.*\n",
    "\n",
    "> This script will utilize the text file [mim2gene.txt](http://datamine.unc.edu/jupyter/edit/Methods-in-Medical-Informatics-master/mim2gene.txt). This is a text file that details the links between the genes in OMIM and other gene identifiers. Additional information [here](https://datamine.unc.edu/data-files/)\n",
    "\n",
    "**Description adapted from page 14 of \"Methods in Medical Informatics\".*"
   ]
  },
  {
   "cell_type": "code",
   "execution_count": null,
   "metadata": {
    "ExecuteTime": {
     "end_time": "2020-10-14T21:55:37.354438Z",
     "start_time": "2020-10-14T21:55:36.889573Z"
    },
    "hidden": true
   },
   "outputs": [],
   "source": [
    "import re\n",
    "import string\n",
    "word_list = []\n",
    "freq_list = []\n",
    "freq = {}\n",
    "in_text = open('mim2gene.txt', 'r')\n",
    "in_text_string = in_text.read()\n",
    "#out_text = open('mimgene_output.txt', 'w')\n",
    "in_text_string = in_text_string.lower()\n",
    "word_list = re.findall(r'(\\b[a-z]{3,15}\\b)', in_text_string)\n",
    "for item in word_list:\n",
    "    count = freq.get(item,0)\n",
    "    freq[item] = count + 1\n",
    "freq_list = freq.keys()\n",
    "sort_list = sorted(freq_list)\n",
    "for i in sort_list:\n",
    "    print(i, freq[i])\n",
    "#exit()"
   ]
  },
  {
   "cell_type": "markdown",
   "metadata": {
    "heading_collapsed": true,
    "hidden": true
   },
   "source": [
    "## Script Algorithm: Making a Word List with Occurrence Tally"
   ]
  },
  {
   "cell_type": "markdown",
   "metadata": {
    "hidden": true
   },
   "source": [
    "Open the text file to read. Open a separate text file to write the output.*"
   ]
  },
  {
   "cell_type": "code",
   "execution_count": null,
   "metadata": {
    "ExecuteTime": {
     "end_time": "2020-10-01T09:47:46.587522Z",
     "start_time": "2020-10-01T09:46:57.746Z"
    },
    "hidden": true
   },
   "outputs": [],
   "source": [
    "import re\n",
    "import string\n",
    "word_list = []\n",
    "freq_list = []\n",
    "freq = {}\n",
    "in_text = open('mim2gene.txt', 'r')\n",
    "in_text_string = in_text.read()\n",
    "#out_text = open('mimgene_output.txt', 'w')"
   ]
  },
  {
   "cell_type": "markdown",
   "metadata": {
    "hidden": true
   },
   "source": [
    "Lowercase the text file"
   ]
  },
  {
   "cell_type": "code",
   "execution_count": null,
   "metadata": {
    "ExecuteTime": {
     "end_time": "2020-10-01T09:47:46.588521Z",
     "start_time": "2020-10-01T09:46:57.748Z"
    },
    "hidden": true
   },
   "outputs": [],
   "source": [
    "in_text_string = in_text_string.lower()"
   ]
  },
  {
   "cell_type": "markdown",
   "metadata": {
    "hidden": true
   },
   "source": [
    "Create a general regex pattern to identify words"
   ]
  },
  {
   "cell_type": "code",
   "execution_count": null,
   "metadata": {
    "ExecuteTime": {
     "end_time": "2020-10-01T09:47:46.589518Z",
     "start_time": "2020-10-01T09:46:57.751Z"
    },
    "hidden": true
   },
   "outputs": [],
   "source": [
    "word_list = re.findall(r'(\\b[a-z]{3,15}\\b)', in_text_string)"
   ]
  },
  {
   "cell_type": "markdown",
   "metadata": {
    "hidden": true
   },
   "source": [
    "Traverse through the text file while matching for individual words. When a match is found, assign it to a dictionary as a key. Also increment the value of the key by one each time a match is found"
   ]
  },
  {
   "cell_type": "code",
   "execution_count": null,
   "metadata": {
    "ExecuteTime": {
     "end_time": "2020-10-01T09:47:46.590514Z",
     "start_time": "2020-10-01T09:46:57.755Z"
    },
    "hidden": true
   },
   "outputs": [],
   "source": [
    "for item in word_list:\n",
    "    count = freq.get(item,0)\n",
    "    freq[item] = count + 1"
   ]
  },
  {
   "cell_type": "markdown",
   "metadata": {
    "hidden": true
   },
   "source": [
    "Sort the dictionary key alphabetically"
   ]
  },
  {
   "cell_type": "code",
   "execution_count": null,
   "metadata": {
    "ExecuteTime": {
     "end_time": "2020-10-01T09:47:46.591512Z",
     "start_time": "2020-10-01T09:46:57.759Z"
    },
    "hidden": true
   },
   "outputs": [],
   "source": [
    "freq_list = freq.keys()\n",
    "sort_list = sorted(freq_list)"
   ]
  },
  {
   "cell_type": "markdown",
   "metadata": {
    "hidden": true
   },
   "source": [
    "Print the sorted list"
   ]
  },
  {
   "cell_type": "code",
   "execution_count": null,
   "metadata": {
    "ExecuteTime": {
     "end_time": "2020-10-01T09:47:46.593064Z",
     "start_time": "2020-10-01T09:46:57.765Z"
    },
    "hidden": true
   },
   "outputs": [],
   "source": [
    "for i in sort_list:\n",
    "    print(i, freq[i])"
   ]
  },
  {
   "cell_type": "markdown",
   "metadata": {
    "hidden": true
   },
   "source": [
    "Exit the script"
   ]
  },
  {
   "cell_type": "code",
   "execution_count": null,
   "metadata": {
    "ExecuteTime": {
     "end_time": "2020-10-01T09:47:46.595055Z",
     "start_time": "2020-10-01T09:46:57.769Z"
    },
    "hidden": true
   },
   "outputs": [],
   "source": [
    "#exit()"
   ]
  },
  {
   "cell_type": "markdown",
   "metadata": {
    "hidden": true
   },
   "source": [
    "**This section is adapted from section 1.6.1, \"Script Algorithm\", of page 14 from \"Methods in Medical Informatics\".*"
   ]
  },
  {
   "cell_type": "markdown",
   "metadata": {
    "heading_collapsed": true,
    "hidden": true
   },
   "source": [
    "## Analysis: Making a Word List with Occurrence Tally"
   ]
  },
  {
   "cell_type": "markdown",
   "metadata": {
    "hidden": true
   },
   "source": [
    "We loaded th entire text of OMIM, a text file exceeding 28,000 words, into a single variable. The script executed in mere seconds creating an output containing thousands of words and the number of times each word occurred within the text file. Here is a short sampling of the output file:\n",
    "\n",
    "<ul>\n",
    "    <li>ywhae 1</li>\n",
    "    <li>ywhag 1</li>\n",
    "    <li>ywhah 1</li>\n",
    "    <li>ywhaq 1</li>\n",
    "    <li>ywhaz 1</li>\n",
    "    <li>zacn 1</li>\n",
    "    <li>zan 1</li>\n",
    "    <li>zfat 1</li>\n",
    "    <li>zfr 1</li>\n",
    "    <li>zfx 1</li>\n",
    "    <li>zfy 1</li>\n",
    "    <li>zpbp 1</li>\n",
    "    <li>zwilch 1</li>\n",
    "    <li>zwint 1</li>\n",
    "    <li>zxda 1</li>\n",
    "    <li>zxdb 1</li>\n",
    "    <li>zxdc 1</li>\n",
    "    <li>zyx 1</li>\n",
    "</ul>\n",
    "\n",
    "Most languages contain between 20,000 and 60,000 words. Comprehensive dictionaries, that contain many more than 60,000 words, include all of the variant forms for a single word (ie. soft, softer, softest, soften, softens, etc...). When we examine the OMIM output list, we see that most of the so-called words are names of people, or misspellings. If you have a large file, and word occurs fewer than three times, it is unlikely to be a valid word. WHen we find a very high-frequency word, such as *with*, it is probably a low-information-content word used to connect other words. When we find a middle-frequency word, such as *kidney*, it is almost certainly a high-information-content word relevant to the document's knowledge domain.*\n",
    "\n",
    "**This section is adapted from section 1.6.2, \"Analysis\", of page 16 from \"Methods in Medical Informatics\".*"
   ]
  },
  {
   "cell_type": "markdown",
   "metadata": {
    "heading_collapsed": true
   },
   "source": [
    "# Using Printf Formatting Style"
   ]
  },
  {
   "cell_type": "markdown",
   "metadata": {
    "hidden": true
   },
   "source": [
    "Printf is programming convention which provides a simple way to specify the arrangement of data printed to an output line. Printf produces output in neat columns. The script below will create a word list with an occurrence tally for a MeSH text file. The script will also format the output using the Printf style. Afterward we will explore both the script and the script output in more detail.*\n",
    "\n",
    "> This script will utilize the binary file [d2020bin](http://localhost:8888/edit/Documents/GitHub/Methods-in-Medical-Informatics/d2020.bin). This is a binary file which list current Medical Subject Headings (MeSH) as of 2020. Additional information [here](https://datamine.unc.edu/data-files/)"
   ]
  },
  {
   "cell_type": "code",
   "execution_count": null,
   "metadata": {
    "ExecuteTime": {
     "end_time": "2020-10-15T01:42:52.990171Z",
     "start_time": "2020-10-15T01:42:45.208493Z"
    },
    "hidden": true
   },
   "outputs": [],
   "source": [
    "import re\n",
    "import string\n",
    "word_list = []\n",
    "freq_list = []\n",
    "freq = {}\n",
    "in_text = open('d2020.bin', 'r', encoding='utf-8')\n",
    "in_text_string = in_text.read()\n",
    "#out_text = open('mesh_output.txt', 'w')\n",
    "in_text_string = in_text_string.lower()\n",
    "word_list = re.findall(r'(\\b[a-z]{3,15}\\b)', in_text_string)\n",
    "for item in word_list:\n",
    "    count = freq.get(item,0)\n",
    "    freq[item] = count + 1\n",
    "freq_list = freq.keys()\n",
    "sort_list = sorted(freq_list)\n",
    "for i in sort_list:\n",
    "    print('%-20.20s %8.06d' % (i, freq[i]))\n",
    "#exit()"
   ]
  },
  {
   "cell_type": "markdown",
   "metadata": {
    "hidden": true
   },
   "source": [
    "**Description adapted from pages 16-17 of \"Methods in Medical Informatics\".*"
   ]
  },
  {
   "cell_type": "markdown",
   "metadata": {
    "heading_collapsed": true,
    "hidden": true
   },
   "source": [
    "## Script Algorithm: Using Printf Formatting Style"
   ]
  },
  {
   "cell_type": "markdown",
   "metadata": {
    "hidden": true
   },
   "source": [
    "Open the text file to read. Open a separate text file to write the output.*"
   ]
  },
  {
   "cell_type": "code",
   "execution_count": null,
   "metadata": {
    "ExecuteTime": {
     "end_time": "2020-10-14T22:05:44.101592Z",
     "start_time": "2020-10-14T22:05:43.818498Z"
    },
    "hidden": true
   },
   "outputs": [],
   "source": [
    "import re\n",
    "import string\n",
    "word_list = []\n",
    "freq_list = []\n",
    "freq = {}\n",
    "in_text = open('d2020.bin', 'r', encoding='utf-8')\n",
    "in_text_string = in_text.read()\n",
    "#out_text = open('mesh_output.txt', 'w')\n",
    "in_text_string = in_text_string.lower()"
   ]
  },
  {
   "cell_type": "markdown",
   "metadata": {
    "hidden": true
   },
   "source": [
    "Create a regex expression to identify individual words in the text file. "
   ]
  },
  {
   "cell_type": "code",
   "execution_count": null,
   "metadata": {
    "ExecuteTime": {
     "end_time": "2020-10-01T09:47:46.600078Z",
     "start_time": "2020-10-01T09:46:57.786Z"
    },
    "hidden": true
   },
   "outputs": [],
   "source": [
    "word_list = re.findall(r'(\\b[a-z]{3,15}\\b)', in_text_string)"
   ]
  },
  {
   "cell_type": "markdown",
   "metadata": {
    "hidden": true
   },
   "source": [
    "Iterate through the entire text file. When a match for an individual word is found, create a dictionary with the word as a key and an associated value to serve as a word count. "
   ]
  },
  {
   "cell_type": "code",
   "execution_count": null,
   "metadata": {
    "ExecuteTime": {
     "end_time": "2020-10-01T09:47:46.601037Z",
     "start_time": "2020-10-01T09:46:57.790Z"
    },
    "hidden": true
   },
   "outputs": [],
   "source": [
    "for item in word_list:\n",
    "    count = freq.get(item,0)\n",
    "    freq[item] = count + 1"
   ]
  },
  {
   "cell_type": "markdown",
   "metadata": {
    "hidden": true
   },
   "source": [
    "Sort the word list alphabetically"
   ]
  },
  {
   "cell_type": "code",
   "execution_count": null,
   "metadata": {
    "ExecuteTime": {
     "end_time": "2020-10-01T09:47:46.602036Z",
     "start_time": "2020-10-01T09:46:57.793Z"
    },
    "hidden": true
   },
   "outputs": [],
   "source": [
    "freq_list = freq.keys()\n",
    "sort_list = sorted(freq_list)"
   ]
  },
  {
   "cell_type": "markdown",
   "metadata": {
    "ExecuteTime": {
     "end_time": "2020-10-01T08:30:58.156045Z",
     "start_time": "2020-10-01T08:30:58.151057Z"
    },
    "hidden": true
   },
   "source": [
    "Print the formatted list"
   ]
  },
  {
   "cell_type": "code",
   "execution_count": null,
   "metadata": {
    "ExecuteTime": {
     "end_time": "2020-10-01T09:47:46.603031Z",
     "start_time": "2020-10-01T09:46:57.797Z"
    },
    "hidden": true
   },
   "outputs": [],
   "source": [
    "for i in sort_list:\n",
    "    print('%-20.20s %8.06d' % (i, freq[i]))"
   ]
  },
  {
   "cell_type": "markdown",
   "metadata": {
    "hidden": true
   },
   "source": [
    "Exit the script"
   ]
  },
  {
   "cell_type": "code",
   "execution_count": null,
   "metadata": {
    "ExecuteTime": {
     "end_time": "2020-10-01T09:47:46.604029Z",
     "start_time": "2020-10-01T09:46:57.800Z"
    },
    "hidden": true
   },
   "outputs": [],
   "source": [
    "#Exit()"
   ]
  },
  {
   "cell_type": "markdown",
   "metadata": {
    "hidden": true
   },
   "source": [
    "**Description adapted from page 17 of \"Methods in Medical Informatics\".*"
   ]
  },
  {
   "cell_type": "markdown",
   "metadata": {
    "heading_collapsed": true,
    "hidden": true
   },
   "source": [
    "## Analysis: Using Printf Formatting Style"
   ]
  },
  {
   "cell_type": "markdown",
   "metadata": {
    "hidden": true
   },
   "source": [
    "Here is a partial output, showing the tail-end of the output file, listing each occurring word and the number of occurrences in the file:* \n",
    "\n",
    "<ul>\n",
    "    <li>zymogen                000013</li>\n",
    "<li>zymogenic              000006</li>\n",
    "<li>zymogens               000001</li>\n",
    "<li>zymolase               000001</li>\n",
    "<li>zymomonas              000002</li>\n",
    "<li>zymosan                000002</li>\n",
    "<li>zymosans               000001</li>\n",
    "<li>zyntabac               000001</li>\n",
    "<li>zyprexa                000001</li>\n",
    "<li>zyrtec                 000001</li>\n",
    "<li>zytiga                 000001</li>\n",
    "<li>zytram                 000001</li>\n",
    "<li>zyvox                  000001</li>\n",
    "<li>zyxin                  000003</li>\n",
    "</ul>"
   ]
  },
  {
   "cell_type": "markdown",
   "metadata": {
    "hidden": true
   },
   "source": [
    "**This section is adapted from section 1.7.2, \"Analysis\", of page 18 from \"Methods in Medical Informatics\".*"
   ]
  }
 ],
 "metadata": {
  "kernelspec": {
   "display_name": "Python 3",
   "language": "python",
   "name": "python3"
  },
  "language_info": {
   "codemirror_mode": {
    "name": "ipython",
    "version": 3
   },
   "file_extension": ".py",
   "mimetype": "text/x-python",
   "name": "python",
   "nbconvert_exporter": "python",
   "pygments_lexer": "ipython3",
   "version": "3.7.4"
  },
  "toc": {
   "base_numbering": 1,
   "nav_menu": {},
   "number_sections": true,
   "sideBar": true,
   "skip_h1_title": false,
   "title_cell": "Table of Contents",
   "title_sidebar": "Contents",
   "toc_cell": false,
   "toc_position": {},
   "toc_section_display": true,
   "toc_window_display": false
  }
 },
 "nbformat": 4,
 "nbformat_minor": 4
}
