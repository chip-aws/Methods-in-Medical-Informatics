{
 "cells": [
  {
   "cell_type": "markdown",
   "metadata": {},
   "source": [
    "# Grabbing Web Pages"
   ]
  },
  {
   "cell_type": "code",
   "execution_count": null,
   "metadata": {},
   "outputs": [],
   "source": [
    "import urllib2\n",
    "req = urllib2.Request(‘http://www.julesberman.info/factoids/batch.htm’)\n",
    "try:\n",
    "    response = urllib2.urlopen(req)\n",
    "except urllib2.HTTPError, e:\n",
    "    print ‘The server couldn\\’t fulfill the request.’\n",
    "    print ‘Error code: ‘, e.code\n",
    "except urllib2.URLError, e:\n",
    "    print ‘We failed to reach a server.’\n",
    "    print ‘Reason: ‘, e.reason\n",
    "else:\n",
    "    print urllib2.urlopen(req).read()\n",
    "req = urllib2.Request(‘http://www.julesberman.info/factoids/xxxxx.htm’)\n",
    "try:\n",
    "    response = urllib2.urlopen(req)\n",
    "except urllib2.HTTPError, e:\n",
    "    print ‘The server couldn\\’t fulfill the request.’\n",
    "    print ‘Error code: ‘, e.code\n",
    "except urllib2.URLError, e:\n",
    "    print ‘We failed to reach a server.’\n",
    "    print ‘Reason: ‘, e.reason\n",
    "else:\n",
    "    print urllib2.urlopen(req).read()"
   ]
  },
  {
   "cell_type": "markdown",
   "metadata": {},
   "source": [
    "# CGI Scipt for Searching the Neoplasm Classification"
   ]
  },
  {
   "cell_type": "markdown",
   "metadata": {},
   "source": [
    "HTML text for client (requesting) web page:\n",
    "\n",
    "<html>\n",
    "<head>\n",
    "<title>post</title>\n",
    "</head>\n",
    "<body>\n",
    "<br><form name=”sender” method=”GET”\n",
    "action=”http://www.julesberman.info/cgi-bin/neopull.py”>\n",
    "<br><center><input type=”text” name=”tx” size=38\n",
    "maxlength=48 value=””>\n",
    "<input type=”submit” name=”bx” value=”SUBMIT”></center>\n",
    "</form>\n",
    "<br><br>\n",
    "</body>\n",
    "</html>"
   ]
  },
  {
   "cell_type": "code",
   "execution_count": null,
   "metadata": {},
   "outputs": [],
   "source": [
    "import cgi, re, sys\n",
    "import cgitb; cgitb.enable()\n",
    "print “Content-type: text/html”\n",
    "print\n",
    "print “<html><head><title>Sample CGI Script</title></head><body>”\n",
    "form = cgi.FieldStorage()\n",
    "message = form.getvalue(“tx”, “(no message)”)\n",
    "term_check = re.search(r’[A-Za-z ]+$’, message)\n",
    "if not term_check:\n",
    "    print “<br>Only alphabetic letters and spaces are permitted in the query box”\n",
    "    print “</body></html>”\n",
    "    sys.exit()\n",
    "print “<br>Your query term is “ + message + “<br>”\n",
    "in_text = open(“neoself”, “r”)\n",
    "for line in in_text:\n",
    "    query_match = re.search(message, line)\n",
    "    if query_match:\n",
    "        line = re.sub(r’\\|’,”<br>”, line)\n",
    "        print “<br>” + line + “<br>”"
   ]
  }
 ],
 "metadata": {
  "kernelspec": {
   "display_name": "Python 3",
   "language": "python",
   "name": "python3"
  },
  "language_info": {
   "codemirror_mode": {
    "name": "ipython",
    "version": 3
   },
   "file_extension": ".py",
   "mimetype": "text/x-python",
   "name": "python",
   "nbconvert_exporter": "python",
   "pygments_lexer": "ipython3",
   "version": "3.7.4"
  },
  "toc": {
   "base_numbering": 1,
   "nav_menu": {},
   "number_sections": true,
   "sideBar": true,
   "skip_h1_title": false,
   "title_cell": "Table of Contents",
   "title_sidebar": "Contents",
   "toc_cell": false,
   "toc_position": {},
   "toc_section_display": true,
   "toc_window_display": false
  }
 },
 "nbformat": 4,
 "nbformat_minor": 4
}
