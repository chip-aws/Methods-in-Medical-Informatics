{
 "cells": [
  {
   "cell_type": "markdown",
   "metadata": {},
   "source": [
    "# Parsing XML"
   ]
  },
  {
   "cell_type": "code",
   "execution_count": 1,
   "metadata": {
    "ExecuteTime": {
     "end_time": "2020-11-14T21:17:39.380199Z",
     "start_time": "2020-11-14T21:17:39.108781Z"
    }
   },
   "outputs": [],
   "source": [
    "import xml.sax\n",
    "import pprint\n",
    "parser = xml.sax.make_parser( )\n",
    "parser.parse('./K11946_Files/NEOCL.XML')"
   ]
  },
  {
   "cell_type": "markdown",
   "metadata": {},
   "source": [
    "# Dublin Core Metadata"
   ]
  },
  {
   "cell_type": "markdown",
   "metadata": {},
   "source": [
    "# Insert an RDF Document into an Image File"
   ]
  },
  {
   "cell_type": "code",
   "execution_count": 6,
   "metadata": {
    "ExecuteTime": {
     "end_time": "2020-11-14T21:21:49.614354Z",
     "start_time": "2020-11-14T21:21:49.268799Z"
    }
   },
   "outputs": [],
   "source": [
    "def pngsave(im, file):\n",
    "    from PIL import PngImagePlugin\n",
    "    meta = PngImagePlugin.PngInfo()\n",
    "    for k,v in im.info.items():\n",
    "        meta.add_text(k, v, 0)\n",
    "    im.save(file, \"PNG\", pnginfo=meta)\n",
    "from PIL import Image\n",
    "image = Image.open(\"./K11946_Files/3320.jpg\")\n",
    "image.save(\"./K11946_Files/3320.png\")\n",
    "rdf_file = open(\"./K11946_Files/RDF_DESC.XML\", \"rb\")\n",
    "description = rdf_file.read()\n",
    "rdf_file.close()\n",
    "im = Image.open(\"./K11946_Files/3320.png\")\n",
    "im.info[\"description\"] = description\n",
    "pngsave(im, \"./K11946_Files/3320.png\")"
   ]
  },
  {
   "cell_type": "markdown",
   "metadata": {},
   "source": [
    "# Insert an Image File into an RDF Document"
   ]
  },
  {
   "cell_type": "code",
   "execution_count": 16,
   "metadata": {
    "ExecuteTime": {
     "end_time": "2020-11-14T21:29:00.932451Z",
     "start_time": "2020-11-14T21:29:00.908422Z"
    }
   },
   "outputs": [
    {
     "ename": "TypeError",
     "evalue": "can only concatenate str (not \"bytes\") to str",
     "output_type": "error",
     "traceback": [
      "\u001b[1;31m---------------------------------------------------------------------------\u001b[0m",
      "\u001b[1;31mTypeError\u001b[0m                                 Traceback (most recent call last)",
      "\u001b[1;32m<ipython-input-16-1ac7ec3e02d8>\u001b[0m in \u001b[0;36m<module>\u001b[1;34m\u001b[0m\n\u001b[0;32m     10\u001b[0m \u001b[0mrdflist\u001b[0m \u001b[1;33m=\u001b[0m \u001b[0mre\u001b[0m\u001b[1;33m.\u001b[0m\u001b[0msplit\u001b[0m\u001b[1;33m(\u001b[0m\u001b[1;34mr'dc:description>'\u001b[0m\u001b[1;33m,\u001b[0m \u001b[0mrdf_string\u001b[0m\u001b[1;33m)\u001b[0m\u001b[1;33m\u001b[0m\u001b[1;33m\u001b[0m\u001b[0m\n\u001b[0;32m     11\u001b[0m \u001b[0mcontents\u001b[0m \u001b[1;33m=\u001b[0m \u001b[0mrdflist\u001b[0m\u001b[1;33m[\u001b[0m\u001b[1;36m0\u001b[0m\u001b[1;33m]\u001b[0m \u001b[1;33m+\u001b[0m \u001b[1;34m\"dc:description>BEGIN\\n\"\u001b[0m \u001b[1;33m+\u001b[0m\u001b[0;31m \u001b[0m\u001b[0;31m\\\u001b[0m\u001b[1;33m\u001b[0m\u001b[1;33m\u001b[0m\u001b[0m\n\u001b[1;32m---> 12\u001b[1;33m \u001b[0mencoded\u001b[0m \u001b[1;33m+\u001b[0m \u001b[1;34m\"END\\n\"\u001b[0m \u001b[1;33m+\u001b[0m \u001b[0mrdflist\u001b[0m\u001b[1;33m[\u001b[0m\u001b[1;36m1\u001b[0m\u001b[1;33m]\u001b[0m \u001b[1;33m+\u001b[0m \u001b[1;34m\"dc:description\"\u001b[0m \u001b[1;33m+\u001b[0m \u001b[0mrdflist\u001b[0m\u001b[1;33m[\u001b[0m\u001b[1;36m2\u001b[0m\u001b[1;33m]\u001b[0m\u001b[1;33m\u001b[0m\u001b[1;33m\u001b[0m\u001b[0m\n\u001b[0m\u001b[0;32m     13\u001b[0m \u001b[0mrdf_out\u001b[0m \u001b[1;33m=\u001b[0m \u001b[0mopen\u001b[0m\u001b[1;33m(\u001b[0m\u001b[1;34m\"c:/ftp/rdf_image.xml\"\u001b[0m\u001b[1;33m,\u001b[0m \u001b[1;34m\"w\"\u001b[0m\u001b[1;33m)\u001b[0m\u001b[1;33m\u001b[0m\u001b[1;33m\u001b[0m\u001b[0m\n\u001b[0;32m     14\u001b[0m \u001b[0mprint\u001b[0m\u001b[1;33m(\u001b[0m\u001b[0mrdf_out\u001b[0m\u001b[1;33m,\u001b[0m \u001b[0mcontents\u001b[0m\u001b[1;33m)\u001b[0m\u001b[1;33m\u001b[0m\u001b[1;33m\u001b[0m\u001b[0m\n",
      "\u001b[1;31mTypeError\u001b[0m: can only concatenate str (not \"bytes\") to str"
     ]
    }
   ],
   "source": [
    "import base64, re\n",
    "image_file = open(\"./K11946_Files/3320.jpg\", \"rb\")\n",
    "image_string = image_file.read()\n",
    "image_file.close()\n",
    "contents = \"\"\n",
    "encoded = base64.encodebytes(image_string)\n",
    "rdf_file = open(\"./K11946_Files/RDF_DESC.XML\", \"r\")\n",
    "rdf_string = rdf_file.read()\n",
    "rdf_file.close()\n",
    "rdflist = re.split(r'dc:description>', rdf_string)\n",
    "contents = rdflist[0] + \"dc:description>BEGIN\\n\" + \\\n",
    "encoded + \"END\\n\" + rdflist[1] + \"dc:description\" + rdflist[2]\n",
    "rdf_out = open(\"c:/ftp/rdf_image.xml\", \"w\")\n",
    "print(rdf_out, contents)"
   ]
  },
  {
   "cell_type": "markdown",
   "metadata": {},
   "source": [
    "# RDF Schema"
   ]
  },
  {
   "cell_type": "markdown",
   "metadata": {},
   "source": [
    "# Visualizing an RDF Schema with GraphViz"
   ]
  },
  {
   "cell_type": "code",
   "execution_count": null,
   "metadata": {},
   "outputs": [],
   "source": []
  }
 ],
 "metadata": {
  "kernelspec": {
   "display_name": "Python 3",
   "language": "python",
   "name": "python3"
  },
  "language_info": {
   "codemirror_mode": {
    "name": "ipython",
    "version": 3
   },
   "file_extension": ".py",
   "mimetype": "text/x-python",
   "name": "python",
   "nbconvert_exporter": "python",
   "pygments_lexer": "ipython3",
   "version": "3.7.4"
  },
  "toc": {
   "base_numbering": 1,
   "nav_menu": {},
   "number_sections": true,
   "sideBar": true,
   "skip_h1_title": false,
   "title_cell": "Table of Contents",
   "title_sidebar": "Contents",
   "toc_cell": false,
   "toc_position": {},
   "toc_section_display": true,
   "toc_window_display": false
  }
 },
 "nbformat": 4,
 "nbformat_minor": 4
}
