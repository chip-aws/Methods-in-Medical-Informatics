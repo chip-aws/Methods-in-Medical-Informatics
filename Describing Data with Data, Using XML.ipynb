{
 "cells": [
  {
   "cell_type": "markdown",
   "metadata": {},
   "source": [
    "# Parsing XML"
   ]
  },
  {
   "cell_type": "code",
   "execution_count": null,
   "metadata": {},
   "outputs": [],
   "source": [
    "import xml.sax\n",
    "import pprint\n",
    "parser = xml.sax.make_parser( )\n",
    "parser.parse(‘C:\\\\ftp\\\\neocl.xml’)"
   ]
  },
  {
   "cell_type": "markdown",
   "metadata": {},
   "source": [
    "# Dublin Core Metadata"
   ]
  },
  {
   "cell_type": "markdown",
   "metadata": {},
   "source": [
    "# Insert an RDF Document into an Image File"
   ]
  },
  {
   "cell_type": "code",
   "execution_count": null,
   "metadata": {},
   "outputs": [],
   "source": [
    "def pngsave(im, file):\n",
    "    from PIL import PngImagePlugin\n",
    "    meta = PngImagePlugin.PngInfo()\n",
    "    for k,v in im.info.iteritems():\n",
    "        meta.add_text(k, v, 0)\n",
    "    im.save(file, “PNG”, pnginfo=meta)\n",
    "from PIL import Image\n",
    "image = Image.open(“c:/ftp/3320.jpg”)\n",
    "image.save(“c:/ftp/3320.png”)\n",
    "rdf_file = open(“c:/ftp/rdf_desc.xml”, “rb”)\n",
    "description = rdf_file.read()\n",
    "rdf_file.close()\n",
    "im = Image.open(“c:/ftp/3320.png”)\n",
    "im.info[“description”] = description\n",
    "pngsave(im, “c:/ftp/3320.png”)"
   ]
  },
  {
   "cell_type": "markdown",
   "metadata": {},
   "source": [
    "# Insert an Image File into an RDF Document"
   ]
  },
  {
   "cell_type": "code",
   "execution_count": null,
   "metadata": {},
   "outputs": [],
   "source": [
    "import base64, re\n",
    "image_file = open(“c:/ftp/3320.jpg”, “rb”)\n",
    "image_string = image_file.read()\n",
    "image_file.close()\n",
    "contents = “”\n",
    "encoded = base64.encodestring(image_string)\n",
    "rdf_file = open(“c:/ftp/rdf_desc.xml”, “r”)\n",
    "rdf_string = rdf_file.read()\n",
    "rdf_file.close()\n",
    "rdflist = re.split(r’dc:description>’, rdf_string)\n",
    "contents = rdflist[0] + “dc:description>BEGIN\\n” + \\\n",
    "encoded + “END\\n” + rdflist[1] + “dc:description” + rdflist[2]\n",
    "rdf_out = open(“c:/ftp/rdf_image.xml”, “w”)\n",
    "print>>rdf_out, contents"
   ]
  },
  {
   "cell_type": "markdown",
   "metadata": {},
   "source": [
    "# RDF Schema"
   ]
  },
  {
   "cell_type": "markdown",
   "metadata": {},
   "source": [
    "# Visualizing an RDF Schema with GraphViz"
   ]
  },
  {
   "cell_type": "code",
   "execution_count": null,
   "metadata": {},
   "outputs": [],
   "source": []
  }
 ],
 "metadata": {
  "kernelspec": {
   "display_name": "Python 3",
   "language": "python",
   "name": "python3"
  },
  "language_info": {
   "codemirror_mode": {
    "name": "ipython",
    "version": 3
   },
   "file_extension": ".py",
   "mimetype": "text/x-python",
   "name": "python",
   "nbconvert_exporter": "python",
   "pygments_lexer": "ipython3",
   "version": "3.7.4"
  },
  "toc": {
   "base_numbering": 1,
   "nav_menu": {},
   "number_sections": true,
   "sideBar": true,
   "skip_h1_title": false,
   "title_cell": "Table of Contents",
   "title_sidebar": "Contents",
   "toc_cell": false,
   "toc_position": {},
   "toc_section_display": true,
   "toc_window_display": false
  }
 },
 "nbformat": 4,
 "nbformat_minor": 4
}
